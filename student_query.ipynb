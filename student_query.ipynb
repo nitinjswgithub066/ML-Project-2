{
 "cells": [
  {
   "cell_type": "markdown",
   "id": "3838b48b",
   "metadata": {},
   "source": [
    "## Intelligent Student Query Advisor and FAQ Enhancer\n",
    "\n",
    "### Project Outline :\n",
    "\n",
    "* Project Introduction (Overview & Problem Statement)\n",
    "* Data Description (Question & Database Information)\n",
    "* Exploratory Data Analysis (EDA)\n",
    "* Feature Engineering\n",
    "* Machine Learning Models\n",
    "* Model Evaluation\n",
    "* Model Interpretability\n"
   ]
  },
  {
   "cell_type": "markdown",
   "id": "21788923",
   "metadata": {},
   "source": [
    "### Overview :\n",
    "This project is designed to build an end-to-end machine learning pipeline that efficiently processes student queries, categorizes them, predicts key service metrics, and uncovers hidden patterns in the data. By integrating both supervised and unsupervised learning techniques along with a robust database, the project aims to improve query resolution, enhance support services, and provide valuable insights for decision-makers"
   ]
  },
  {
   "cell_type": "markdown",
   "id": "626ae818",
   "metadata": {},
   "source": [
    "### Problem Statement :\n",
    "\n",
    "Educational institutions often receive a high volume of student queries covering diverse topics such as academics, finances, and technical issues. Managing and responding to these queries efficiently is crucial for enhancing student satisfaction and administrative productivity. This project aims to develop a machine learning model to classify, predict, and analyze student queries while uncovering trends and improving decision-making processes—all within a structured Jupyter Notebook environment."
   ]
  },
  {
   "cell_type": "markdown",
   "id": "df59024d",
   "metadata": {},
   "source": [
    "**Question :** The University of Excellence is looking to modernize its student support system. The administration wants to implement an automated system that processes student queries submitted via an online portal. Your organization has collected historical data comprising student questions, query categories, response times, satisfaction ratings, and response flag. The aim is to design an end-to-end pipeline that will not only predict relevant answers based on past interactions but also analyze emerging trends from new queries.\n",
    "\n",
    "You're provided with a CSV file capturing student queries along with metadata such as Query ID, Timestamp, Student ID, Query Text, Query Category, Satisfaction Score, Response Time, Resolved Flag."
   ]
  },
  {
   "cell_type": "code",
   "execution_count": 66,
   "id": "bc61d5a3",
   "metadata": {},
   "outputs": [],
   "source": [
    "# Data Handling & Processing\n",
    "import pandas as pd # panels for data manipulation and analysis\n",
    "import numpy as np # numerical computing library"
   ]
  },
  {
   "cell_type": "code",
   "execution_count": 67,
   "id": "d58f2bbd",
   "metadata": {},
   "outputs": [],
   "source": [
    "# Visualization Libraries\n",
    "import matplotlib.pyplot as plt\n",
    "import seaborn as sns\n",
    "from wordcloud import WordCloud\n",
    "import plotly.express as px  # For interactive visualizations"
   ]
  },
  {
   "cell_type": "code",
   "execution_count": 68,
   "id": "eca982e3",
   "metadata": {},
   "outputs": [],
   "source": [
    "# Machine Learning Libraries\n",
    "from sklearn.model_selection import train_test_split\n",
    "from sklearn.preprocessing import LabelEncoder, StandardScaler\n",
    "from sklearn.ensemble import RandomForestClassifier\n",
    "from sklearn.linear_model import LinearRegression\n",
    "from sklearn.cluster import KMeans\n",
    "from sklearn.metrics import (accuracy_score, classification_report, confusion_matrix, mean_absolute_error, mean_squared_error, r2_score)"
   ]
  },
  {
   "cell_type": "code",
   "execution_count": 69,
   "id": "f7d8fefc",
   "metadata": {},
   "outputs": [],
   "source": [
    "# Model Interpretability Alternative\n",
    "from lime.lime_tabular import LimeTabularExplainer"
   ]
  },
  {
   "cell_type": "code",
   "execution_count": 70,
   "id": "c6a6e95f",
   "metadata": {},
   "outputs": [],
   "source": [
    "# Disable warnings\n",
    "import warnings\n",
    "warnings.filterwarnings(\"ignore\")"
   ]
  },
  {
   "cell_type": "markdown",
   "id": "473d3656",
   "metadata": {},
   "source": [
    "### Load the Dataset"
   ]
  },
  {
   "cell_type": "code",
   "execution_count": 71,
   "id": "2ffba743",
   "metadata": {},
   "outputs": [
    {
     "name": "stdout",
     "output_type": "stream",
     "text": [
      "Dataset Loaded Successfully.\n"
     ]
    }
   ],
   "source": [
    "# Load the dataset\n",
    "stu_query = pd.read_csv(\"query_data.csv\")\n",
    "print(\"Dataset Loaded Successfully.\")"
   ]
  },
  {
   "cell_type": "code",
   "execution_count": 72,
   "id": "832b1106",
   "metadata": {},
   "outputs": [
    {
     "data": {
      "text/html": [
       "<div>\n",
       "<style scoped>\n",
       "    .dataframe tbody tr th:only-of-type {\n",
       "        vertical-align: middle;\n",
       "    }\n",
       "\n",
       "    .dataframe tbody tr th {\n",
       "        vertical-align: top;\n",
       "    }\n",
       "\n",
       "    .dataframe thead th {\n",
       "        text-align: right;\n",
       "    }\n",
       "</style>\n",
       "<table border=\"1\" class=\"dataframe\">\n",
       "  <thead>\n",
       "    <tr style=\"text-align: right;\">\n",
       "      <th></th>\n",
       "      <th>Query_ID</th>\n",
       "      <th>Timestamp</th>\n",
       "      <th>Student_ID</th>\n",
       "      <th>Query_Text</th>\n",
       "      <th>Query_Category</th>\n",
       "      <th>Satisfaction_Score</th>\n",
       "      <th>Response_Time</th>\n",
       "      <th>Resolved_Flag</th>\n",
       "    </tr>\n",
       "  </thead>\n",
       "  <tbody>\n",
       "    <tr>\n",
       "      <th>0</th>\n",
       "      <td>1</td>\n",
       "      <td>2025-04-01 09:05:00</td>\n",
       "      <td>1069</td>\n",
       "      <td>What is the deadline for fee payment?</td>\n",
       "      <td>Technical</td>\n",
       "      <td>4.6</td>\n",
       "      <td>17</td>\n",
       "      <td>No</td>\n",
       "    </tr>\n",
       "    <tr>\n",
       "      <th>1</th>\n",
       "      <td>2</td>\n",
       "      <td>2025-04-01 09:10:00</td>\n",
       "      <td>1021</td>\n",
       "      <td>How can I get a transcript?</td>\n",
       "      <td>Administrative</td>\n",
       "      <td>3.9</td>\n",
       "      <td>10</td>\n",
       "      <td>No</td>\n",
       "    </tr>\n",
       "    <tr>\n",
       "      <th>2</th>\n",
       "      <td>3</td>\n",
       "      <td>2025-04-01 09:15:00</td>\n",
       "      <td>1060</td>\n",
       "      <td>I need help with course selection.</td>\n",
       "      <td>Administrative</td>\n",
       "      <td>4.4</td>\n",
       "      <td>22</td>\n",
       "      <td>Yes</td>\n",
       "    </tr>\n",
       "    <tr>\n",
       "      <th>3</th>\n",
       "      <td>4</td>\n",
       "      <td>2025-04-01 09:20:00</td>\n",
       "      <td>1057</td>\n",
       "      <td>How can I get a transcript?</td>\n",
       "      <td>Administrative</td>\n",
       "      <td>3.7</td>\n",
       "      <td>40</td>\n",
       "      <td>Yes</td>\n",
       "    </tr>\n",
       "    <tr>\n",
       "      <th>4</th>\n",
       "      <td>5</td>\n",
       "      <td>2025-04-01 09:25:00</td>\n",
       "      <td>1073</td>\n",
       "      <td>My grade has not been updated.</td>\n",
       "      <td>Academic</td>\n",
       "      <td>4.8</td>\n",
       "      <td>44</td>\n",
       "      <td>No</td>\n",
       "    </tr>\n",
       "    <tr>\n",
       "      <th>...</th>\n",
       "      <td>...</td>\n",
       "      <td>...</td>\n",
       "      <td>...</td>\n",
       "      <td>...</td>\n",
       "      <td>...</td>\n",
       "      <td>...</td>\n",
       "      <td>...</td>\n",
       "      <td>...</td>\n",
       "    </tr>\n",
       "    <tr>\n",
       "      <th>1495</th>\n",
       "      <td>1496</td>\n",
       "      <td>2025-04-06 13:40:00</td>\n",
       "      <td>1033</td>\n",
       "      <td>I forgot my password, need assistance.</td>\n",
       "      <td>Financial</td>\n",
       "      <td>3.4</td>\n",
       "      <td>29</td>\n",
       "      <td>No</td>\n",
       "    </tr>\n",
       "    <tr>\n",
       "      <th>1496</th>\n",
       "      <td>1497</td>\n",
       "      <td>2025-04-06 13:45:00</td>\n",
       "      <td>1098</td>\n",
       "      <td>When is the semester starting?</td>\n",
       "      <td>Administrative</td>\n",
       "      <td>3.4</td>\n",
       "      <td>36</td>\n",
       "      <td>Yes</td>\n",
       "    </tr>\n",
       "    <tr>\n",
       "      <th>1497</th>\n",
       "      <td>1498</td>\n",
       "      <td>2025-04-06 13:50:00</td>\n",
       "      <td>1006</td>\n",
       "      <td>Website shows error 404.</td>\n",
       "      <td>Financial</td>\n",
       "      <td>3.4</td>\n",
       "      <td>27</td>\n",
       "      <td>No</td>\n",
       "    </tr>\n",
       "    <tr>\n",
       "      <th>1498</th>\n",
       "      <td>1499</td>\n",
       "      <td>2025-04-06 13:55:00</td>\n",
       "      <td>1034</td>\n",
       "      <td>How can I get a transcript?</td>\n",
       "      <td>Academic</td>\n",
       "      <td>4.9</td>\n",
       "      <td>31</td>\n",
       "      <td>No</td>\n",
       "    </tr>\n",
       "    <tr>\n",
       "      <th>1499</th>\n",
       "      <td>1500</td>\n",
       "      <td>2025-04-06 14:00:00</td>\n",
       "      <td>1065</td>\n",
       "      <td>How can I get a transcript?</td>\n",
       "      <td>Administrative</td>\n",
       "      <td>4.1</td>\n",
       "      <td>24</td>\n",
       "      <td>No</td>\n",
       "    </tr>\n",
       "  </tbody>\n",
       "</table>\n",
       "<p>1500 rows × 8 columns</p>\n",
       "</div>"
      ],
      "text/plain": [
       "      Query_ID            Timestamp  Student_ID  \\\n",
       "0            1  2025-04-01 09:05:00        1069   \n",
       "1            2  2025-04-01 09:10:00        1021   \n",
       "2            3  2025-04-01 09:15:00        1060   \n",
       "3            4  2025-04-01 09:20:00        1057   \n",
       "4            5  2025-04-01 09:25:00        1073   \n",
       "...        ...                  ...         ...   \n",
       "1495      1496  2025-04-06 13:40:00        1033   \n",
       "1496      1497  2025-04-06 13:45:00        1098   \n",
       "1497      1498  2025-04-06 13:50:00        1006   \n",
       "1498      1499  2025-04-06 13:55:00        1034   \n",
       "1499      1500  2025-04-06 14:00:00        1065   \n",
       "\n",
       "                                  Query_Text  Query_Category  \\\n",
       "0      What is the deadline for fee payment?       Technical   \n",
       "1                How can I get a transcript?  Administrative   \n",
       "2         I need help with course selection.  Administrative   \n",
       "3                How can I get a transcript?  Administrative   \n",
       "4             My grade has not been updated.        Academic   \n",
       "...                                      ...             ...   \n",
       "1495  I forgot my password, need assistance.       Financial   \n",
       "1496          When is the semester starting?  Administrative   \n",
       "1497                Website shows error 404.       Financial   \n",
       "1498             How can I get a transcript?        Academic   \n",
       "1499             How can I get a transcript?  Administrative   \n",
       "\n",
       "      Satisfaction_Score  Response_Time Resolved_Flag  \n",
       "0                    4.6             17            No  \n",
       "1                    3.9             10            No  \n",
       "2                    4.4             22           Yes  \n",
       "3                    3.7             40           Yes  \n",
       "4                    4.8             44            No  \n",
       "...                  ...            ...           ...  \n",
       "1495                 3.4             29            No  \n",
       "1496                 3.4             36           Yes  \n",
       "1497                 3.4             27            No  \n",
       "1498                 4.9             31            No  \n",
       "1499                 4.1             24            No  \n",
       "\n",
       "[1500 rows x 8 columns]"
      ]
     },
     "execution_count": 72,
     "metadata": {},
     "output_type": "execute_result"
    }
   ],
   "source": [
    "stu_query # Display all the columns in the dataset"
   ]
  },
  {
   "cell_type": "markdown",
   "id": "8d8d646a",
   "metadata": {},
   "source": [
    "### Data Preprocessing (Cleaning the data)"
   ]
  },
  {
   "cell_type": "markdown",
   "id": "a773647e",
   "metadata": {},
   "source": [
    "Data preprocessing ( cleaning ) is a crucial step to ensure the dataset is clean and ready for analysis and modeling. In this project, preprocessing involved:\n",
    "\n",
    "- **Handling Missing Values and Duplicates:** Checked for any missing data and removed duplicate records to maintain data quality.\n",
    "- **Encoding Categorical Variables:** Converted text-based categories (like `Query_Category` and `Resolved_Flag`) into numerical values using label encoding, making them suitable for machine learning algorithms.\n",
    "- **Feature Scaling:** Standardized numerical features such as `Response_Time` and `Satisfaction_Score` so that all values are on a similar scale, improving model performance.\n",
    "\n",
    "These steps help create a consistent and reliable dataset for further analysis and machine learning tasks."
   ]
  },
  {
   "cell_type": "code",
   "execution_count": 73,
   "id": "dca6b4ac",
   "metadata": {},
   "outputs": [
    {
     "name": "stdout",
     "output_type": "stream",
     "text": [
      "Missing Values:\n",
      " Query_ID              0\n",
      "Timestamp             0\n",
      "Student_ID            0\n",
      "Query_Text            0\n",
      "Query_Category        0\n",
      "Satisfaction_Score    0\n",
      "Response_Time         0\n",
      "Resolved_Flag         0\n",
      "dtype: int64\n",
      "Data cleaned successfully!\n",
      "Preprocessing complete!\n"
     ]
    }
   ],
   "source": [
    "# Check for missing values and duplicates\n",
    "print(\"Missing Values:\\n\", stu_query.isnull().sum())\n",
    "stu_query.drop_duplicates(inplace=True)\n",
    "print(\"Data cleaned successfully!\")\n",
    "\n",
    "# Encode categorical variables\n",
    "encoder = LabelEncoder()\n",
    "stu_query[\"Query_Category\"] = encoder.fit_transform(stu_query[\"Query_Category\"])\n",
    "stu_query[\"Resolved_Flag\"] = encoder.fit_transform(stu_query[\"Resolved_Flag\"])\n",
    "\n",
    "# Scale numeric features\n",
    "scaler = StandardScaler()\n",
    "stu_query[[\"Response_Time\", \"Satisfaction_Score\"]] = scaler.fit_transform(stu_query[[\"Response_Time\", \"Satisfaction_Score\"]])\n",
    "print(\"Preprocessing complete!\")"
   ]
  },
  {
   "cell_type": "markdown",
   "id": "6685f495",
   "metadata": {},
   "source": [
    "### Exploratory Data Analysis (EDA)"
   ]
  },
  {
   "cell_type": "markdown",
   "id": "707d1a80",
   "metadata": {},
   "source": [
    "#### Interactive Histogram of Satisfaction Scores"
   ]
  },
  {
   "cell_type": "markdown",
   "id": "d939c3ed",
   "metadata": {},
   "source": [
    "#### What is a Histogram?\n",
    "\n",
    "A histogram is a type of bar plot that shows the distribution of a numerical variable by dividing the data into bins (intervals) and counting how many values fall into each bin. It helps you quickly see patterns such as where most values are concentrated, the spread of the data, and if there are any outliers.\n",
    "\n",
    "- **X-axis:** Represents the range of values (divided into bins).\n",
    "- **Y-axis:** Shows the frequency (count) of values in each bin.\n",
    "\n",
    "Histograms are useful for understanding the overall shape and variability of your data."
   ]
  },
  {
   "cell_type": "code",
   "execution_count": 74,
   "id": "c565eeae",
   "metadata": {},
   "outputs": [
    {
     "data": {
      "application/vnd.plotly.v1+json": {
       "config": {
        "plotlyServerURL": "https://plot.ly"
       },
       "data": [
        {
         "bingroup": "x",
         "hovertemplate": "Satisfaction Score=%{x}<br>count=%{y}<extra></extra>",
         "legendgroup": "",
         "marker": {
          "color": "#636efa",
          "pattern": {
           "shape": ""
          }
         },
         "name": "",
         "nbinsx": 10,
         "orientation": "v",
         "showlegend": false,
         "type": "histogram",
         "x": {
          "bdata": "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",
          "dtype": "f8"
         },
         "xaxis": "x",
         "yaxis": "y"
        }
       ],
       "layout": {
        "barmode": "relative",
        "legend": {
         "tracegroupgap": 0
        },
        "template": {
         "data": {
          "bar": [
           {
            "error_x": {
             "color": "#2a3f5f"
            },
            "error_y": {
             "color": "#2a3f5f"
            },
            "marker": {
             "line": {
              "color": "#E5ECF6",
              "width": 0.5
             },
             "pattern": {
              "fillmode": "overlay",
              "size": 10,
              "solidity": 0.2
             }
            },
            "type": "bar"
           }
          ],
          "barpolar": [
           {
            "marker": {
             "line": {
              "color": "#E5ECF6",
              "width": 0.5
             },
             "pattern": {
              "fillmode": "overlay",
              "size": 10,
              "solidity": 0.2
             }
            },
            "type": "barpolar"
           }
          ],
          "carpet": [
           {
            "aaxis": {
             "endlinecolor": "#2a3f5f",
             "gridcolor": "white",
             "linecolor": "white",
             "minorgridcolor": "white",
             "startlinecolor": "#2a3f5f"
            },
            "baxis": {
             "endlinecolor": "#2a3f5f",
             "gridcolor": "white",
             "linecolor": "white",
             "minorgridcolor": "white",
             "startlinecolor": "#2a3f5f"
            },
            "type": "carpet"
           }
          ],
          "choropleth": [
           {
            "colorbar": {
             "outlinewidth": 0,
             "ticks": ""
            },
            "type": "choropleth"
           }
          ],
          "contour": [
           {
            "colorbar": {
             "outlinewidth": 0,
             "ticks": ""
            },
            "colorscale": [
             [
              0,
              "#0d0887"
             ],
             [
              0.1111111111111111,
              "#46039f"
             ],
             [
              0.2222222222222222,
              "#7201a8"
             ],
             [
              0.3333333333333333,
              "#9c179e"
             ],
             [
              0.4444444444444444,
              "#bd3786"
             ],
             [
              0.5555555555555556,
              "#d8576b"
             ],
             [
              0.6666666666666666,
              "#ed7953"
             ],
             [
              0.7777777777777778,
              "#fb9f3a"
             ],
             [
              0.8888888888888888,
              "#fdca26"
             ],
             [
              1,
              "#f0f921"
             ]
            ],
            "type": "contour"
           }
          ],
          "contourcarpet": [
           {
            "colorbar": {
             "outlinewidth": 0,
             "ticks": ""
            },
            "type": "contourcarpet"
           }
          ],
          "heatmap": [
           {
            "colorbar": {
             "outlinewidth": 0,
             "ticks": ""
            },
            "colorscale": [
             [
              0,
              "#0d0887"
             ],
             [
              0.1111111111111111,
              "#46039f"
             ],
             [
              0.2222222222222222,
              "#7201a8"
             ],
             [
              0.3333333333333333,
              "#9c179e"
             ],
             [
              0.4444444444444444,
              "#bd3786"
             ],
             [
              0.5555555555555556,
              "#d8576b"
             ],
             [
              0.6666666666666666,
              "#ed7953"
             ],
             [
              0.7777777777777778,
              "#fb9f3a"
             ],
             [
              0.8888888888888888,
              "#fdca26"
             ],
             [
              1,
              "#f0f921"
             ]
            ],
            "type": "heatmap"
           }
          ],
          "histogram": [
           {
            "marker": {
             "pattern": {
              "fillmode": "overlay",
              "size": 10,
              "solidity": 0.2
             }
            },
            "type": "histogram"
           }
          ],
          "histogram2d": [
           {
            "colorbar": {
             "outlinewidth": 0,
             "ticks": ""
            },
            "colorscale": [
             [
              0,
              "#0d0887"
             ],
             [
              0.1111111111111111,
              "#46039f"
             ],
             [
              0.2222222222222222,
              "#7201a8"
             ],
             [
              0.3333333333333333,
              "#9c179e"
             ],
             [
              0.4444444444444444,
              "#bd3786"
             ],
             [
              0.5555555555555556,
              "#d8576b"
             ],
             [
              0.6666666666666666,
              "#ed7953"
             ],
             [
              0.7777777777777778,
              "#fb9f3a"
             ],
             [
              0.8888888888888888,
              "#fdca26"
             ],
             [
              1,
              "#f0f921"
             ]
            ],
            "type": "histogram2d"
           }
          ],
          "histogram2dcontour": [
           {
            "colorbar": {
             "outlinewidth": 0,
             "ticks": ""
            },
            "colorscale": [
             [
              0,
              "#0d0887"
             ],
             [
              0.1111111111111111,
              "#46039f"
             ],
             [
              0.2222222222222222,
              "#7201a8"
             ],
             [
              0.3333333333333333,
              "#9c179e"
             ],
             [
              0.4444444444444444,
              "#bd3786"
             ],
             [
              0.5555555555555556,
              "#d8576b"
             ],
             [
              0.6666666666666666,
              "#ed7953"
             ],
             [
              0.7777777777777778,
              "#fb9f3a"
             ],
             [
              0.8888888888888888,
              "#fdca26"
             ],
             [
              1,
              "#f0f921"
             ]
            ],
            "type": "histogram2dcontour"
           }
          ],
          "mesh3d": [
           {
            "colorbar": {
             "outlinewidth": 0,
             "ticks": ""
            },
            "type": "mesh3d"
           }
          ],
          "parcoords": [
           {
            "line": {
             "colorbar": {
              "outlinewidth": 0,
              "ticks": ""
             }
            },
            "type": "parcoords"
           }
          ],
          "pie": [
           {
            "automargin": true,
            "type": "pie"
           }
          ],
          "scatter": [
           {
            "fillpattern": {
             "fillmode": "overlay",
             "size": 10,
             "solidity": 0.2
            },
            "type": "scatter"
           }
          ],
          "scatter3d": [
           {
            "line": {
             "colorbar": {
              "outlinewidth": 0,
              "ticks": ""
             }
            },
            "marker": {
             "colorbar": {
              "outlinewidth": 0,
              "ticks": ""
             }
            },
            "type": "scatter3d"
           }
          ],
          "scattercarpet": [
           {
            "marker": {
             "colorbar": {
              "outlinewidth": 0,
              "ticks": ""
             }
            },
            "type": "scattercarpet"
           }
          ],
          "scattergeo": [
           {
            "marker": {
             "colorbar": {
              "outlinewidth": 0,
              "ticks": ""
             }
            },
            "type": "scattergeo"
           }
          ],
          "scattergl": [
           {
            "marker": {
             "colorbar": {
              "outlinewidth": 0,
              "ticks": ""
             }
            },
            "type": "scattergl"
           }
          ],
          "scattermap": [
           {
            "marker": {
             "colorbar": {
              "outlinewidth": 0,
              "ticks": ""
             }
            },
            "type": "scattermap"
           }
          ],
          "scattermapbox": [
           {
            "marker": {
             "colorbar": {
              "outlinewidth": 0,
              "ticks": ""
             }
            },
            "type": "scattermapbox"
           }
          ],
          "scatterpolar": [
           {
            "marker": {
             "colorbar": {
              "outlinewidth": 0,
              "ticks": ""
             }
            },
            "type": "scatterpolar"
           }
          ],
          "scatterpolargl": [
           {
            "marker": {
             "colorbar": {
              "outlinewidth": 0,
              "ticks": ""
             }
            },
            "type": "scatterpolargl"
           }
          ],
          "scatterternary": [
           {
            "marker": {
             "colorbar": {
              "outlinewidth": 0,
              "ticks": ""
             }
            },
            "type": "scatterternary"
           }
          ],
          "surface": [
           {
            "colorbar": {
             "outlinewidth": 0,
             "ticks": ""
            },
            "colorscale": [
             [
              0,
              "#0d0887"
             ],
             [
              0.1111111111111111,
              "#46039f"
             ],
             [
              0.2222222222222222,
              "#7201a8"
             ],
             [
              0.3333333333333333,
              "#9c179e"
             ],
             [
              0.4444444444444444,
              "#bd3786"
             ],
             [
              0.5555555555555556,
              "#d8576b"
             ],
             [
              0.6666666666666666,
              "#ed7953"
             ],
             [
              0.7777777777777778,
              "#fb9f3a"
             ],
             [
              0.8888888888888888,
              "#fdca26"
             ],
             [
              1,
              "#f0f921"
             ]
            ],
            "type": "surface"
           }
          ],
          "table": [
           {
            "cells": {
             "fill": {
              "color": "#EBF0F8"
             },
             "line": {
              "color": "white"
             }
            },
            "header": {
             "fill": {
              "color": "#C8D4E3"
             },
             "line": {
              "color": "white"
             }
            },
            "type": "table"
           }
          ]
         },
         "layout": {
          "annotationdefaults": {
           "arrowcolor": "#2a3f5f",
           "arrowhead": 0,
           "arrowwidth": 1
          },
          "autotypenumbers": "strict",
          "coloraxis": {
           "colorbar": {
            "outlinewidth": 0,
            "ticks": ""
           }
          },
          "colorscale": {
           "diverging": [
            [
             0,
             "#8e0152"
            ],
            [
             0.1,
             "#c51b7d"
            ],
            [
             0.2,
             "#de77ae"
            ],
            [
             0.3,
             "#f1b6da"
            ],
            [
             0.4,
             "#fde0ef"
            ],
            [
             0.5,
             "#f7f7f7"
            ],
            [
             0.6,
             "#e6f5d0"
            ],
            [
             0.7,
             "#b8e186"
            ],
            [
             0.8,
             "#7fbc41"
            ],
            [
             0.9,
             "#4d9221"
            ],
            [
             1,
             "#276419"
            ]
           ],
           "sequential": [
            [
             0,
             "#0d0887"
            ],
            [
             0.1111111111111111,
             "#46039f"
            ],
            [
             0.2222222222222222,
             "#7201a8"
            ],
            [
             0.3333333333333333,
             "#9c179e"
            ],
            [
             0.4444444444444444,
             "#bd3786"
            ],
            [
             0.5555555555555556,
             "#d8576b"
            ],
            [
             0.6666666666666666,
             "#ed7953"
            ],
            [
             0.7777777777777778,
             "#fb9f3a"
            ],
            [
             0.8888888888888888,
             "#fdca26"
            ],
            [
             1,
             "#f0f921"
            ]
           ],
           "sequentialminus": [
            [
             0,
             "#0d0887"
            ],
            [
             0.1111111111111111,
             "#46039f"
            ],
            [
             0.2222222222222222,
             "#7201a8"
            ],
            [
             0.3333333333333333,
             "#9c179e"
            ],
            [
             0.4444444444444444,
             "#bd3786"
            ],
            [
             0.5555555555555556,
             "#d8576b"
            ],
            [
             0.6666666666666666,
             "#ed7953"
            ],
            [
             0.7777777777777778,
             "#fb9f3a"
            ],
            [
             0.8888888888888888,
             "#fdca26"
            ],
            [
             1,
             "#f0f921"
            ]
           ]
          },
          "colorway": [
           "#636efa",
           "#EF553B",
           "#00cc96",
           "#ab63fa",
           "#FFA15A",
           "#19d3f3",
           "#FF6692",
           "#B6E880",
           "#FF97FF",
           "#FECB52"
          ],
          "font": {
           "color": "#2a3f5f"
          },
          "geo": {
           "bgcolor": "white",
           "lakecolor": "white",
           "landcolor": "#E5ECF6",
           "showlakes": true,
           "showland": true,
           "subunitcolor": "white"
          },
          "hoverlabel": {
           "align": "left"
          },
          "hovermode": "closest",
          "mapbox": {
           "style": "light"
          },
          "paper_bgcolor": "white",
          "plot_bgcolor": "#E5ECF6",
          "polar": {
           "angularaxis": {
            "gridcolor": "white",
            "linecolor": "white",
            "ticks": ""
           },
           "bgcolor": "#E5ECF6",
           "radialaxis": {
            "gridcolor": "white",
            "linecolor": "white",
            "ticks": ""
           }
          },
          "scene": {
           "xaxis": {
            "backgroundcolor": "#E5ECF6",
            "gridcolor": "white",
            "gridwidth": 2,
            "linecolor": "white",
            "showbackground": true,
            "ticks": "",
            "zerolinecolor": "white"
           },
           "yaxis": {
            "backgroundcolor": "#E5ECF6",
            "gridcolor": "white",
            "gridwidth": 2,
            "linecolor": "white",
            "showbackground": true,
            "ticks": "",
            "zerolinecolor": "white"
           },
           "zaxis": {
            "backgroundcolor": "#E5ECF6",
            "gridcolor": "white",
            "gridwidth": 2,
            "linecolor": "white",
            "showbackground": true,
            "ticks": "",
            "zerolinecolor": "white"
           }
          },
          "shapedefaults": {
           "line": {
            "color": "#2a3f5f"
           }
          },
          "ternary": {
           "aaxis": {
            "gridcolor": "white",
            "linecolor": "white",
            "ticks": ""
           },
           "baxis": {
            "gridcolor": "white",
            "linecolor": "white",
            "ticks": ""
           },
           "bgcolor": "#E5ECF6",
           "caxis": {
            "gridcolor": "white",
            "linecolor": "white",
            "ticks": ""
           }
          },
          "title": {
           "x": 0.05
          },
          "xaxis": {
           "automargin": true,
           "gridcolor": "white",
           "linecolor": "white",
           "ticks": "",
           "title": {
            "standoff": 15
           },
           "zerolinecolor": "white",
           "zerolinewidth": 2
          },
          "yaxis": {
           "automargin": true,
           "gridcolor": "white",
           "linecolor": "white",
           "ticks": "",
           "title": {
            "standoff": 15
           },
           "zerolinecolor": "white",
           "zerolinewidth": 2
          }
         }
        },
        "title": {
         "text": "Distribution of Satisfaction Scores"
        },
        "xaxis": {
         "anchor": "y",
         "domain": [
          0,
          1
         ],
         "title": {
          "text": "Satisfaction Score"
         }
        },
        "yaxis": {
         "anchor": "x",
         "domain": [
          0,
          1
         ],
         "title": {
          "text": "count"
         }
        }
       }
      }
     },
     "metadata": {},
     "output_type": "display_data"
    }
   ],
   "source": [
    "fig = px.histogram(stu_query, x=\"Satisfaction_Score\", nbins=10, title=\"Distribution of Satisfaction Scores\", labels={\"Satisfaction_Score\": \"Satisfaction Score\"})\n",
    "fig.show()"
   ]
  },
  {
   "cell_type": "markdown",
   "id": "5204301a",
   "metadata": {},
   "source": [
    "#### Frequency of Query Categories"
   ]
  },
  {
   "cell_type": "markdown",
   "id": "0c83859b",
   "metadata": {},
   "source": [
    "#### What is a Bar Chart?\n",
    "\n",
    "A bar chart is a graph that uses rectangular bars to represent and compare the frequency, count, or value of different categories. Each bar's length or height is proportional to the value it represents.\n",
    "\n",
    "- **X-axis:** Shows the categories (e.g., types of queries).\n",
    "- **Y-axis:** Shows the values (e.g., number of queries in each category).\n",
    "\n",
    "Bar charts are useful for visualizing and comparing data across different groups or categories."
   ]
  },
  {
   "cell_type": "code",
   "execution_count": 75,
   "id": "a13fffca",
   "metadata": {},
   "outputs": [
    {
     "data": {
      "application/vnd.plotly.v1+json": {
       "config": {
        "plotlyServerURL": "https://plot.ly"
       },
       "data": [
        {
         "hovertemplate": "Query Category=%{marker.color}<br>index=%{y}<extra></extra>",
         "legendgroup": "",
         "marker": {
          "color": {
           "bdata": "AwEBAQABAgEAAAECAQABAwIAAQEBAQEAAgABAQABAwIDAwEDAAIBAgIDAAAAAgACAgMDAQACAgICAwACAwMBAQMAAgIAAwIBAgMAAgIBAgECAwMCAQEAAgACAwMBAgECAAEAAgEBAgABAQMAAwEBAwMDAgEBAgMCAwMDAgIDAwEBAAIBAwMDAQECAQEAAQAAAQMDAwIAAwADAQEAAwIDAwACAAEDAwAAAQEBAwEAAwEDAgMCAAABAAAAAwMAAwMCAAIDAwEBAAEBAgADAgADAwACAQADAQECAgAAAgIBAQIAAAICAwMCAwIBAgIBAwICAgMDAwMCAAAAAQEDAQIBAAEAAQADAAMCAwECAwMBAQMCAwMAAQMAAQMCAwIDAgMDAAABAQMBAAEBAQADAAAAAQMCAwABAQIAAQACAgIBAAEAAgECAgABAwACAQECAgMBAwICAgADAgMCAgMDAgIBAwIDAgIDAwMBAQIAAQMCAwABAgADAgMCAgICAgIDAQMDAgAAAgICAgABAQIBAgMAAQECAgMAAwIAAwIAAAIDAAEAAwEBAAAAAAMCAQMBAwMBAwMBAQEBAgECAwIDAAEAAwAAAQAAAgEDAAEDAwEDAAEBAgECAQMCAAAAAAEDAQEAAAECAgMAAQADAgIDAAMCAgEAAAIAAwACAwMBAgADAQIDAAICAQADAgAAAQMDAQIBAAEBAgIAAAICAgEBAwMBAQEBAwAAAQEBAQADAgMAAQIDAAABAwACAwIAAgEAAQMAAwEBAAIBAgACAQEDAgMCAQIBAAIBAwECAAEBAQEBAgIBAQMCAQAAAgMCAAACAAECAwIDAAICAAECAQABAQMCAQIDAAIBAQAAAwICAQEDAwECAAIBAAABAAMCAgMAAAABAQEBAAMAAAMBAQMDAwMAAgIBAgEBAgEDAgIDAQMBAAADAAAAAAMAAwEDAQMBAQACAwICAgMCAgMAAgADAQECAQADAgEAAQEBAQMDAwEBAwEDAQEBAQECAAMBAQMCAAMCAQECAQMDAQEBAwEBAQEDAAICAAMAAAIBAgECAwEAAwABAQMBAgIBAAACAAMCAwMCAgMAAQMCAgABAAMAAQABAQAAAgIBAQADAgMDAQIBAQIBAAIDAwADAgABAwMAAQEBAAAAAwIAAQIDAQMBAQABAAMDAgICAgADAAEBAwICAwIDAAIDAQICAAADAgEBAwIAAgIAAQIAAAICAwMBAQADAAICAAICAgIBAwEBAwMDAQACAgMBAQECAwMCAwICAwEDAgABAwABAQMDAQACAAIBAwMDAAABAQICAgAAAAADAAIBAgMDAQEBAgMAAQIDAgMBAQEBAQMBAQIAAwADAAEAAwAAAgIBAwECAwMBAgIDAwADAQMDAQACAQIBAgMDAAICAgMAAwABAAEDAgIBAAADAAIAAwABAAECAgICAwMAAQABAwADAwEBAAEDAgABAwMDAQAAAAMBAQEBAwADAAMAAQEBAgABAwADAAEBAwABAQADAQMDAAECAwMAAQMCAwADAgEBAQMDAQMCAQMDAgIDAQECAwIDAQICAgMAAgMDAAIBAwIDAAIDAwECAQEAAgEDAgEDAAMAAQIDAQEAAgIAAAIBAAEDAwADAAIBAQADAAEAAwMBAQIBAgIBAAEAAgABAwIDAwECAQADAwADAgACAwAAAgECAwMAAwEDAQEAAwMDAwEAAQAAAwADAAEAAAMAAgEBAAACAwMDAQMCAgIBAwIDAwEBAAEDAAMBAQACAwEAAAABAQEAAQAAAQEBAAEBAAECAQEDAQEDAwEAAwIAAgICAwICAAMBAgEDAgMBAwAAAgMDAwEAAQIAAgABAQABAgEAAAIAAAEBAQEBAgABAQMBAAEAAgEDAQEDAAAAAAEAAQECAwMDAwACAgIAAQACAwEDAwMCAgEAAAMBAgIDAAACAAIBAAIAAQADAQMDAgMCAwECAwIDAwAAAAMDAAIBAgICAQEDAAIBAgAB",
           "dtype": "i1"
          },
          "coloraxis": "coloraxis",
          "pattern": {
           "shape": ""
          }
         },
         "name": "",
         "orientation": "h",
         "showlegend": false,
         "textposition": "auto",
         "type": "bar",
         "x": {
          "bdata": "AwEBAQABAgEAAAECAQABAwIAAQEBAQEAAgABAQABAwIDAwEDAAIBAgIDAAAAAgACAgMDAQACAgICAwACAwMBAQMAAgIAAwIBAgMAAgIBAgECAwMCAQEAAgACAwMBAgECAAEAAgEBAgABAQMAAwEBAwMDAgEBAgMCAwMDAgIDAwEBAAIBAwMDAQECAQEAAQAAAQMDAwIAAwADAQEAAwIDAwACAAEDAwAAAQEBAwEAAwEDAgMCAAABAAAAAwMAAwMCAAIDAwEBAAEBAgADAgADAwACAQADAQECAgAAAgIBAQIAAAICAwMCAwIBAgIBAwICAgMDAwMCAAAAAQEDAQIBAAEAAQADAAMCAwECAwMBAQMCAwMAAQMAAQMCAwIDAgMDAAABAQMBAAEBAQADAAAAAQMCAwABAQIAAQACAgIBAAEAAgECAgABAwACAQECAgMBAwICAgADAgMCAgMDAgIBAwIDAgIDAwMBAQIAAQMCAwABAgADAgMCAgICAgIDAQMDAgAAAgICAgABAQIBAgMAAQECAgMAAwIAAwIAAAIDAAEAAwEBAAAAAAMCAQMBAwMBAwMBAQEBAgECAwIDAAEAAwAAAQAAAgEDAAEDAwEDAAEBAgECAQMCAAAAAAEDAQEAAAECAgMAAQADAgIDAAMCAgEAAAIAAwACAwMBAgADAQIDAAICAQADAgAAAQMDAQIBAAEBAgIAAAICAgEBAwMBAQEBAwAAAQEBAQADAgMAAQIDAAABAwACAwIAAgEAAQMAAwEBAAIBAgACAQEDAgMCAQIBAAIBAwECAAEBAQEBAgIBAQMCAQAAAgMCAAACAAECAwIDAAICAAECAQABAQMCAQIDAAIBAQAAAwICAQEDAwECAAIBAAABAAMCAgMAAAABAQEBAAMAAAMBAQMDAwMAAgIBAgEBAgEDAgIDAQMBAAADAAAAAAMAAwEDAQMBAQACAwICAgMCAgMAAgADAQECAQADAgEAAQEBAQMDAwEBAwEDAQEBAQECAAMBAQMCAAMCAQECAQMDAQEBAwEBAQEDAAICAAMAAAIBAgECAwEAAwABAQMBAgIBAAACAAMCAwMCAgMAAQMCAgABAAMAAQABAQAAAgIBAQADAgMDAQIBAQIBAAIDAwADAgABAwMAAQEBAAAAAwIAAQIDAQMBAQABAAMDAgICAgADAAEBAwICAwIDAAIDAQICAAADAgEBAwIAAgIAAQIAAAICAwMBAQADAAICAAICAgIBAwEBAwMDAQACAgMBAQECAwMCAwICAwEDAgABAwABAQMDAQACAAIBAwMDAAABAQICAgAAAAADAAIBAgMDAQEBAgMAAQIDAgMBAQEBAQMBAQIAAwADAAEAAwAAAgIBAwECAwMBAgIDAwADAQMDAQACAQIBAgMDAAICAgMAAwABAAEDAgIBAAADAAIAAwABAAECAgICAwMAAQABAwADAwEBAAEDAgABAwMDAQAAAAMBAQEBAwADAAMAAQEBAgABAwADAAEBAwABAQADAQMDAAECAwMAAQMCAwADAgEBAQMDAQMCAQMDAgIDAQECAwIDAQICAgMAAgMDAAIBAwIDAAIDAwECAQEAAgEDAgEDAAMAAQIDAQEAAgIAAAIBAAEDAwADAAIBAQADAAEAAwMBAQIBAgIBAAEAAgABAwIDAwECAQADAwADAgACAwAAAgECAwMAAwEDAQEAAwMDAwEAAQAAAwADAAEAAAMAAgEBAAACAwMDAQMCAgIBAwIDAwEBAAEDAAMBAQACAwEAAAABAQEAAQAAAQEBAAEBAAECAQEDAQEDAwEAAwIAAgICAwICAAMBAgEDAgMBAwAAAgMDAwEAAQIAAgABAQABAgEAAAIAAAEBAQEBAgABAQMBAAEAAgEDAQEDAAAAAAEAAQECAwMDAwACAgIAAQACAwEDAwMCAgEAAAMBAgIDAAACAAIBAAIAAQADAQMDAgMCAwECAwIDAwAAAAMDAAIBAgICAQEDAAIBAgAB",
          "dtype": "i1"
         },
         "xaxis": "x",
         "y": {
          "bdata": "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",
          "dtype": "i2"
         },
         "yaxis": "y"
        }
       ],
       "layout": {
        "barmode": "relative",
        "coloraxis": {
         "colorbar": {
          "title": {
           "text": "Query Category"
          }
         },
         "colorscale": [
          [
           0,
           "#0d0887"
          ],
          [
           0.1111111111111111,
           "#46039f"
          ],
          [
           0.2222222222222222,
           "#7201a8"
          ],
          [
           0.3333333333333333,
           "#9c179e"
          ],
          [
           0.4444444444444444,
           "#bd3786"
          ],
          [
           0.5555555555555556,
           "#d8576b"
          ],
          [
           0.6666666666666666,
           "#ed7953"
          ],
          [
           0.7777777777777778,
           "#fb9f3a"
          ],
          [
           0.8888888888888888,
           "#fdca26"
          ],
          [
           1,
           "#f0f921"
          ]
         ]
        },
        "legend": {
         "tracegroupgap": 0
        },
        "template": {
         "data": {
          "bar": [
           {
            "error_x": {
             "color": "#2a3f5f"
            },
            "error_y": {
             "color": "#2a3f5f"
            },
            "marker": {
             "line": {
              "color": "#E5ECF6",
              "width": 0.5
             },
             "pattern": {
              "fillmode": "overlay",
              "size": 10,
              "solidity": 0.2
             }
            },
            "type": "bar"
           }
          ],
          "barpolar": [
           {
            "marker": {
             "line": {
              "color": "#E5ECF6",
              "width": 0.5
             },
             "pattern": {
              "fillmode": "overlay",
              "size": 10,
              "solidity": 0.2
             }
            },
            "type": "barpolar"
           }
          ],
          "carpet": [
           {
            "aaxis": {
             "endlinecolor": "#2a3f5f",
             "gridcolor": "white",
             "linecolor": "white",
             "minorgridcolor": "white",
             "startlinecolor": "#2a3f5f"
            },
            "baxis": {
             "endlinecolor": "#2a3f5f",
             "gridcolor": "white",
             "linecolor": "white",
             "minorgridcolor": "white",
             "startlinecolor": "#2a3f5f"
            },
            "type": "carpet"
           }
          ],
          "choropleth": [
           {
            "colorbar": {
             "outlinewidth": 0,
             "ticks": ""
            },
            "type": "choropleth"
           }
          ],
          "contour": [
           {
            "colorbar": {
             "outlinewidth": 0,
             "ticks": ""
            },
            "colorscale": [
             [
              0,
              "#0d0887"
             ],
             [
              0.1111111111111111,
              "#46039f"
             ],
             [
              0.2222222222222222,
              "#7201a8"
             ],
             [
              0.3333333333333333,
              "#9c179e"
             ],
             [
              0.4444444444444444,
              "#bd3786"
             ],
             [
              0.5555555555555556,
              "#d8576b"
             ],
             [
              0.6666666666666666,
              "#ed7953"
             ],
             [
              0.7777777777777778,
              "#fb9f3a"
             ],
             [
              0.8888888888888888,
              "#fdca26"
             ],
             [
              1,
              "#f0f921"
             ]
            ],
            "type": "contour"
           }
          ],
          "contourcarpet": [
           {
            "colorbar": {
             "outlinewidth": 0,
             "ticks": ""
            },
            "type": "contourcarpet"
           }
          ],
          "heatmap": [
           {
            "colorbar": {
             "outlinewidth": 0,
             "ticks": ""
            },
            "colorscale": [
             [
              0,
              "#0d0887"
             ],
             [
              0.1111111111111111,
              "#46039f"
             ],
             [
              0.2222222222222222,
              "#7201a8"
             ],
             [
              0.3333333333333333,
              "#9c179e"
             ],
             [
              0.4444444444444444,
              "#bd3786"
             ],
             [
              0.5555555555555556,
              "#d8576b"
             ],
             [
              0.6666666666666666,
              "#ed7953"
             ],
             [
              0.7777777777777778,
              "#fb9f3a"
             ],
             [
              0.8888888888888888,
              "#fdca26"
             ],
             [
              1,
              "#f0f921"
             ]
            ],
            "type": "heatmap"
           }
          ],
          "histogram": [
           {
            "marker": {
             "pattern": {
              "fillmode": "overlay",
              "size": 10,
              "solidity": 0.2
             }
            },
            "type": "histogram"
           }
          ],
          "histogram2d": [
           {
            "colorbar": {
             "outlinewidth": 0,
             "ticks": ""
            },
            "colorscale": [
             [
              0,
              "#0d0887"
             ],
             [
              0.1111111111111111,
              "#46039f"
             ],
             [
              0.2222222222222222,
              "#7201a8"
             ],
             [
              0.3333333333333333,
              "#9c179e"
             ],
             [
              0.4444444444444444,
              "#bd3786"
             ],
             [
              0.5555555555555556,
              "#d8576b"
             ],
             [
              0.6666666666666666,
              "#ed7953"
             ],
             [
              0.7777777777777778,
              "#fb9f3a"
             ],
             [
              0.8888888888888888,
              "#fdca26"
             ],
             [
              1,
              "#f0f921"
             ]
            ],
            "type": "histogram2d"
           }
          ],
          "histogram2dcontour": [
           {
            "colorbar": {
             "outlinewidth": 0,
             "ticks": ""
            },
            "colorscale": [
             [
              0,
              "#0d0887"
             ],
             [
              0.1111111111111111,
              "#46039f"
             ],
             [
              0.2222222222222222,
              "#7201a8"
             ],
             [
              0.3333333333333333,
              "#9c179e"
             ],
             [
              0.4444444444444444,
              "#bd3786"
             ],
             [
              0.5555555555555556,
              "#d8576b"
             ],
             [
              0.6666666666666666,
              "#ed7953"
             ],
             [
              0.7777777777777778,
              "#fb9f3a"
             ],
             [
              0.8888888888888888,
              "#fdca26"
             ],
             [
              1,
              "#f0f921"
             ]
            ],
            "type": "histogram2dcontour"
           }
          ],
          "mesh3d": [
           {
            "colorbar": {
             "outlinewidth": 0,
             "ticks": ""
            },
            "type": "mesh3d"
           }
          ],
          "parcoords": [
           {
            "line": {
             "colorbar": {
              "outlinewidth": 0,
              "ticks": ""
             }
            },
            "type": "parcoords"
           }
          ],
          "pie": [
           {
            "automargin": true,
            "type": "pie"
           }
          ],
          "scatter": [
           {
            "fillpattern": {
             "fillmode": "overlay",
             "size": 10,
             "solidity": 0.2
            },
            "type": "scatter"
           }
          ],
          "scatter3d": [
           {
            "line": {
             "colorbar": {
              "outlinewidth": 0,
              "ticks": ""
             }
            },
            "marker": {
             "colorbar": {
              "outlinewidth": 0,
              "ticks": ""
             }
            },
            "type": "scatter3d"
           }
          ],
          "scattercarpet": [
           {
            "marker": {
             "colorbar": {
              "outlinewidth": 0,
              "ticks": ""
             }
            },
            "type": "scattercarpet"
           }
          ],
          "scattergeo": [
           {
            "marker": {
             "colorbar": {
              "outlinewidth": 0,
              "ticks": ""
             }
            },
            "type": "scattergeo"
           }
          ],
          "scattergl": [
           {
            "marker": {
             "colorbar": {
              "outlinewidth": 0,
              "ticks": ""
             }
            },
            "type": "scattergl"
           }
          ],
          "scattermap": [
           {
            "marker": {
             "colorbar": {
              "outlinewidth": 0,
              "ticks": ""
             }
            },
            "type": "scattermap"
           }
          ],
          "scattermapbox": [
           {
            "marker": {
             "colorbar": {
              "outlinewidth": 0,
              "ticks": ""
             }
            },
            "type": "scattermapbox"
           }
          ],
          "scatterpolar": [
           {
            "marker": {
             "colorbar": {
              "outlinewidth": 0,
              "ticks": ""
             }
            },
            "type": "scatterpolar"
           }
          ],
          "scatterpolargl": [
           {
            "marker": {
             "colorbar": {
              "outlinewidth": 0,
              "ticks": ""
             }
            },
            "type": "scatterpolargl"
           }
          ],
          "scatterternary": [
           {
            "marker": {
             "colorbar": {
              "outlinewidth": 0,
              "ticks": ""
             }
            },
            "type": "scatterternary"
           }
          ],
          "surface": [
           {
            "colorbar": {
             "outlinewidth": 0,
             "ticks": ""
            },
            "colorscale": [
             [
              0,
              "#0d0887"
             ],
             [
              0.1111111111111111,
              "#46039f"
             ],
             [
              0.2222222222222222,
              "#7201a8"
             ],
             [
              0.3333333333333333,
              "#9c179e"
             ],
             [
              0.4444444444444444,
              "#bd3786"
             ],
             [
              0.5555555555555556,
              "#d8576b"
             ],
             [
              0.6666666666666666,
              "#ed7953"
             ],
             [
              0.7777777777777778,
              "#fb9f3a"
             ],
             [
              0.8888888888888888,
              "#fdca26"
             ],
             [
              1,
              "#f0f921"
             ]
            ],
            "type": "surface"
           }
          ],
          "table": [
           {
            "cells": {
             "fill": {
              "color": "#EBF0F8"
             },
             "line": {
              "color": "white"
             }
            },
            "header": {
             "fill": {
              "color": "#C8D4E3"
             },
             "line": {
              "color": "white"
             }
            },
            "type": "table"
           }
          ]
         },
         "layout": {
          "annotationdefaults": {
           "arrowcolor": "#2a3f5f",
           "arrowhead": 0,
           "arrowwidth": 1
          },
          "autotypenumbers": "strict",
          "coloraxis": {
           "colorbar": {
            "outlinewidth": 0,
            "ticks": ""
           }
          },
          "colorscale": {
           "diverging": [
            [
             0,
             "#8e0152"
            ],
            [
             0.1,
             "#c51b7d"
            ],
            [
             0.2,
             "#de77ae"
            ],
            [
             0.3,
             "#f1b6da"
            ],
            [
             0.4,
             "#fde0ef"
            ],
            [
             0.5,
             "#f7f7f7"
            ],
            [
             0.6,
             "#e6f5d0"
            ],
            [
             0.7,
             "#b8e186"
            ],
            [
             0.8,
             "#7fbc41"
            ],
            [
             0.9,
             "#4d9221"
            ],
            [
             1,
             "#276419"
            ]
           ],
           "sequential": [
            [
             0,
             "#0d0887"
            ],
            [
             0.1111111111111111,
             "#46039f"
            ],
            [
             0.2222222222222222,
             "#7201a8"
            ],
            [
             0.3333333333333333,
             "#9c179e"
            ],
            [
             0.4444444444444444,
             "#bd3786"
            ],
            [
             0.5555555555555556,
             "#d8576b"
            ],
            [
             0.6666666666666666,
             "#ed7953"
            ],
            [
             0.7777777777777778,
             "#fb9f3a"
            ],
            [
             0.8888888888888888,
             "#fdca26"
            ],
            [
             1,
             "#f0f921"
            ]
           ],
           "sequentialminus": [
            [
             0,
             "#0d0887"
            ],
            [
             0.1111111111111111,
             "#46039f"
            ],
            [
             0.2222222222222222,
             "#7201a8"
            ],
            [
             0.3333333333333333,
             "#9c179e"
            ],
            [
             0.4444444444444444,
             "#bd3786"
            ],
            [
             0.5555555555555556,
             "#d8576b"
            ],
            [
             0.6666666666666666,
             "#ed7953"
            ],
            [
             0.7777777777777778,
             "#fb9f3a"
            ],
            [
             0.8888888888888888,
             "#fdca26"
            ],
            [
             1,
             "#f0f921"
            ]
           ]
          },
          "colorway": [
           "#636efa",
           "#EF553B",
           "#00cc96",
           "#ab63fa",
           "#FFA15A",
           "#19d3f3",
           "#FF6692",
           "#B6E880",
           "#FF97FF",
           "#FECB52"
          ],
          "font": {
           "color": "#2a3f5f"
          },
          "geo": {
           "bgcolor": "white",
           "lakecolor": "white",
           "landcolor": "#E5ECF6",
           "showlakes": true,
           "showland": true,
           "subunitcolor": "white"
          },
          "hoverlabel": {
           "align": "left"
          },
          "hovermode": "closest",
          "mapbox": {
           "style": "light"
          },
          "paper_bgcolor": "white",
          "plot_bgcolor": "#E5ECF6",
          "polar": {
           "angularaxis": {
            "gridcolor": "white",
            "linecolor": "white",
            "ticks": ""
           },
           "bgcolor": "#E5ECF6",
           "radialaxis": {
            "gridcolor": "white",
            "linecolor": "white",
            "ticks": ""
           }
          },
          "scene": {
           "xaxis": {
            "backgroundcolor": "#E5ECF6",
            "gridcolor": "white",
            "gridwidth": 2,
            "linecolor": "white",
            "showbackground": true,
            "ticks": "",
            "zerolinecolor": "white"
           },
           "yaxis": {
            "backgroundcolor": "#E5ECF6",
            "gridcolor": "white",
            "gridwidth": 2,
            "linecolor": "white",
            "showbackground": true,
            "ticks": "",
            "zerolinecolor": "white"
           },
           "zaxis": {
            "backgroundcolor": "#E5ECF6",
            "gridcolor": "white",
            "gridwidth": 2,
            "linecolor": "white",
            "showbackground": true,
            "ticks": "",
            "zerolinecolor": "white"
           }
          },
          "shapedefaults": {
           "line": {
            "color": "#2a3f5f"
           }
          },
          "ternary": {
           "aaxis": {
            "gridcolor": "white",
            "linecolor": "white",
            "ticks": ""
           },
           "baxis": {
            "gridcolor": "white",
            "linecolor": "white",
            "ticks": ""
           },
           "bgcolor": "#E5ECF6",
           "caxis": {
            "gridcolor": "white",
            "linecolor": "white",
            "ticks": ""
           }
          },
          "title": {
           "x": 0.05
          },
          "xaxis": {
           "automargin": true,
           "gridcolor": "white",
           "linecolor": "white",
           "ticks": "",
           "title": {
            "standoff": 15
           },
           "zerolinecolor": "white",
           "zerolinewidth": 2
          },
          "yaxis": {
           "automargin": true,
           "gridcolor": "white",
           "linecolor": "white",
           "ticks": "",
           "title": {
            "standoff": 15
           },
           "zerolinecolor": "white",
           "zerolinewidth": 2
          }
         }
        },
        "title": {
         "text": "Frequency of Queries per Category"
        },
        "xaxis": {
         "anchor": "y",
         "domain": [
          0,
          1
         ],
         "title": {
          "text": "Query Category"
         }
        },
        "yaxis": {
         "anchor": "x",
         "domain": [
          0,
          1
         ],
         "title": {
          "text": "index"
         }
        }
       }
      }
     },
     "metadata": {},
     "output_type": "display_data"
    }
   ],
   "source": [
    "df = stu_query\n",
    "fig = px.bar(df, x=\"Query_Category\", color=\"Query_Category\", title=\"Frequency of Queries per Category\", labels={\"Query_Category\": \"Query Category\"})\n",
    "fig.show()"
   ]
  },
  {
   "cell_type": "markdown",
   "id": "8499ee19",
   "metadata": {},
   "source": [
    "#### Box Plot for Response Time by Query Category"
   ]
  },
  {
   "cell_type": "markdown",
   "id": "cf151833",
   "metadata": {},
   "source": [
    "#### What is a Box Plot?\n",
    "\n",
    "A box plot (or box-and-whisker plot) is a graphical tool used to display the distribution of a dataset. It shows the median, quartiles, and possible outliers in your data.\n",
    "\n",
    "- **Box:** Represents the middle 50% of the data (from the first quartile (Q1) to the third quartile (Q3)).\n",
    "- **Line inside the box:** Shows the median (middle value).\n",
    "- **Whiskers:** Extend from the box to the smallest and largest values within 1.5 times the interquartile range (IQR).\n",
    "- **Dots (if any):** Indicate outliers, which are values outside the whiskers.\n",
    "\n",
    "Box plots are useful for comparing distributions between groups and spotting outliers or skewness in the data."
   ]
  },
  {
   "cell_type": "code",
   "execution_count": 76,
   "id": "7dcc9e3f",
   "metadata": {},
   "outputs": [
    {
     "data": {
      "image/png": "[encoded data removed]",
      "text/plain": [
       "<Figure size 800x600 with 1 Axes>"
      ]
     },
     "metadata": {},
     "output_type": "display_data"
    }
   ],
   "source": [
    "plt.figure(figsize=(8, 6))\n",
    "sns.boxplot(x=\"Query_Category\", y=\"Response_Time\", data=df)\n",
    "plt.title(\"Response Time Distribution by Query Category\")\n",
    "plt.xlabel(\"Query Category\")\n",
    "plt.ylabel(\"Response Time\")\n",
    "plt.show()"
   ]
  },
  {
   "cell_type": "markdown",
   "id": "75259d8c",
   "metadata": {},
   "source": [
    "#### Word Cloud for Query Texts"
   ]
  },
  {
   "cell_type": "markdown",
   "id": "bf3a627d",
   "metadata": {},
   "source": [
    "#### What is a Word Cloud?\n",
    "\n",
    "A word cloud is a visual representation of text data where the size of each word indicates how often it appears in the dataset. The more frequently a word is used, the larger and bolder it appears in the cloud. Word clouds help quickly highlight the most common topics or keywords in a collection of text, making it easy to spot trends and important terms at a glance."
   ]
  },
  {
   "cell_type": "markdown",
   "id": "8e498c26",
   "metadata": {},
   "source": [
    "#### What is `imshow`?\n",
    "\n",
    "`imshow` is a function in Matplotlib used to display images or 2D data as a color-coded grid. It is commonly used to visualize matrices, heatmaps, or image data.\n",
    "\n",
    "- **How it works:** Each value in the 2D array is shown as a colored square (pixel).\n",
    "- **Typical uses:** Displaying images, correlation matrices, confusion matrices, or word clouds.\n",
    "\n",
    "**Key Points:**\n",
    "- `imshow` is great for visualizing 2D data.\n",
    "- You can change the color map using the `cmap` parameter.\n",
    "- Add `plt.colorbar()` to show the color scale."
   ]
  },
  {
   "cell_type": "code",
   "execution_count": 77,
   "id": "de83a77b",
   "metadata": {},
   "outputs": [
    {
     "data": {
      "image/png": "[encoded data removed]",
      "text/plain": [
       "<Figure size 1000x600 with 1 Axes>"
      ]
     },
     "metadata": {},
     "output_type": "display_data"
    }
   ],
   "source": [
    "query_texts = \" \".join(df[\"Query_Text\"])\n",
    "wordcloud = WordCloud(width=800, height=400, background_color=\"white\").generate(query_texts)\n",
    "plt.figure(figsize=(10, 6))\n",
    "plt.imshow(wordcloud, interpolation=\"bilinear\")\n",
    "plt.axis(\"off\")\n",
    "plt.title(\"Word Cloud of Student Queries\")\n",
    "plt.show()"
   ]
  },
  {
   "cell_type": "markdown",
   "id": "f80d00d2",
   "metadata": {},
   "source": [
    "### Supervised Learning"
   ]
  },
  {
   "cell_type": "markdown",
   "id": "73e591b9",
   "metadata": {},
   "source": [
    "#### Display dataset"
   ]
  },
  {
   "cell_type": "code",
   "execution_count": 78,
   "id": "c38a6dd1",
   "metadata": {},
   "outputs": [
    {
     "data": {
      "text/html": [
       "<div>\n",
       "<style scoped>\n",
       "    .dataframe tbody tr th:only-of-type {\n",
       "        vertical-align: middle;\n",
       "    }\n",
       "\n",
       "    .dataframe tbody tr th {\n",
       "        vertical-align: top;\n",
       "    }\n",
       "\n",
       "    .dataframe thead th {\n",
       "        text-align: right;\n",
       "    }\n",
       "</style>\n",
       "<table border=\"1\" class=\"dataframe\">\n",
       "  <thead>\n",
       "    <tr style=\"text-align: right;\">\n",
       "      <th></th>\n",
       "      <th>Query_ID</th>\n",
       "      <th>Timestamp</th>\n",
       "      <th>Student_ID</th>\n",
       "      <th>Query_Text</th>\n",
       "      <th>Query_Category</th>\n",
       "      <th>Satisfaction_Score</th>\n",
       "      <th>Response_Time</th>\n",
       "      <th>Resolved_Flag</th>\n",
       "    </tr>\n",
       "  </thead>\n",
       "  <tbody>\n",
       "    <tr>\n",
       "      <th>0</th>\n",
       "      <td>1</td>\n",
       "      <td>2025-04-01 09:05:00</td>\n",
       "      <td>1069</td>\n",
       "      <td>What is the deadline for fee payment?</td>\n",
       "      <td>3</td>\n",
       "      <td>1.033198</td>\n",
       "      <td>-0.958097</td>\n",
       "      <td>0</td>\n",
       "    </tr>\n",
       "    <tr>\n",
       "      <th>1</th>\n",
       "      <td>2</td>\n",
       "      <td>2025-04-01 09:10:00</td>\n",
       "      <td>1021</td>\n",
       "      <td>How can I get a transcript?</td>\n",
       "      <td>1</td>\n",
       "      <td>-0.166601</td>\n",
       "      <td>-1.665603</td>\n",
       "      <td>0</td>\n",
       "    </tr>\n",
       "    <tr>\n",
       "      <th>2</th>\n",
       "      <td>3</td>\n",
       "      <td>2025-04-01 09:15:00</td>\n",
       "      <td>1060</td>\n",
       "      <td>I need help with course selection.</td>\n",
       "      <td>1</td>\n",
       "      <td>0.690398</td>\n",
       "      <td>-0.452736</td>\n",
       "      <td>1</td>\n",
       "    </tr>\n",
       "    <tr>\n",
       "      <th>3</th>\n",
       "      <td>4</td>\n",
       "      <td>2025-04-01 09:20:00</td>\n",
       "      <td>1057</td>\n",
       "      <td>How can I get a transcript?</td>\n",
       "      <td>1</td>\n",
       "      <td>-0.509400</td>\n",
       "      <td>1.366564</td>\n",
       "      <td>1</td>\n",
       "    </tr>\n",
       "    <tr>\n",
       "      <th>4</th>\n",
       "      <td>5</td>\n",
       "      <td>2025-04-01 09:25:00</td>\n",
       "      <td>1073</td>\n",
       "      <td>My grade has not been updated.</td>\n",
       "      <td>0</td>\n",
       "      <td>1.375997</td>\n",
       "      <td>1.770853</td>\n",
       "      <td>0</td>\n",
       "    </tr>\n",
       "  </tbody>\n",
       "</table>\n",
       "</div>"
      ],
      "text/plain": [
       "   Query_ID            Timestamp  Student_ID  \\\n",
       "0         1  2025-04-01 09:05:00        1069   \n",
       "1         2  2025-04-01 09:10:00        1021   \n",
       "2         3  2025-04-01 09:15:00        1060   \n",
       "3         4  2025-04-01 09:20:00        1057   \n",
       "4         5  2025-04-01 09:25:00        1073   \n",
       "\n",
       "                              Query_Text  Query_Category  Satisfaction_Score  \\\n",
       "0  What is the deadline for fee payment?               3            1.033198   \n",
       "1            How can I get a transcript?               1           -0.166601   \n",
       "2     I need help with course selection.               1            0.690398   \n",
       "3            How can I get a transcript?               1           -0.509400   \n",
       "4         My grade has not been updated.               0            1.375997   \n",
       "\n",
       "   Response_Time  Resolved_Flag  \n",
       "0      -0.958097              0  \n",
       "1      -1.665603              0  \n",
       "2      -0.452736              1  \n",
       "3       1.366564              1  \n",
       "4       1.770853              0  "
      ]
     },
     "execution_count": 78,
     "metadata": {},
     "output_type": "execute_result"
    }
   ],
   "source": [
    "stu_query.head()  # Display the first few rows of the dataset"
   ]
  },
  {
   "cell_type": "markdown",
   "id": "9c788364",
   "metadata": {},
   "source": [
    "#### Classification: Predicting Query Category"
   ]
  },
  {
   "cell_type": "markdown",
   "id": "89c135f5",
   "metadata": {},
   "source": [
    "### What is Classification?\n",
    "\n",
    "Classification is a type of supervised machine learning task where the goal is to predict a category or label for new data based on patterns learned from labeled examples. For example, in this project, we use classification to automatically assign each student query to a specific category (like Academic, Technical, Financial, or General).\n",
    "\n",
    "**Key Points:**\n",
    "- The model learns from historical data with known categories.\n",
    "- It predicts the most likely category for new, unseen queries.\n",
    "- Common algorithms include Random Forest, Decision Trees, and Logistic Regression.\n",
    "\n",
    "**Typical Use Cases:**\n",
    "- Email spam detection (spam or not spam)\n",
    "- Medical diagnosis (disease type)\n",
    "- Customer segmentation (grouping by behavior)"
   ]
  },
  {
   "cell_type": "markdown",
   "id": "69fba01e",
   "metadata": {},
   "source": [
    "#### What is a Heatmap?\n",
    "\n",
    "A heatmap is a graphical representation of data where individual values are shown as colors in a matrix. It is commonly used to visualize the relationship between two variables or to display the frequency of values in a table.\n",
    "\n",
    "- **Rows and columns:** Represent different categories or variables.\n",
    "- **Colors:** Indicate the magnitude or frequency of the values (e.g., darker colors for higher values).\n",
    "\n",
    "Heatmaps are especially useful for visualizing correlation matrices, confusion matrices, or any data where patterns and trends can be spotted through color intensity."
   ]
  },
  {
   "cell_type": "code",
   "execution_count": 79,
   "id": "b2dd6573",
   "metadata": {},
   "outputs": [
    {
     "name": "stdout",
     "output_type": "stream",
     "text": [
      "Classification Accuracy: 0.22666666666666666\n",
      "Classification Report:\n",
      "               precision    recall  f1-score   support\n",
      "\n",
      "           0       0.16      0.12      0.14        74\n",
      "           1       0.24      0.27      0.26        81\n",
      "           2       0.23      0.32      0.26        60\n",
      "           3       0.26      0.21      0.23        85\n",
      "\n",
      "    accuracy                           0.23       300\n",
      "   macro avg       0.22      0.23      0.22       300\n",
      "weighted avg       0.22      0.23      0.22       300\n",
      "\n"
     ]
    },
    {
     "data": {
      "image/png": "[encoded data removed]",
      "text/plain": [
       "<Figure size 600x400 with 2 Axes>"
      ]
     },
     "metadata": {},
     "output_type": "display_data"
    }
   ],
   "source": [
    "# Prepare data\n",
    "X_clf = df[[\"Response_Time\", \"Satisfaction_Score\"]]\n",
    "y_clf = df[\"Query_Category\"]\n",
    "\n",
    "X_train, X_test, y_train, y_test = train_test_split(X_clf, y_clf, test_size=0.2, random_state=42)\n",
    "\n",
    "# Train Random Forest Classifier\n",
    "clf = RandomForestClassifier(n_estimators=100, random_state=42)\n",
    "clf.fit(X_train, y_train)\n",
    "\n",
    "# Predictions\n",
    "y_pred = clf.predict(X_test)\n",
    "\n",
    "# Model Evaluation\n",
    "print(\"Classification Accuracy:\", accuracy_score(y_test, y_pred))\n",
    "print(\"Classification Report:\\n\", classification_report(y_test, y_pred))\n",
    "\n",
    "# Confusion Matrix Visualization\n",
    "plt.figure(figsize=(6, 4))\n",
    "sns.heatmap(confusion_matrix(y_test, y_pred), annot=True, fmt=\"d\", cmap=\"Blues\")\n",
    "plt.title(\"Confusion Matrix\")\n",
    "plt.xlabel(\"Predicted Label\")\n",
    "plt.ylabel(\"True Label\")\n",
    "plt.show()"
   ]
  },
  {
   "cell_type": "markdown",
   "id": "9f8ac547",
   "metadata": {},
   "source": [
    "#### Regression: Predicting Response Time"
   ]
  },
  {
   "cell_type": "markdown",
   "id": "21e3b7be",
   "metadata": {},
   "source": [
    "#### What is Regression?\n",
    "\n",
    "Regression is a supervised machine learning technique used to predict a continuous numerical value based on input features. For example, in this project, regression is used to estimate the response time for student queries based on satisfaction scores and other factors.\n",
    "\n",
    "**Key Points:**\n",
    "- Predicts a number (not a category).\n",
    "- Helps understand relationships between variables.\n",
    "- Common algorithms: Linear Regression, Decision Tree Regression.\n",
    "\n",
    "**Typical Use Cases:**\n",
    "- Predicting house prices\n",
    "- Estimating delivery times\n",
    "- Forecasting sales\n",
    "\n",
    "\n",
    "------\n",
    "\n",
    "\n",
    "### Common Regression Metrics\n",
    "\n",
    "- **MAE (Mean Absolute Error):**  \n",
    "    Measures the average absolute difference between actual and predicted values.  \n",
    "    Formula:  \n",
    "    $$\n",
    "    \\text{MAE} = \\frac{1}{n} \\sum_{i=1}^{n} |y_i - \\hat{y}_i|\n",
    "    $$\n",
    "    **Use:** Easy to interpret; shows average error in the same units as the target.\n",
    "\n",
    "- **MSE (Mean Squared Error):**  \n",
    "    Measures the average of the squared differences between actual and predicted values.  \n",
    "    Formula:  \n",
    "    $$\n",
    "    \\text{MSE} = \\frac{1}{n} \\sum_{i=1}^{n} (y_i - \\hat{y}_i)^2\n",
    "    $$\n",
    "    **Use:** Penalizes larger errors more than MAE.\n",
    "\n",
    "- **RMSE (Root Mean Squared Error):**  \n",
    "    The square root of MSE; brings error back to original units.  \n",
    "    Formula:  \n",
    "    $$\n",
    "    \\text{RMSE} = \\sqrt{\\frac{1}{n} \\sum_{i=1}^{n} (y_i - \\hat{y}_i)^2}\n",
    "    $$\n",
    "    **Use:** Commonly used; easier to interpret than MSE.\n",
    "\n",
    "- **$R^2$ (R-Squared Score):**  \n",
    "    Indicates how well the model explains the variance in the data (ranges from 0 to 1; can be negative if the model is very poor).  \n",
    "    Formula:  \n",
    "    $$\n",
    "    R^2 = 1 - \\frac{\\sum_{i=1}^{n} (y_i - \\hat{y}_i)^2}{\\sum_{i=1}^{n} (y_i - \\bar{y})^2}\n",
    "    $$\n",
    "    **Use:** Shows the proportion of variance explained by the model; higher is better."
   ]
  },
  {
   "cell_type": "code",
   "execution_count": 80,
   "id": "d613afeb",
   "metadata": {},
   "outputs": [
    {
     "name": "stdout",
     "output_type": "stream",
     "text": [
      "Mean Absolute Error (MAE): 0.8607959001754747\n",
      "Mean Squared Error (MSE): 1.0277562442378898\n",
      "Root Mean Squared Error (RMSE): 1.013783134717623\n",
      "R-Squared Score (R²): -0.0011349408165410857\n"
     ]
    }
   ],
   "source": [
    "# Prepare data\n",
    "X_reg = df[[\"Satisfaction_Score\"]]\n",
    "y_reg = df[\"Response_Time\"]\n",
    "\n",
    "X_train_reg, X_test_reg, y_train_reg, y_test_reg = train_test_split(X_reg, y_reg, test_size=0.2, random_state=42)\n",
    "\n",
    "# Train Linear Regression\n",
    "reg = LinearRegression()\n",
    "reg.fit(X_train_reg, y_train_reg)\n",
    "\n",
    "# Predictions\n",
    "y_pred_reg = reg.predict(X_test_reg)\n",
    "\n",
    "# Model Evaluation\n",
    "mae = mean_absolute_error(y_test_reg, y_pred_reg)\n",
    "mse = mean_squared_error(y_test_reg, y_pred_reg)\n",
    "rmse = np.sqrt(mse)\n",
    "r2 = r2_score(y_test_reg, y_pred_reg)\n",
    "\n",
    "print(\"Mean Absolute Error (MAE):\", mae)\n",
    "print(\"Mean Squared Error (MSE):\", mse)\n",
    "print(\"Root Mean Squared Error (RMSE):\", rmse)\n",
    "print(\"R-Squared Score (R²):\", r2)"
   ]
  },
  {
   "cell_type": "markdown",
   "id": "8e0ed5ed",
   "metadata": {},
   "source": [
    "#### Interactive Scatter Plot for Actual vs. Predicted"
   ]
  },
  {
   "cell_type": "markdown",
   "id": "7cddf2e0",
   "metadata": {},
   "source": [
    "#### What is a Scatter Plot?\n",
    "\n",
    "A scatter plot is a type of graph that displays individual data points as dots on a two-dimensional grid. Each dot represents a pair of values—one on the x-axis and one on the y-axis. Scatter plots are useful for showing the relationship or correlation between two numerical variables.\n",
    "\n",
    "- **X-axis:** Represents one variable (e.g., actual values).\n",
    "- **Y-axis:** Represents another variable (e.g., predicted values).\n",
    "- **Dots:** Each dot shows a single observation.\n",
    "\n",
    "Scatter plots help you see patterns, trends, and possible outliers in your data. If the dots form a line or curve, it suggests a relationship between the variables."
   ]
  },
  {
   "cell_type": "code",
   "execution_count": 81,
   "id": "a777b9d4",
   "metadata": {},
   "outputs": [
    {
     "data": {
      "application/vnd.plotly.v1+json": {
       "config": {
        "plotlyServerURL": "https://plot.ly"
       },
       "data": [
        {
         "hovertemplate": "Actual Response Time=%{x}<br>Predicted Response Time=%{y}<extra></extra>",
         "legendgroup": "",
         "marker": {
          "color": "#636efa",
          "symbol": "circle"
         },
         "mode": "markers",
         "name": "",
         "orientation": "v",
         "showlegend": false,
         "type": "scatter",
         "x": {
          "bdata": "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",
          "dtype": "f8"
         },
         "xaxis": "x",
         "y": {
          "bdata": "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",
          "dtype": "f8"
         },
         "yaxis": "y"
        }
       ],
       "layout": {
        "legend": {
         "tracegroupgap": 0
        },
        "shapes": [
         {
          "line": {
           "color": "red",
           "dash": "dash"
          },
          "type": "line",
          "x0": -1.6656027210349944,
          "x1": 1.7708525875448313,
          "y0": -1.6656027210349944,
          "y1": 1.7708525875448313
         }
        ],
        "template": {
         "data": {
          "bar": [
           {
            "error_x": {
             "color": "#2a3f5f"
            },
            "error_y": {
             "color": "#2a3f5f"
            },
            "marker": {
             "line": {
              "color": "#E5ECF6",
              "width": 0.5
             },
             "pattern": {
              "fillmode": "overlay",
              "size": 10,
              "solidity": 0.2
             }
            },
            "type": "bar"
           }
          ],
          "barpolar": [
           {
            "marker": {
             "line": {
              "color": "#E5ECF6",
              "width": 0.5
             },
             "pattern": {
              "fillmode": "overlay",
              "size": 10,
              "solidity": 0.2
             }
            },
            "type": "barpolar"
           }
          ],
          "carpet": [
           {
            "aaxis": {
             "endlinecolor": "#2a3f5f",
             "gridcolor": "white",
             "linecolor": "white",
             "minorgridcolor": "white",
             "startlinecolor": "#2a3f5f"
            },
            "baxis": {
             "endlinecolor": "#2a3f5f",
             "gridcolor": "white",
             "linecolor": "white",
             "minorgridcolor": "white",
             "startlinecolor": "#2a3f5f"
            },
            "type": "carpet"
           }
          ],
          "choropleth": [
           {
            "colorbar": {
             "outlinewidth": 0,
             "ticks": ""
            },
            "type": "choropleth"
           }
          ],
          "contour": [
           {
            "colorbar": {
             "outlinewidth": 0,
             "ticks": ""
            },
            "colorscale": [
             [
              0,
              "#0d0887"
             ],
             [
              0.1111111111111111,
              "#46039f"
             ],
             [
              0.2222222222222222,
              "#7201a8"
             ],
             [
              0.3333333333333333,
              "#9c179e"
             ],
             [
              0.4444444444444444,
              "#bd3786"
             ],
             [
              0.5555555555555556,
              "#d8576b"
             ],
             [
              0.6666666666666666,
              "#ed7953"
             ],
             [
              0.7777777777777778,
              "#fb9f3a"
             ],
             [
              0.8888888888888888,
              "#fdca26"
             ],
             [
              1,
              "#f0f921"
             ]
            ],
            "type": "contour"
           }
          ],
          "contourcarpet": [
           {
            "colorbar": {
             "outlinewidth": 0,
             "ticks": ""
            },
            "type": "contourcarpet"
           }
          ],
          "heatmap": [
           {
            "colorbar": {
             "outlinewidth": 0,
             "ticks": ""
            },
            "colorscale": [
             [
              0,
              "#0d0887"
             ],
             [
              0.1111111111111111,
              "#46039f"
             ],
             [
              0.2222222222222222,
              "#7201a8"
             ],
             [
              0.3333333333333333,
              "#9c179e"
             ],
             [
              0.4444444444444444,
              "#bd3786"
             ],
             [
              0.5555555555555556,
              "#d8576b"
             ],
             [
              0.6666666666666666,
              "#ed7953"
             ],
             [
              0.7777777777777778,
              "#fb9f3a"
             ],
             [
              0.8888888888888888,
              "#fdca26"
             ],
             [
              1,
              "#f0f921"
             ]
            ],
            "type": "heatmap"
           }
          ],
          "histogram": [
           {
            "marker": {
             "pattern": {
              "fillmode": "overlay",
              "size": 10,
              "solidity": 0.2
             }
            },
            "type": "histogram"
           }
          ],
          "histogram2d": [
           {
            "colorbar": {
             "outlinewidth": 0,
             "ticks": ""
            },
            "colorscale": [
             [
              0,
              "#0d0887"
             ],
             [
              0.1111111111111111,
              "#46039f"
             ],
             [
              0.2222222222222222,
              "#7201a8"
             ],
             [
              0.3333333333333333,
              "#9c179e"
             ],
             [
              0.4444444444444444,
              "#bd3786"
             ],
             [
              0.5555555555555556,
              "#d8576b"
             ],
             [
              0.6666666666666666,
              "#ed7953"
             ],
             [
              0.7777777777777778,
              "#fb9f3a"
             ],
             [
              0.8888888888888888,
              "#fdca26"
             ],
             [
              1,
              "#f0f921"
             ]
            ],
            "type": "histogram2d"
           }
          ],
          "histogram2dcontour": [
           {
            "colorbar": {
             "outlinewidth": 0,
             "ticks": ""
            },
            "colorscale": [
             [
              0,
              "#0d0887"
             ],
             [
              0.1111111111111111,
              "#46039f"
             ],
             [
              0.2222222222222222,
              "#7201a8"
             ],
             [
              0.3333333333333333,
              "#9c179e"
             ],
             [
              0.4444444444444444,
              "#bd3786"
             ],
             [
              0.5555555555555556,
              "#d8576b"
             ],
             [
              0.6666666666666666,
              "#ed7953"
             ],
             [
              0.7777777777777778,
              "#fb9f3a"
             ],
             [
              0.8888888888888888,
              "#fdca26"
             ],
             [
              1,
              "#f0f921"
             ]
            ],
            "type": "histogram2dcontour"
           }
          ],
          "mesh3d": [
           {
            "colorbar": {
             "outlinewidth": 0,
             "ticks": ""
            },
            "type": "mesh3d"
           }
          ],
          "parcoords": [
           {
            "line": {
             "colorbar": {
              "outlinewidth": 0,
              "ticks": ""
             }
            },
            "type": "parcoords"
           }
          ],
          "pie": [
           {
            "automargin": true,
            "type": "pie"
           }
          ],
          "scatter": [
           {
            "fillpattern": {
             "fillmode": "overlay",
             "size": 10,
             "solidity": 0.2
            },
            "type": "scatter"
           }
          ],
          "scatter3d": [
           {
            "line": {
             "colorbar": {
              "outlinewidth": 0,
              "ticks": ""
             }
            },
            "marker": {
             "colorbar": {
              "outlinewidth": 0,
              "ticks": ""
             }
            },
            "type": "scatter3d"
           }
          ],
          "scattercarpet": [
           {
            "marker": {
             "colorbar": {
              "outlinewidth": 0,
              "ticks": ""
             }
            },
            "type": "scattercarpet"
           }
          ],
          "scattergeo": [
           {
            "marker": {
             "colorbar": {
              "outlinewidth": 0,
              "ticks": ""
             }
            },
            "type": "scattergeo"
           }
          ],
          "scattergl": [
           {
            "marker": {
             "colorbar": {
              "outlinewidth": 0,
              "ticks": ""
             }
            },
            "type": "scattergl"
           }
          ],
          "scattermap": [
           {
            "marker": {
             "colorbar": {
              "outlinewidth": 0,
              "ticks": ""
             }
            },
            "type": "scattermap"
           }
          ],
          "scattermapbox": [
           {
            "marker": {
             "colorbar": {
              "outlinewidth": 0,
              "ticks": ""
             }
            },
            "type": "scattermapbox"
           }
          ],
          "scatterpolar": [
           {
            "marker": {
             "colorbar": {
              "outlinewidth": 0,
              "ticks": ""
             }
            },
            "type": "scatterpolar"
           }
          ],
          "scatterpolargl": [
           {
            "marker": {
             "colorbar": {
              "outlinewidth": 0,
              "ticks": ""
             }
            },
            "type": "scatterpolargl"
           }
          ],
          "scatterternary": [
           {
            "marker": {
             "colorbar": {
              "outlinewidth": 0,
              "ticks": ""
             }
            },
            "type": "scatterternary"
           }
          ],
          "surface": [
           {
            "colorbar": {
             "outlinewidth": 0,
             "ticks": ""
            },
            "colorscale": [
             [
              0,
              "#0d0887"
             ],
             [
              0.1111111111111111,
              "#46039f"
             ],
             [
              0.2222222222222222,
              "#7201a8"
             ],
             [
              0.3333333333333333,
              "#9c179e"
             ],
             [
              0.4444444444444444,
              "#bd3786"
             ],
             [
              0.5555555555555556,
              "#d8576b"
             ],
             [
              0.6666666666666666,
              "#ed7953"
             ],
             [
              0.7777777777777778,
              "#fb9f3a"
             ],
             [
              0.8888888888888888,
              "#fdca26"
             ],
             [
              1,
              "#f0f921"
             ]
            ],
            "type": "surface"
           }
          ],
          "table": [
           {
            "cells": {
             "fill": {
              "color": "#EBF0F8"
             },
             "line": {
              "color": "white"
             }
            },
            "header": {
             "fill": {
              "color": "#C8D4E3"
             },
             "line": {
              "color": "white"
             }
            },
            "type": "table"
           }
          ]
         },
         "layout": {
          "annotationdefaults": {
           "arrowcolor": "#2a3f5f",
           "arrowhead": 0,
           "arrowwidth": 1
          },
          "autotypenumbers": "strict",
          "coloraxis": {
           "colorbar": {
            "outlinewidth": 0,
            "ticks": ""
           }
          },
          "colorscale": {
           "diverging": [
            [
             0,
             "#8e0152"
            ],
            [
             0.1,
             "#c51b7d"
            ],
            [
             0.2,
             "#de77ae"
            ],
            [
             0.3,
             "#f1b6da"
            ],
            [
             0.4,
             "#fde0ef"
            ],
            [
             0.5,
             "#f7f7f7"
            ],
            [
             0.6,
             "#e6f5d0"
            ],
            [
             0.7,
             "#b8e186"
            ],
            [
             0.8,
             "#7fbc41"
            ],
            [
             0.9,
             "#4d9221"
            ],
            [
             1,
             "#276419"
            ]
           ],
           "sequential": [
            [
             0,
             "#0d0887"
            ],
            [
             0.1111111111111111,
             "#46039f"
            ],
            [
             0.2222222222222222,
             "#7201a8"
            ],
            [
             0.3333333333333333,
             "#9c179e"
            ],
            [
             0.4444444444444444,
             "#bd3786"
            ],
            [
             0.5555555555555556,
             "#d8576b"
            ],
            [
             0.6666666666666666,
             "#ed7953"
            ],
            [
             0.7777777777777778,
             "#fb9f3a"
            ],
            [
             0.8888888888888888,
             "#fdca26"
            ],
            [
             1,
             "#f0f921"
            ]
           ],
           "sequentialminus": [
            [
             0,
             "#0d0887"
            ],
            [
             0.1111111111111111,
             "#46039f"
            ],
            [
             0.2222222222222222,
             "#7201a8"
            ],
            [
             0.3333333333333333,
             "#9c179e"
            ],
            [
             0.4444444444444444,
             "#bd3786"
            ],
            [
             0.5555555555555556,
             "#d8576b"
            ],
            [
             0.6666666666666666,
             "#ed7953"
            ],
            [
             0.7777777777777778,
             "#fb9f3a"
            ],
            [
             0.8888888888888888,
             "#fdca26"
            ],
            [
             1,
             "#f0f921"
            ]
           ]
          },
          "colorway": [
           "#636efa",
           "#EF553B",
           "#00cc96",
           "#ab63fa",
           "#FFA15A",
           "#19d3f3",
           "#FF6692",
           "#B6E880",
           "#FF97FF",
           "#FECB52"
          ],
          "font": {
           "color": "#2a3f5f"
          },
          "geo": {
           "bgcolor": "white",
           "lakecolor": "white",
           "landcolor": "#E5ECF6",
           "showlakes": true,
           "showland": true,
           "subunitcolor": "white"
          },
          "hoverlabel": {
           "align": "left"
          },
          "hovermode": "closest",
          "mapbox": {
           "style": "light"
          },
          "paper_bgcolor": "white",
          "plot_bgcolor": "#E5ECF6",
          "polar": {
           "angularaxis": {
            "gridcolor": "white",
            "linecolor": "white",
            "ticks": ""
           },
           "bgcolor": "#E5ECF6",
           "radialaxis": {
            "gridcolor": "white",
            "linecolor": "white",
            "ticks": ""
           }
          },
          "scene": {
           "xaxis": {
            "backgroundcolor": "#E5ECF6",
            "gridcolor": "white",
            "gridwidth": 2,
            "linecolor": "white",
            "showbackground": true,
            "ticks": "",
            "zerolinecolor": "white"
           },
           "yaxis": {
            "backgroundcolor": "#E5ECF6",
            "gridcolor": "white",
            "gridwidth": 2,
            "linecolor": "white",
            "showbackground": true,
            "ticks": "",
            "zerolinecolor": "white"
           },
           "zaxis": {
            "backgroundcolor": "#E5ECF6",
            "gridcolor": "white",
            "gridwidth": 2,
            "linecolor": "white",
            "showbackground": true,
            "ticks": "",
            "zerolinecolor": "white"
           }
          },
          "shapedefaults": {
           "line": {
            "color": "#2a3f5f"
           }
          },
          "ternary": {
           "aaxis": {
            "gridcolor": "white",
            "linecolor": "white",
            "ticks": ""
           },
           "baxis": {
            "gridcolor": "white",
            "linecolor": "white",
            "ticks": ""
           },
           "bgcolor": "#E5ECF6",
           "caxis": {
            "gridcolor": "white",
            "linecolor": "white",
            "ticks": ""
           }
          },
          "title": {
           "x": 0.05
          },
          "xaxis": {
           "automargin": true,
           "gridcolor": "white",
           "linecolor": "white",
           "ticks": "",
           "title": {
            "standoff": 15
           },
           "zerolinecolor": "white",
           "zerolinewidth": 2
          },
          "yaxis": {
           "automargin": true,
           "gridcolor": "white",
           "linecolor": "white",
           "ticks": "",
           "title": {
            "standoff": 15
           },
           "zerolinecolor": "white",
           "zerolinewidth": 2
          }
         }
        },
        "title": {
         "text": "Actual vs. Predicted Response Time"
        },
        "xaxis": {
         "anchor": "y",
         "domain": [
          0,
          1
         ],
         "title": {
          "text": "Actual Response Time"
         }
        },
        "yaxis": {
         "anchor": "x",
         "domain": [
          0,
          1
         ],
         "title": {
          "text": "Predicted Response Time"
         }
        }
       }
      }
     },
     "metadata": {},
     "output_type": "display_data"
    }
   ],
   "source": [
    "# Interactive Scatter Plot for Actual vs. Predicted\n",
    "fig = px.scatter(x=y_test_reg, y=y_pred_reg, title=\"Actual vs. Predicted Response Time\", labels={\"x\": \"Actual Response Time\", \"y\": \"Predicted Response Time\"})\n",
    "fig.add_shape(type=\"line\", x0=y_test_reg.min(), y0=y_test_reg.min(), x1=y_test_reg.max(), y1=y_test_reg.max(), line=dict(dash=\"dash\", color=\"red\"))\n",
    "fig.show()"
   ]
  },
  {
   "cell_type": "markdown",
   "id": "92507534",
   "metadata": {},
   "source": [
    "### Unsupervised Learning"
   ]
  },
  {
   "cell_type": "markdown",
   "id": "52fae9cb",
   "metadata": {},
   "source": [
    "#### Finding Optimal Clusters Using the Elbow Method"
   ]
  },
  {
   "cell_type": "markdown",
   "id": "8e6b84d6",
   "metadata": {},
   "source": []
  },
  {
   "cell_type": "code",
   "execution_count": 82,
   "id": "0c72a37d",
   "metadata": {},
   "outputs": [
    {
     "data": {
      "application/vnd.plotly.v1+json": {
       "config": {
        "plotlyServerURL": "https://plot.ly"
       },
       "data": [
        {
         "hovertemplate": "Number of Clusters=%{x}<br>WCSS=%{y}<extra></extra>",
         "legendgroup": "",
         "line": {
          "color": "#636efa",
          "dash": "solid"
         },
         "marker": {
          "symbol": "circle"
         },
         "mode": "lines",
         "name": "",
         "orientation": "v",
         "showlegend": false,
         "type": "scatter",
         "x": {
          "bdata": "AQIDBAUGBwgJCg==",
          "dtype": "i1"
         },
         "xaxis": "x",
         "y": {
          "bdata": "/P////9vp0C7hvvTbJCdQBqEd6I/m5JACtZkDjJNiEDuQFnd3RKEQFRczIzFrYBA7iaxDit7fUAcxnXL+uF4QMiezIfx+XRAiM5uL4TfckA=",
          "dtype": "f8"
         },
         "yaxis": "y"
        }
       ],
       "layout": {
        "legend": {
         "tracegroupgap": 0
        },
        "template": {
         "data": {
          "bar": [
           {
            "error_x": {
             "color": "#2a3f5f"
            },
            "error_y": {
             "color": "#2a3f5f"
            },
            "marker": {
             "line": {
              "color": "#E5ECF6",
              "width": 0.5
             },
             "pattern": {
              "fillmode": "overlay",
              "size": 10,
              "solidity": 0.2
             }
            },
            "type": "bar"
           }
          ],
          "barpolar": [
           {
            "marker": {
             "line": {
              "color": "#E5ECF6",
              "width": 0.5
             },
             "pattern": {
              "fillmode": "overlay",
              "size": 10,
              "solidity": 0.2
             }
            },
            "type": "barpolar"
           }
          ],
          "carpet": [
           {
            "aaxis": {
             "endlinecolor": "#2a3f5f",
             "gridcolor": "white",
             "linecolor": "white",
             "minorgridcolor": "white",
             "startlinecolor": "#2a3f5f"
            },
            "baxis": {
             "endlinecolor": "#2a3f5f",
             "gridcolor": "white",
             "linecolor": "white",
             "minorgridcolor": "white",
             "startlinecolor": "#2a3f5f"
            },
            "type": "carpet"
           }
          ],
          "choropleth": [
           {
            "colorbar": {
             "outlinewidth": 0,
             "ticks": ""
            },
            "type": "choropleth"
           }
          ],
          "contour": [
           {
            "colorbar": {
             "outlinewidth": 0,
             "ticks": ""
            },
            "colorscale": [
             [
              0,
              "#0d0887"
             ],
             [
              0.1111111111111111,
              "#46039f"
             ],
             [
              0.2222222222222222,
              "#7201a8"
             ],
             [
              0.3333333333333333,
              "#9c179e"
             ],
             [
              0.4444444444444444,
              "#bd3786"
             ],
             [
              0.5555555555555556,
              "#d8576b"
             ],
             [
              0.6666666666666666,
              "#ed7953"
             ],
             [
              0.7777777777777778,
              "#fb9f3a"
             ],
             [
              0.8888888888888888,
              "#fdca26"
             ],
             [
              1,
              "#f0f921"
             ]
            ],
            "type": "contour"
           }
          ],
          "contourcarpet": [
           {
            "colorbar": {
             "outlinewidth": 0,
             "ticks": ""
            },
            "type": "contourcarpet"
           }
          ],
          "heatmap": [
           {
            "colorbar": {
             "outlinewidth": 0,
             "ticks": ""
            },
            "colorscale": [
             [
              0,
              "#0d0887"
             ],
             [
              0.1111111111111111,
              "#46039f"
             ],
             [
              0.2222222222222222,
              "#7201a8"
             ],
             [
              0.3333333333333333,
              "#9c179e"
             ],
             [
              0.4444444444444444,
              "#bd3786"
             ],
             [
              0.5555555555555556,
              "#d8576b"
             ],
             [
              0.6666666666666666,
              "#ed7953"
             ],
             [
              0.7777777777777778,
              "#fb9f3a"
             ],
             [
              0.8888888888888888,
              "#fdca26"
             ],
             [
              1,
              "#f0f921"
             ]
            ],
            "type": "heatmap"
           }
          ],
          "histogram": [
           {
            "marker": {
             "pattern": {
              "fillmode": "overlay",
              "size": 10,
              "solidity": 0.2
             }
            },
            "type": "histogram"
           }
          ],
          "histogram2d": [
           {
            "colorbar": {
             "outlinewidth": 0,
             "ticks": ""
            },
            "colorscale": [
             [
              0,
              "#0d0887"
             ],
             [
              0.1111111111111111,
              "#46039f"
             ],
             [
              0.2222222222222222,
              "#7201a8"
             ],
             [
              0.3333333333333333,
              "#9c179e"
             ],
             [
              0.4444444444444444,
              "#bd3786"
             ],
             [
              0.5555555555555556,
              "#d8576b"
             ],
             [
              0.6666666666666666,
              "#ed7953"
             ],
             [
              0.7777777777777778,
              "#fb9f3a"
             ],
             [
              0.8888888888888888,
              "#fdca26"
             ],
             [
              1,
              "#f0f921"
             ]
            ],
            "type": "histogram2d"
           }
          ],
          "histogram2dcontour": [
           {
            "colorbar": {
             "outlinewidth": 0,
             "ticks": ""
            },
            "colorscale": [
             [
              0,
              "#0d0887"
             ],
             [
              0.1111111111111111,
              "#46039f"
             ],
             [
              0.2222222222222222,
              "#7201a8"
             ],
             [
              0.3333333333333333,
              "#9c179e"
             ],
             [
              0.4444444444444444,
              "#bd3786"
             ],
             [
              0.5555555555555556,
              "#d8576b"
             ],
             [
              0.6666666666666666,
              "#ed7953"
             ],
             [
              0.7777777777777778,
              "#fb9f3a"
             ],
             [
              0.8888888888888888,
              "#fdca26"
             ],
             [
              1,
              "#f0f921"
             ]
            ],
            "type": "histogram2dcontour"
           }
          ],
          "mesh3d": [
           {
            "colorbar": {
             "outlinewidth": 0,
             "ticks": ""
            },
            "type": "mesh3d"
           }
          ],
          "parcoords": [
           {
            "line": {
             "colorbar": {
              "outlinewidth": 0,
              "ticks": ""
             }
            },
            "type": "parcoords"
           }
          ],
          "pie": [
           {
            "automargin": true,
            "type": "pie"
           }
          ],
          "scatter": [
           {
            "fillpattern": {
             "fillmode": "overlay",
             "size": 10,
             "solidity": 0.2
            },
            "type": "scatter"
           }
          ],
          "scatter3d": [
           {
            "line": {
             "colorbar": {
              "outlinewidth": 0,
              "ticks": ""
             }
            },
            "marker": {
             "colorbar": {
              "outlinewidth": 0,
              "ticks": ""
             }
            },
            "type": "scatter3d"
           }
          ],
          "scattercarpet": [
           {
            "marker": {
             "colorbar": {
              "outlinewidth": 0,
              "ticks": ""
             }
            },
            "type": "scattercarpet"
           }
          ],
          "scattergeo": [
           {
            "marker": {
             "colorbar": {
              "outlinewidth": 0,
              "ticks": ""
             }
            },
            "type": "scattergeo"
           }
          ],
          "scattergl": [
           {
            "marker": {
             "colorbar": {
              "outlinewidth": 0,
              "ticks": ""
             }
            },
            "type": "scattergl"
           }
          ],
          "scattermap": [
           {
            "marker": {
             "colorbar": {
              "outlinewidth": 0,
              "ticks": ""
             }
            },
            "type": "scattermap"
           }
          ],
          "scattermapbox": [
           {
            "marker": {
             "colorbar": {
              "outlinewidth": 0,
              "ticks": ""
             }
            },
            "type": "scattermapbox"
           }
          ],
          "scatterpolar": [
           {
            "marker": {
             "colorbar": {
              "outlinewidth": 0,
              "ticks": ""
             }
            },
            "type": "scatterpolar"
           }
          ],
          "scatterpolargl": [
           {
            "marker": {
             "colorbar": {
              "outlinewidth": 0,
              "ticks": ""
             }
            },
            "type": "scatterpolargl"
           }
          ],
          "scatterternary": [
           {
            "marker": {
             "colorbar": {
              "outlinewidth": 0,
              "ticks": ""
             }
            },
            "type": "scatterternary"
           }
          ],
          "surface": [
           {
            "colorbar": {
             "outlinewidth": 0,
             "ticks": ""
            },
            "colorscale": [
             [
              0,
              "#0d0887"
             ],
             [
              0.1111111111111111,
              "#46039f"
             ],
             [
              0.2222222222222222,
              "#7201a8"
             ],
             [
              0.3333333333333333,
              "#9c179e"
             ],
             [
              0.4444444444444444,
              "#bd3786"
             ],
             [
              0.5555555555555556,
              "#d8576b"
             ],
             [
              0.6666666666666666,
              "#ed7953"
             ],
             [
              0.7777777777777778,
              "#fb9f3a"
             ],
             [
              0.8888888888888888,
              "#fdca26"
             ],
             [
              1,
              "#f0f921"
             ]
            ],
            "type": "surface"
           }
          ],
          "table": [
           {
            "cells": {
             "fill": {
              "color": "#EBF0F8"
             },
             "line": {
              "color": "white"
             }
            },
            "header": {
             "fill": {
              "color": "#C8D4E3"
             },
             "line": {
              "color": "white"
             }
            },
            "type": "table"
           }
          ]
         },
         "layout": {
          "annotationdefaults": {
           "arrowcolor": "#2a3f5f",
           "arrowhead": 0,
           "arrowwidth": 1
          },
          "autotypenumbers": "strict",
          "coloraxis": {
           "colorbar": {
            "outlinewidth": 0,
            "ticks": ""
           }
          },
          "colorscale": {
           "diverging": [
            [
             0,
             "#8e0152"
            ],
            [
             0.1,
             "#c51b7d"
            ],
            [
             0.2,
             "#de77ae"
            ],
            [
             0.3,
             "#f1b6da"
            ],
            [
             0.4,
             "#fde0ef"
            ],
            [
             0.5,
             "#f7f7f7"
            ],
            [
             0.6,
             "#e6f5d0"
            ],
            [
             0.7,
             "#b8e186"
            ],
            [
             0.8,
             "#7fbc41"
            ],
            [
             0.9,
             "#4d9221"
            ],
            [
             1,
             "#276419"
            ]
           ],
           "sequential": [
            [
             0,
             "#0d0887"
            ],
            [
             0.1111111111111111,
             "#46039f"
            ],
            [
             0.2222222222222222,
             "#7201a8"
            ],
            [
             0.3333333333333333,
             "#9c179e"
            ],
            [
             0.4444444444444444,
             "#bd3786"
            ],
            [
             0.5555555555555556,
             "#d8576b"
            ],
            [
             0.6666666666666666,
             "#ed7953"
            ],
            [
             0.7777777777777778,
             "#fb9f3a"
            ],
            [
             0.8888888888888888,
             "#fdca26"
            ],
            [
             1,
             "#f0f921"
            ]
           ],
           "sequentialminus": [
            [
             0,
             "#0d0887"
            ],
            [
             0.1111111111111111,
             "#46039f"
            ],
            [
             0.2222222222222222,
             "#7201a8"
            ],
            [
             0.3333333333333333,
             "#9c179e"
            ],
            [
             0.4444444444444444,
             "#bd3786"
            ],
            [
             0.5555555555555556,
             "#d8576b"
            ],
            [
             0.6666666666666666,
             "#ed7953"
            ],
            [
             0.7777777777777778,
             "#fb9f3a"
            ],
            [
             0.8888888888888888,
             "#fdca26"
            ],
            [
             1,
             "#f0f921"
            ]
           ]
          },
          "colorway": [
           "#636efa",
           "#EF553B",
           "#00cc96",
           "#ab63fa",
           "#FFA15A",
           "#19d3f3",
           "#FF6692",
           "#B6E880",
           "#FF97FF",
           "#FECB52"
          ],
          "font": {
           "color": "#2a3f5f"
          },
          "geo": {
           "bgcolor": "white",
           "lakecolor": "white",
           "landcolor": "#E5ECF6",
           "showlakes": true,
           "showland": true,
           "subunitcolor": "white"
          },
          "hoverlabel": {
           "align": "left"
          },
          "hovermode": "closest",
          "mapbox": {
           "style": "light"
          },
          "paper_bgcolor": "white",
          "plot_bgcolor": "#E5ECF6",
          "polar": {
           "angularaxis": {
            "gridcolor": "white",
            "linecolor": "white",
            "ticks": ""
           },
           "bgcolor": "#E5ECF6",
           "radialaxis": {
            "gridcolor": "white",
            "linecolor": "white",
            "ticks": ""
           }
          },
          "scene": {
           "xaxis": {
            "backgroundcolor": "#E5ECF6",
            "gridcolor": "white",
            "gridwidth": 2,
            "linecolor": "white",
            "showbackground": true,
            "ticks": "",
            "zerolinecolor": "white"
           },
           "yaxis": {
            "backgroundcolor": "#E5ECF6",
            "gridcolor": "white",
            "gridwidth": 2,
            "linecolor": "white",
            "showbackground": true,
            "ticks": "",
            "zerolinecolor": "white"
           },
           "zaxis": {
            "backgroundcolor": "#E5ECF6",
            "gridcolor": "white",
            "gridwidth": 2,
            "linecolor": "white",
            "showbackground": true,
            "ticks": "",
            "zerolinecolor": "white"
           }
          },
          "shapedefaults": {
           "line": {
            "color": "#2a3f5f"
           }
          },
          "ternary": {
           "aaxis": {
            "gridcolor": "white",
            "linecolor": "white",
            "ticks": ""
           },
           "baxis": {
            "gridcolor": "white",
            "linecolor": "white",
            "ticks": ""
           },
           "bgcolor": "#E5ECF6",
           "caxis": {
            "gridcolor": "white",
            "linecolor": "white",
            "ticks": ""
           }
          },
          "title": {
           "x": 0.05
          },
          "xaxis": {
           "automargin": true,
           "gridcolor": "white",
           "linecolor": "white",
           "ticks": "",
           "title": {
            "standoff": 15
           },
           "zerolinecolor": "white",
           "zerolinewidth": 2
          },
          "yaxis": {
           "automargin": true,
           "gridcolor": "white",
           "linecolor": "white",
           "ticks": "",
           "title": {
            "standoff": 15
           },
           "zerolinecolor": "white",
           "zerolinewidth": 2
          }
         }
        },
        "title": {
         "text": "Elbow Method for Optimal Clusters"
        },
        "xaxis": {
         "anchor": "y",
         "domain": [
          0,
          1
         ],
         "title": {
          "text": "Number of Clusters"
         }
        },
        "yaxis": {
         "anchor": "x",
         "domain": [
          0,
          1
         ],
         "title": {
          "text": "WCSS"
         }
        }
       }
      }
     },
     "metadata": {},
     "output_type": "display_data"
    }
   ],
   "source": [
    "wcss = []\n",
    "for i in range(1, 11):\n",
    "    kmeans = KMeans(n_clusters=i, random_state=42)\n",
    "    kmeans.fit(df[[\"Response_Time\", \"Satisfaction_Score\"]])\n",
    "    wcss.append(kmeans.inertia_)\n",
    "\n",
    "fig = px.line(x=list(range(1, 11)), y=wcss, title=\"Elbow Method for Optimal Clusters\", labels={\"x\": \"Number of Clusters\", \"y\": \"WCSS\"})\n",
    "fig.show()"
   ]
  },
  {
   "cell_type": "markdown",
   "id": "75a66091",
   "metadata": {},
   "source": [
    "#### Apply K-Means Clustering"
   ]
  },
  {
   "cell_type": "code",
   "execution_count": 83,
   "id": "f0f5cfc4",
   "metadata": {},
   "outputs": [
    {
     "data": {
      "application/vnd.plotly.v1+json": {
       "config": {
        "plotlyServerURL": "https://plot.ly"
       },
       "data": [
        {
         "hovertemplate": "Response Time=%{x}<br>Satisfaction Score=%{y}<br>Cluster=%{marker.color}<extra></extra>",
         "legendgroup": "",
         "marker": {
          "color": {
           "bdata": "AgAAAAAAAAACAAAAAQAAAAEAAAACAAAAAAAAAAAAAAAAAAAAAQAAAAEAAAABAAAAAAAAAAEAAAAAAAAAAAAAAAIAAAAAAAAAAAAAAAEAAAABAAAAAQAAAAEAAAABAAAAAgAAAAAAAAACAAAAAQAAAAEAAAABAAAAAgAAAAIAAAAAAAAAAQAAAAEAAAACAAAAAAAAAAEAAAAAAAAAAQAAAAEAAAABAAAAAAAAAAEAAAABAAAAAAAAAAIAAAACAAAAAAAAAAIAAAABAAAAAAAAAAEAAAAAAAAAAAAAAAAAAAAAAAAAAAAAAAIAAAACAAAAAgAAAAEAAAABAAAAAgAAAAEAAAABAAAAAQAAAAEAAAACAAAAAAAAAAEAAAABAAAAAQAAAAIAAAACAAAAAQAAAAEAAAAAAAAAAAAAAAAAAAAAAAAAAAAAAAIAAAACAAAAAAAAAAAAAAABAAAAAgAAAAEAAAABAAAAAQAAAAIAAAACAAAAAAAAAAEAAAAAAAAAAQAAAAEAAAABAAAAAgAAAAAAAAABAAAAAgAAAAIAAAABAAAAAAAAAAAAAAACAAAAAQAAAAIAAAACAAAAAQAAAAIAAAAAAAAAAgAAAAEAAAAAAAAAAAAAAAEAAAACAAAAAQAAAAIAAAACAAAAAgAAAAEAAAACAAAAAQAAAAAAAAAAAAAAAQAAAAEAAAACAAAAAQAAAAEAAAABAAAAAQAAAAAAAAACAAAAAAAAAAIAAAABAAAAAgAAAAEAAAACAAAAAgAAAAEAAAACAAAAAQAAAAAAAAAAAAAAAgAAAAEAAAAAAAAAAQAAAAEAAAACAAAAAAAAAAEAAAACAAAAAAAAAAAAAAAAAAAAAQAAAAEAAAABAAAAAgAAAAAAAAACAAAAAQAAAAIAAAABAAAAAgAAAAEAAAAAAAAAAAAAAAIAAAACAAAAAAAAAAIAAAABAAAAAAAAAAAAAAAAAAAAAAAAAAEAAAACAAAAAQAAAAIAAAAAAAAAAAAAAAEAAAACAAAAAQAAAAIAAAAAAAAAAAAAAAIAAAAAAAAAAgAAAAIAAAAAAAAAAgAAAAEAAAABAAAAAAAAAAAAAAABAAAAAAAAAAIAAAAAAAAAAQAAAAEAAAACAAAAAgAAAAAAAAAAAAAAAQAAAAEAAAAAAAAAAAAAAAEAAAAAAAAAAgAAAAEAAAAAAAAAAgAAAAEAAAACAAAAAQAAAAAAAAAAAAAAAQAAAAIAAAACAAAAAQAAAAAAAAACAAAAAgAAAAEAAAAAAAAAAAAAAAAAAAACAAAAAQAAAAEAAAABAAAAAgAAAAIAAAACAAAAAQAAAAEAAAAAAAAAAQAAAAIAAAACAAAAAQAAAAEAAAACAAAAAgAAAAEAAAAAAAAAAQAAAAEAAAABAAAAAAAAAAAAAAACAAAAAgAAAAIAAAACAAAAAAAAAAEAAAAAAAAAAgAAAAIAAAACAAAAAgAAAAEAAAACAAAAAQAAAAEAAAABAAAAAgAAAAEAAAACAAAAAQAAAAEAAAAAAAAAAQAAAAAAAAACAAAAAAAAAAIAAAAAAAAAAAAAAAEAAAACAAAAAgAAAAEAAAACAAAAAQAAAAEAAAACAAAAAAAAAAAAAAABAAAAAAAAAAEAAAABAAAAAQAAAAEAAAAAAAAAAAAAAAIAAAACAAAAAAAAAAAAAAABAAAAAAAAAAEAAAAAAAAAAQAAAAAAAAAAAAAAAQAAAAIAAAAAAAAAAQAAAAEAAAACAAAAAQAAAAAAAAAAAAAAAQAAAAEAAAAAAAAAAgAAAAIAAAAAAAAAAAAAAAEAAAACAAAAAQAAAAEAAAACAAAAAQAAAAIAAAAAAAAAAgAAAAIAAAAAAAAAAAAAAAIAAAABAAAAAAAAAAEAAAABAAAAAgAAAAIAAAACAAAAAAAAAAAAAAABAAAAAAAAAAEAAAABAAAAAAAAAAEAAAAAAAAAAQAAAAAAAAACAAAAAAAAAAEAAAABAAAAAgAAAAEAAAAAAAAAAQAAAAIAAAACAAAAAAAAAAEAAAAAAAAAAgAAAAEAAAACAAAAAQAAAAEAAAAAAAAAAAAAAAEAAAABAAAAAQAAAAIAAAACAAAAAAAAAAEAAAABAAAAAgAAAAAAAAABAAAAAgAAAAAAAAABAAAAAAAAAAIAAAACAAAAAgAAAAAAAAACAAAAAAAAAAIAAAACAAAAAAAAAAEAAAACAAAAAAAAAAAAAAABAAAAAgAAAAEAAAACAAAAAQAAAAIAAAACAAAAAgAAAAIAAAABAAAAAAAAAAEAAAACAAAAAQAAAAEAAAABAAAAAQAAAAAAAAAAAAAAAAAAAAIAAAAAAAAAAgAAAAAAAAACAAAAAQAAAAAAAAAAAAAAAQAAAAAAAAACAAAAAAAAAAEAAAABAAAAAAAAAAIAAAACAAAAAQAAAAEAAAACAAAAAAAAAAEAAAABAAAAAQAAAAIAAAABAAAAAQAAAAIAAAABAAAAAQAAAAIAAAABAAAAAgAAAAEAAAABAAAAAgAAAAAAAAACAAAAAQAAAAAAAAAAAAAAAgAAAAIAAAACAAAAAQAAAAEAAAACAAAAAgAAAAIAAAAAAAAAAQAAAAAAAAACAAAAAAAAAAAAAAACAAAAAgAAAAEAAAABAAAAAAAAAAIAAAACAAAAAQAAAAIAAAABAAAAAQAAAAAAAAABAAAAAgAAAAIAAAAAAAAAAQAAAAEAAAACAAAAAQAAAAIAAAAAAAAAAgAAAAEAAAAAAAAAAQAAAAEAAAABAAAAAgAAAAAAAAACAAAAAgAAAAIAAAACAAAAAQAAAAAAAAACAAAAAAAAAAAAAAACAAAAAAAAAAIAAAABAAAAAgAAAAIAAAABAAAAAQAAAAAAAAAAAAAAAgAAAAAAAAAAAAAAAQAAAAAAAAACAAAAAQAAAAEAAAACAAAAAAAAAAIAAAACAAAAAgAAAAEAAAABAAAAAQAAAAAAAAAAAAAAAAAAAAEAAAACAAAAAgAAAAIAAAAAAAAAAAAAAAIAAAABAAAAAQAAAAEAAAABAAAAAgAAAAEAAAAAAAAAAAAAAAIAAAABAAAAAQAAAAAAAAABAAAAAgAAAAEAAAACAAAAAAAAAAIAAAABAAAAAQAAAAEAAAAAAAAAAgAAAAIAAAABAAAAAQAAAAIAAAAAAAAAAgAAAAEAAAAAAAAAAAAAAAIAAAAAAAAAAAAAAAEAAAACAAAAAQAAAAEAAAABAAAAAQAAAAIAAAACAAAAAQAAAAAAAAACAAAAAAAAAAEAAAAAAAAAAAAAAAIAAAAAAAAAAQAAAAIAAAAAAAAAAgAAAAAAAAABAAAAAgAAAAEAAAABAAAAAgAAAAEAAAABAAAAAgAAAAAAAAACAAAAAgAAAAEAAAABAAAAAAAAAAIAAAAAAAAAAAAAAAIAAAABAAAAAQAAAAEAAAABAAAAAQAAAAIAAAACAAAAAgAAAAEAAAAAAAAAAQAAAAIAAAACAAAAAQAAAAAAAAACAAAAAQAAAAAAAAAAAAAAAAAAAAEAAAAAAAAAAgAAAAIAAAABAAAAAgAAAAIAAAACAAAAAAAAAAAAAAACAAAAAQAAAAEAAAACAAAAAQAAAAEAAAACAAAAAAAAAAAAAAACAAAAAAAAAAEAAAAAAAAAAgAAAAIAAAAAAAAAAAAAAAAAAAACAAAAAQAAAAAAAAAAAAAAAQAAAAEAAAAAAAAAAQAAAAAAAAACAAAAAQAAAAEAAAACAAAAAgAAAAEAAAAAAAAAAQAAAAAAAAACAAAAAQAAAAAAAAABAAAAAAAAAAIAAAABAAAAAAAAAAAAAAACAAAAAQAAAAAAAAACAAAAAAAAAAAAAAAAAAAAAQAAAAIAAAACAAAAAQAAAAIAAAABAAAAAQAAAAEAAAACAAAAAAAAAAIAAAACAAAAAgAAAAAAAAABAAAAAAAAAAEAAAAAAAAAAAAAAAAAAAAAAAAAAgAAAAAAAAABAAAAAQAAAAIAAAABAAAAAgAAAAAAAAABAAAAAQAAAAIAAAACAAAAAAAAAAIAAAABAAAAAgAAAAAAAAAAAAAAAAAAAAEAAAACAAAAAgAAAAAAAAABAAAAAQAAAAAAAAABAAAAAAAAAAEAAAABAAAAAQAAAAEAAAAAAAAAAgAAAAIAAAABAAAAAgAAAAEAAAACAAAAAQAAAAIAAAAAAAAAAQAAAAEAAAABAAAAAAAAAAIAAAACAAAAAgAAAAIAAAACAAAAAAAAAAIAAAABAAAAAAAAAAAAAAACAAAAAQAAAAIAAAAAAAAAAAAAAAAAAAABAAAAAgAAAAIAAAAAAAAAAQAAAAEAAAACAAAAAgAAAAAAAAAAAAAAAgAAAAEAAAACAAAAAQAAAAIAAAABAAAAAgAAAAEAAAABAAAAAQAAAAIAAAAAAAAAAQAAAAEAAAABAAAAAQAAAAAAAAACAAAAAQAAAAIAAAAAAAAAAQAAAAIAAAAAAAAAAAAAAAEAAAABAAAAAAAAAAEAAAAAAAAAAQAAAAAAAAACAAAAAQAAAAEAAAAAAAAAAAAAAAAAAAAAAAAAAQAAAAIAAAABAAAAAgAAAAEAAAACAAAAAAAAAAEAAAACAAAAAQAAAAEAAAACAAAAAQAAAAIAAAABAAAAAAAAAAAAAAACAAAAAAAAAAIAAAAAAAAAAgAAAAAAAAACAAAAAAAAAAIAAAAAAAAAAQAAAAEAAAACAAAAAQAAAAEAAAAAAAAAAAAAAAIAAAABAAAAAQAAAAIAAAACAAAAAAAAAAAAAAABAAAAAgAAAAEAAAACAAAAAgAAAAIAAAAAAAAAAgAAAAIAAAABAAAAAAAAAAEAAAAAAAAAAQAAAAIAAAAAAAAAAAAAAAAAAAABAAAAAQAAAAIAAAACAAAAAAAAAAIAAAAAAAAAAQAAAAIAAAABAAAAAgAAAAIAAAABAAAAAgAAAAAAAAABAAAAAgAAAAEAAAACAAAAAAAAAAAAAAABAAAAAgAAAAEAAAAAAAAAAQAAAAIAAAABAAAAAQAAAAEAAAAAAAAAAAAAAAEAAAABAAAAAgAAAAIAAAAAAAAAAgAAAAAAAAACAAAAAgAAAAEAAAACAAAAAQAAAAEAAAABAAAAAgAAAAEAAAAAAAAAAAAAAAEAAAAAAAAAAQAAAAAAAAAAAAAAAgAAAAEAAAAAAAAAAAAAAAAAAAABAAAAAQAAAAEAAAAAAAAAAQAAAAIAAAACAAAAAQAAAAEAAAABAAAAAQAAAAEAAAACAAAAAgAAAAAAAAAAAAAAAQAAAAEAAAAAAAAAAgAAAAAAAAAAAAAAAQAAAAIAAAAAAAAAAAAAAAEAAAACAAAAAgAAAAEAAAACAAAAAAAAAAEAAAAAAAAAAAAAAAAAAAACAAAAAAAAAAEAAAABAAAAAQAAAAAAAAABAAAAAgAAAAEAAAAAAAAAAgAAAAIAAAACAAAAAQAAAAAAAAABAAAAAgAAAAIAAAABAAAAAQAAAAEAAAAAAAAAAQAAAAIAAAACAAAAAQAAAAEAAAABAAAAAAAAAAAAAAACAAAAAgAAAAEAAAACAAAAAgAAAAEAAAABAAAAAAAAAAAAAAACAAAAAAAAAAIAAAABAAAAAAAAAAAAAAACAAAAAQAAAAEAAAABAAAAAAAAAAAAAAAAAAAAAQAAAAIAAAAAAAAAAgAAAAAAAAACAAAAAAAAAAEAAAACAAAAAAAAAAEAAAAAAAAAAgAAAAAAAAABAAAAAgAAAAIAAAABAAAAAAAAAAEAAAAAAAAAAAAAAAAAAAAAAAAAAQAAAAAAAAACAAAAAAAAAAIAAAAAAAAAAgAAAAAAAAABAAAAAQAAAAIAAAABAAAAAQAAAAEAAAACAAAAAgAAAAAAAAABAAAAAgAAAAAAAAABAAAAAAAAAAAAAAAAAAAAAQAAAAEAAAACAAAAAAAAAAIAAAACAAAAAQAAAAEAAAABAAAAAQAAAAIAAAACAAAAAgAAAAAAAAACAAAAAgAAAAAAAAACAAAAAQAAAAEAAAACAAAAAgAAAAAAAAAAAAAAAgAAAAIAAAABAAAAAAAAAAAAAAABAAAAAAAAAAIAAAABAAAAAQAAAAIAAAACAAAAAQAAAAIAAAACAAAAAgAAAAEAAAACAAAAAQAAAAEAAAACAAAAAAAAAAAAAAABAAAAAgAAAAEAAAACAAAAAQAAAAAAAAAAAAAAAAAAAAIAAAAAAAAAAgAAAAIAAAABAAAAAQAAAAEAAAACAAAAAQAAAAEAAAACAAAAAQAAAAIAAAACAAAAAAAAAAEAAAABAAAAAgAAAAEAAAABAAAAAQAAAAEAAAAAAAAAAgAAAAEAAAAAAAAAAgAAAAAAAAABAAAAAAAAAAEAAAABAAAAAAAAAAEAAAABAAAAAgAAAAAAAAABAAAAAgAAAAEAAAACAAAAAgAAAAEAAAACAAAAAQAAAAAAAAABAAAAAgAAAAIAAAABAAAAAgAAAAIAAAABAAAAAAAAAAIAAAABAAAAAAAAAAIAAAAAAAAAAAAAAAEAAAACAAAAAQAAAAEAAAAAAAAAAQAAAAEAAAABAAAAAAAAAAEAAAAAAAAAAAAAAAEAAAACAAAAAAAAAAEAAAACAAAAAAAAAAAAAAABAAAAAAAAAAIAAAAAAAAAAgAAAAEAAAAAAAAAAAAAAAAAAAABAAAAAQAAAAAAAAACAAAAAgAAAAIAAAAAAAAAAQAAAAEAAAACAAAAAAAAAAAAAAABAAAAAQAAAAIAAAACAAAAAgAAAAIAAAACAAAAAQAAAAAAAAACAAAAAgAAAAAAAAABAAAAAgAAAAIAAAABAAAAAgAAAAAAAAABAAAAAgAAAAEAAAACAAAAAAAAAAEAAAABAAAAAQAAAAAAAAAAAAAAAgAAAAIAAAACAAAAAgAAAAEAAAABAAAAAgAAAAAAAAACAAAAAQAAAAAAAAABAAAAAAAAAAEAAAACAAAAAgAAAAEAAAAAAAAAAQAAAAEAAAABAAAAAAAAAAAAAAABAAAAAgAAAAIAAAAAAAAAAQAAAAAAAAABAAAAAgAAAAAAAAACAAAAAQAAAAEAAAACAAAAAQAAAAAAAAAAAAAAAgAAAAEAAAAAAAAAAAAAAAEAAAABAAAAAQAAAAIAAAACAAAAAgAAAAEAAAABAAAAAQAAAAEAAAAAAAAAAQAAAAEAAAAAAAAAAgAAAAIAAAABAAAAAgAAAAEAAAABAAAAAgAAAAAAAAACAAAAAAAAAAIAAAABAAAAAQAAAAAAAAAAAAAAAAAAAAIAAAABAAAAAAAAAAEAAAABAAAAAQAAAAAAAAABAAAAAgAAAAEAAAABAAAAAgAAAAEAAAACAAAAAQAAAAIAAAACAAAAAQAAAAAAAAAAAAAAAAAAAAEAAAACAAAAAQAAAAAAAAAAAAAAAAAAAAIAAAAAAAAAAQAAAAIAAAAAAAAAAgAAAAEAAAAAAAAAAAAAAAAAAAAAAAAAAAAAAAAAAAACAAAAAgAAAAAAAAAAAAAAAgAAAAIAAAACAAAAAQAAAAEAAAABAAAAAAAAAAEAAAACAAAAAQAAAAIAAAAAAAAAAgAAAAEAAAACAAAAAgAAAAEAAAAAAAAAAgAAAAIAAAAAAAAAAQAAAAEAAAACAAAAAgAAAAIAAAACAAAAAAAAAAEAAAAAAAAAAQAAAAEAAAAAAAAAAQAAAAEAAAABAAAAAQAAAAEAAAAAAAAAAQAAAAEAAAAAAAAAAgAAAAIAAAACAAAAAQAAAAIAAAABAAAAAAAAAAIAAAACAAAAAAAAAAAAAAAAAAAAAgAAAAAAAAABAAAAAgAAAAEAAAABAAAAAgAAAAAAAAAAAAAAAQAAAAEAAAABAAAAAAAAAAEAAAAAAAAAAQAAAAIAAAABAAAAAQAAAAEAAAACAAAAAAAAAAAAAAAAAAAAAAAAAAAAAAAAAAAAAQAAAAAAAAABAAAAAAAAAAIAAAACAAAA",
           "dtype": "i4"
          },
          "coloraxis": "coloraxis",
          "symbol": "circle"
         },
         "mode": "markers",
         "name": "",
         "showlegend": false,
         "type": "scattergl",
         "x": {
          "bdata": "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",
          "dtype": "f8"
         },
         "xaxis": "x",
         "y": {
          "bdata": "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",
          "dtype": "f8"
         },
         "yaxis": "y"
        }
       ],
       "layout": {
        "coloraxis": {
         "colorbar": {
          "title": {
           "text": "Cluster"
          }
         },
         "colorscale": [
          [
           0,
           "#0d0887"
          ],
          [
           0.1111111111111111,
           "#46039f"
          ],
          [
           0.2222222222222222,
           "#7201a8"
          ],
          [
           0.3333333333333333,
           "#9c179e"
          ],
          [
           0.4444444444444444,
           "#bd3786"
          ],
          [
           0.5555555555555556,
           "#d8576b"
          ],
          [
           0.6666666666666666,
           "#ed7953"
          ],
          [
           0.7777777777777778,
           "#fb9f3a"
          ],
          [
           0.8888888888888888,
           "#fdca26"
          ],
          [
           1,
           "#f0f921"
          ]
         ]
        },
        "legend": {
         "tracegroupgap": 0
        },
        "template": {
         "data": {
          "bar": [
           {
            "error_x": {
             "color": "#2a3f5f"
            },
            "error_y": {
             "color": "#2a3f5f"
            },
            "marker": {
             "line": {
              "color": "#E5ECF6",
              "width": 0.5
             },
             "pattern": {
              "fillmode": "overlay",
              "size": 10,
              "solidity": 0.2
             }
            },
            "type": "bar"
           }
          ],
          "barpolar": [
           {
            "marker": {
             "line": {
              "color": "#E5ECF6",
              "width": 0.5
             },
             "pattern": {
              "fillmode": "overlay",
              "size": 10,
              "solidity": 0.2
             }
            },
            "type": "barpolar"
           }
          ],
          "carpet": [
           {
            "aaxis": {
             "endlinecolor": "#2a3f5f",
             "gridcolor": "white",
             "linecolor": "white",
             "minorgridcolor": "white",
             "startlinecolor": "#2a3f5f"
            },
            "baxis": {
             "endlinecolor": "#2a3f5f",
             "gridcolor": "white",
             "linecolor": "white",
             "minorgridcolor": "white",
             "startlinecolor": "#2a3f5f"
            },
            "type": "carpet"
           }
          ],
          "choropleth": [
           {
            "colorbar": {
             "outlinewidth": 0,
             "ticks": ""
            },
            "type": "choropleth"
           }
          ],
          "contour": [
           {
            "colorbar": {
             "outlinewidth": 0,
             "ticks": ""
            },
            "colorscale": [
             [
              0,
              "#0d0887"
             ],
             [
              0.1111111111111111,
              "#46039f"
             ],
             [
              0.2222222222222222,
              "#7201a8"
             ],
             [
              0.3333333333333333,
              "#9c179e"
             ],
             [
              0.4444444444444444,
              "#bd3786"
             ],
             [
              0.5555555555555556,
              "#d8576b"
             ],
             [
              0.6666666666666666,
              "#ed7953"
             ],
             [
              0.7777777777777778,
              "#fb9f3a"
             ],
             [
              0.8888888888888888,
              "#fdca26"
             ],
             [
              1,
              "#f0f921"
             ]
            ],
            "type": "contour"
           }
          ],
          "contourcarpet": [
           {
            "colorbar": {
             "outlinewidth": 0,
             "ticks": ""
            },
            "type": "contourcarpet"
           }
          ],
          "heatmap": [
           {
            "colorbar": {
             "outlinewidth": 0,
             "ticks": ""
            },
            "colorscale": [
             [
              0,
              "#0d0887"
             ],
             [
              0.1111111111111111,
              "#46039f"
             ],
             [
              0.2222222222222222,
              "#7201a8"
             ],
             [
              0.3333333333333333,
              "#9c179e"
             ],
             [
              0.4444444444444444,
              "#bd3786"
             ],
             [
              0.5555555555555556,
              "#d8576b"
             ],
             [
              0.6666666666666666,
              "#ed7953"
             ],
             [
              0.7777777777777778,
              "#fb9f3a"
             ],
             [
              0.8888888888888888,
              "#fdca26"
             ],
             [
              1,
              "#f0f921"
             ]
            ],
            "type": "heatmap"
           }
          ],
          "histogram": [
           {
            "marker": {
             "pattern": {
              "fillmode": "overlay",
              "size": 10,
              "solidity": 0.2
             }
            },
            "type": "histogram"
           }
          ],
          "histogram2d": [
           {
            "colorbar": {
             "outlinewidth": 0,
             "ticks": ""
            },
            "colorscale": [
             [
              0,
              "#0d0887"
             ],
             [
              0.1111111111111111,
              "#46039f"
             ],
             [
              0.2222222222222222,
              "#7201a8"
             ],
             [
              0.3333333333333333,
              "#9c179e"
             ],
             [
              0.4444444444444444,
              "#bd3786"
             ],
             [
              0.5555555555555556,
              "#d8576b"
             ],
             [
              0.6666666666666666,
              "#ed7953"
             ],
             [
              0.7777777777777778,
              "#fb9f3a"
             ],
             [
              0.8888888888888888,
              "#fdca26"
             ],
             [
              1,
              "#f0f921"
             ]
            ],
            "type": "histogram2d"
           }
          ],
          "histogram2dcontour": [
           {
            "colorbar": {
             "outlinewidth": 0,
             "ticks": ""
            },
            "colorscale": [
             [
              0,
              "#0d0887"
             ],
             [
              0.1111111111111111,
              "#46039f"
             ],
             [
              0.2222222222222222,
              "#7201a8"
             ],
             [
              0.3333333333333333,
              "#9c179e"
             ],
             [
              0.4444444444444444,
              "#bd3786"
             ],
             [
              0.5555555555555556,
              "#d8576b"
             ],
             [
              0.6666666666666666,
              "#ed7953"
             ],
             [
              0.7777777777777778,
              "#fb9f3a"
             ],
             [
              0.8888888888888888,
              "#fdca26"
             ],
             [
              1,
              "#f0f921"
             ]
            ],
            "type": "histogram2dcontour"
           }
          ],
          "mesh3d": [
           {
            "colorbar": {
             "outlinewidth": 0,
             "ticks": ""
            },
            "type": "mesh3d"
           }
          ],
          "parcoords": [
           {
            "line": {
             "colorbar": {
              "outlinewidth": 0,
              "ticks": ""
             }
            },
            "type": "parcoords"
           }
          ],
          "pie": [
           {
            "automargin": true,
            "type": "pie"
           }
          ],
          "scatter": [
           {
            "fillpattern": {
             "fillmode": "overlay",
             "size": 10,
             "solidity": 0.2
            },
            "type": "scatter"
           }
          ],
          "scatter3d": [
           {
            "line": {
             "colorbar": {
              "outlinewidth": 0,
              "ticks": ""
             }
            },
            "marker": {
             "colorbar": {
              "outlinewidth": 0,
              "ticks": ""
             }
            },
            "type": "scatter3d"
           }
          ],
          "scattercarpet": [
           {
            "marker": {
             "colorbar": {
              "outlinewidth": 0,
              "ticks": ""
             }
            },
            "type": "scattercarpet"
           }
          ],
          "scattergeo": [
           {
            "marker": {
             "colorbar": {
              "outlinewidth": 0,
              "ticks": ""
             }
            },
            "type": "scattergeo"
           }
          ],
          "scattergl": [
           {
            "marker": {
             "colorbar": {
              "outlinewidth": 0,
              "ticks": ""
             }
            },
            "type": "scattergl"
           }
          ],
          "scattermap": [
           {
            "marker": {
             "colorbar": {
              "outlinewidth": 0,
              "ticks": ""
             }
            },
            "type": "scattermap"
           }
          ],
          "scattermapbox": [
           {
            "marker": {
             "colorbar": {
              "outlinewidth": 0,
              "ticks": ""
             }
            },
            "type": "scattermapbox"
           }
          ],
          "scatterpolar": [
           {
            "marker": {
             "colorbar": {
              "outlinewidth": 0,
              "ticks": ""
             }
            },
            "type": "scatterpolar"
           }
          ],
          "scatterpolargl": [
           {
            "marker": {
             "colorbar": {
              "outlinewidth": 0,
              "ticks": ""
             }
            },
            "type": "scatterpolargl"
           }
          ],
          "scatterternary": [
           {
            "marker": {
             "colorbar": {
              "outlinewidth": 0,
              "ticks": ""
             }
            },
            "type": "scatterternary"
           }
          ],
          "surface": [
           {
            "colorbar": {
             "outlinewidth": 0,
             "ticks": ""
            },
            "colorscale": [
             [
              0,
              "#0d0887"
             ],
             [
              0.1111111111111111,
              "#46039f"
             ],
             [
              0.2222222222222222,
              "#7201a8"
             ],
             [
              0.3333333333333333,
              "#9c179e"
             ],
             [
              0.4444444444444444,
              "#bd3786"
             ],
             [
              0.5555555555555556,
              "#d8576b"
             ],
             [
              0.6666666666666666,
              "#ed7953"
             ],
             [
              0.7777777777777778,
              "#fb9f3a"
             ],
             [
              0.8888888888888888,
              "#fdca26"
             ],
             [
              1,
              "#f0f921"
             ]
            ],
            "type": "surface"
           }
          ],
          "table": [
           {
            "cells": {
             "fill": {
              "color": "#EBF0F8"
             },
             "line": {
              "color": "white"
             }
            },
            "header": {
             "fill": {
              "color": "#C8D4E3"
             },
             "line": {
              "color": "white"
             }
            },
            "type": "table"
           }
          ]
         },
         "layout": {
          "annotationdefaults": {
           "arrowcolor": "#2a3f5f",
           "arrowhead": 0,
           "arrowwidth": 1
          },
          "autotypenumbers": "strict",
          "coloraxis": {
           "colorbar": {
            "outlinewidth": 0,
            "ticks": ""
           }
          },
          "colorscale": {
           "diverging": [
            [
             0,
             "#8e0152"
            ],
            [
             0.1,
             "#c51b7d"
            ],
            [
             0.2,
             "#de77ae"
            ],
            [
             0.3,
             "#f1b6da"
            ],
            [
             0.4,
             "#fde0ef"
            ],
            [
             0.5,
             "#f7f7f7"
            ],
            [
             0.6,
             "#e6f5d0"
            ],
            [
             0.7,
             "#b8e186"
            ],
            [
             0.8,
             "#7fbc41"
            ],
            [
             0.9,
             "#4d9221"
            ],
            [
             1,
             "#276419"
            ]
           ],
           "sequential": [
            [
             0,
             "#0d0887"
            ],
            [
             0.1111111111111111,
             "#46039f"
            ],
            [
             0.2222222222222222,
             "#7201a8"
            ],
            [
             0.3333333333333333,
             "#9c179e"
            ],
            [
             0.4444444444444444,
             "#bd3786"
            ],
            [
             0.5555555555555556,
             "#d8576b"
            ],
            [
             0.6666666666666666,
             "#ed7953"
            ],
            [
             0.7777777777777778,
             "#fb9f3a"
            ],
            [
             0.8888888888888888,
             "#fdca26"
            ],
            [
             1,
             "#f0f921"
            ]
           ],
           "sequentialminus": [
            [
             0,
             "#0d0887"
            ],
            [
             0.1111111111111111,
             "#46039f"
            ],
            [
             0.2222222222222222,
             "#7201a8"
            ],
            [
             0.3333333333333333,
             "#9c179e"
            ],
            [
             0.4444444444444444,
             "#bd3786"
            ],
            [
             0.5555555555555556,
             "#d8576b"
            ],
            [
             0.6666666666666666,
             "#ed7953"
            ],
            [
             0.7777777777777778,
             "#fb9f3a"
            ],
            [
             0.8888888888888888,
             "#fdca26"
            ],
            [
             1,
             "#f0f921"
            ]
           ]
          },
          "colorway": [
           "#636efa",
           "#EF553B",
           "#00cc96",
           "#ab63fa",
           "#FFA15A",
           "#19d3f3",
           "#FF6692",
           "#B6E880",
           "#FF97FF",
           "#FECB52"
          ],
          "font": {
           "color": "#2a3f5f"
          },
          "geo": {
           "bgcolor": "white",
           "lakecolor": "white",
           "landcolor": "#E5ECF6",
           "showlakes": true,
           "showland": true,
           "subunitcolor": "white"
          },
          "hoverlabel": {
           "align": "left"
          },
          "hovermode": "closest",
          "mapbox": {
           "style": "light"
          },
          "paper_bgcolor": "white",
          "plot_bgcolor": "#E5ECF6",
          "polar": {
           "angularaxis": {
            "gridcolor": "white",
            "linecolor": "white",
            "ticks": ""
           },
           "bgcolor": "#E5ECF6",
           "radialaxis": {
            "gridcolor": "white",
            "linecolor": "white",
            "ticks": ""
           }
          },
          "scene": {
           "xaxis": {
            "backgroundcolor": "#E5ECF6",
            "gridcolor": "white",
            "gridwidth": 2,
            "linecolor": "white",
            "showbackground": true,
            "ticks": "",
            "zerolinecolor": "white"
           },
           "yaxis": {
            "backgroundcolor": "#E5ECF6",
            "gridcolor": "white",
            "gridwidth": 2,
            "linecolor": "white",
            "showbackground": true,
            "ticks": "",
            "zerolinecolor": "white"
           },
           "zaxis": {
            "backgroundcolor": "#E5ECF6",
            "gridcolor": "white",
            "gridwidth": 2,
            "linecolor": "white",
            "showbackground": true,
            "ticks": "",
            "zerolinecolor": "white"
           }
          },
          "shapedefaults": {
           "line": {
            "color": "#2a3f5f"
           }
          },
          "ternary": {
           "aaxis": {
            "gridcolor": "white",
            "linecolor": "white",
            "ticks": ""
           },
           "baxis": {
            "gridcolor": "white",
            "linecolor": "white",
            "ticks": ""
           },
           "bgcolor": "#E5ECF6",
           "caxis": {
            "gridcolor": "white",
            "linecolor": "white",
            "ticks": ""
           }
          },
          "title": {
           "x": 0.05
          },
          "xaxis": {
           "automargin": true,
           "gridcolor": "white",
           "linecolor": "white",
           "ticks": "",
           "title": {
            "standoff": 15
           },
           "zerolinecolor": "white",
           "zerolinewidth": 2
          },
          "yaxis": {
           "automargin": true,
           "gridcolor": "white",
           "linecolor": "white",
           "ticks": "",
           "title": {
            "standoff": 15
           },
           "zerolinecolor": "white",
           "zerolinewidth": 2
          }
         }
        },
        "title": {
         "text": "Clusters of Queries"
        },
        "xaxis": {
         "anchor": "y",
         "domain": [
          0,
          1
         ],
         "title": {
          "text": "Response Time"
         }
        },
        "yaxis": {
         "anchor": "x",
         "domain": [
          0,
          1
         ],
         "title": {
          "text": "Satisfaction Score"
         }
        }
       }
      }
     },
     "metadata": {},
     "output_type": "display_data"
    }
   ],
   "source": [
    "kmeans = KMeans(n_clusters=3, random_state=42)\n",
    "df[\"Cluster\"] = kmeans.fit_predict(df[[\"Response_Time\", \"Satisfaction_Score\"]])\n",
    "\n",
    "# Interactive Scatter Plot for Clusters\n",
    "fig = px.scatter(df, x=\"Response_Time\", y=\"Satisfaction_Score\", color=\"Cluster\", title=\"Clusters of Queries\", labels={\"Response_Time\": \"Response Time\", \"Satisfaction_Score\": \"Satisfaction Score\", \"Cluster\": \"Cluster\"})\n",
    "fig.show()"
   ]
  },
  {
   "cell_type": "markdown",
   "id": "36709233",
   "metadata": {},
   "source": [
    "### Model Interpretability using LIME"
   ]
  },
  {
   "cell_type": "code",
   "execution_count": 84,
   "id": "c92032cb",
   "metadata": {},
   "outputs": [
    {
     "data": {
      "image/png": "[encoded data removed]",
      "text/plain": [
       "<Figure size 640x480 with 1 Axes>"
      ]
     },
     "metadata": {},
     "output_type": "display_data"
    },
    {
     "name": "stdout",
     "output_type": "stream",
     "text": [
      "Models saved successfully!\n"
     ]
    }
   ],
   "source": [
    "# Model Interpretability with LIME\n",
    "explainer = LimeTabularExplainer(\n",
    "\ttraining_data=X_train.values,\n",
    "\tfeature_names=X_train.columns,\n",
    "\tclass_names=[str(c) for c in np.unique(y_train)],\n",
    "\tmode=\"classification\"\n",
    ")\n",
    "# Select a test instance to explain\n",
    "instance = X_test.iloc[0]\n",
    "\n",
    "exp = explainer.explain_instance(instance.values, clf.predict_proba, num_features=2)\n",
    "fig = exp.as_pyplot_figure()\n",
    "plt.show()  # Ensures the plot is displayed only once\n",
    "\n",
    "# Save the models\n",
    "import joblib\n",
    "joblib.dump(clf, \"random_forest_model.pkl\")\n",
    "joblib.dump(reg, \"linear_regression_model.pkl\")\n",
    "print(\"Models saved successfully!\")"
   ]
  },
  {
   "cell_type": "code",
   "execution_count": 85,
   "id": "f3684102",
   "metadata": {},
   "outputs": [
    {
     "data": {
      "text/html": [
       "<style>#sk-container-id-3 {\n",
       "  /* Definition of color scheme common for light and dark mode */\n",
       "  --sklearn-color-text: #000;\n",
       "  --sklearn-color-text-muted: #666;\n",
       "  --sklearn-color-line: gray;\n",
       "  /* Definition of color scheme for unfitted estimators */\n",
       "  --sklearn-color-unfitted-level-0: #fff5e6;\n",
       "  --sklearn-color-unfitted-level-1: #f6e4d2;\n",
       "  --sklearn-color-unfitted-level-2: #ffe0b3;\n",
       "  --sklearn-color-unfitted-level-3: chocolate;\n",
       "  /* Definition of color scheme for fitted estimators */\n",
       "  --sklearn-color-fitted-level-0: #f0f8ff;\n",
       "  --sklearn-color-fitted-level-1: #d4ebff;\n",
       "  --sklearn-color-fitted-level-2: #b3dbfd;\n",
       "  --sklearn-color-fitted-level-3: cornflowerblue;\n",
       "\n",
       "  /* Specific color for light theme */\n",
       "  --sklearn-color-text-on-default-background: var(--sg-text-color, var(--theme-code-foreground, var(--jp-content-font-color1, black)));\n",
       "  --sklearn-color-background: var(--sg-background-color, var(--theme-background, var(--jp-layout-color0, white)));\n",
       "  --sklearn-color-border-box: var(--sg-text-color, var(--theme-code-foreground, var(--jp-content-font-color1, black)));\n",
       "  --sklearn-color-icon: #696969;\n",
       "\n",
       "  @media (prefers-color-scheme: dark) {\n",
       "    /* Redefinition of color scheme for dark theme */\n",
       "    --sklearn-color-text-on-default-background: var(--sg-text-color, var(--theme-code-foreground, var(--jp-content-font-color1, white)));\n",
       "    --sklearn-color-background: var(--sg-background-color, var(--theme-background, var(--jp-layout-color0, #111)));\n",
       "    --sklearn-color-border-box: var(--sg-text-color, var(--theme-code-foreground, var(--jp-content-font-color1, white)));\n",
       "    --sklearn-color-icon: #878787;\n",
       "  }\n",
       "}\n",
       "\n",
       "#sk-container-id-3 {\n",
       "  color: var(--sklearn-color-text);\n",
       "}\n",
       "\n",
       "#sk-container-id-3 pre {\n",
       "  padding: 0;\n",
       "}\n",
       "\n",
       "#sk-container-id-3 input.sk-hidden--visually {\n",
       "  border: 0;\n",
       "  clip: rect(1px 1px 1px 1px);\n",
       "  clip: rect(1px, 1px, 1px, 1px);\n",
       "  height: 1px;\n",
       "  margin: -1px;\n",
       "  overflow: hidden;\n",
       "  padding: 0;\n",
       "  position: absolute;\n",
       "  width: 1px;\n",
       "}\n",
       "\n",
       "#sk-container-id-3 div.sk-dashed-wrapped {\n",
       "  border: 1px dashed var(--sklearn-color-line);\n",
       "  margin: 0 0.4em 0.5em 0.4em;\n",
       "  box-sizing: border-box;\n",
       "  padding-bottom: 0.4em;\n",
       "  background-color: var(--sklearn-color-background);\n",
       "}\n",
       "\n",
       "#sk-container-id-3 div.sk-container {\n",
       "  /* jupyter's `normalize.less` sets `[hidden] { display: none; }`\n",
       "     but bootstrap.min.css set `[hidden] { display: none !important; }`\n",
       "     so we also need the `!important` here to be able to override the\n",
       "     default hidden behavior on the sphinx rendered scikit-learn.org.\n",
       "     See: https://github.com/scikit-learn/scikit-learn/issues/21755 */\n",
       "  display: inline-block !important;\n",
       "  position: relative;\n",
       "}\n",
       "\n",
       "#sk-container-id-3 div.sk-text-repr-fallback {\n",
       "  display: none;\n",
       "}\n",
       "\n",
       "div.sk-parallel-item,\n",
       "div.sk-serial,\n",
       "div.sk-item {\n",
       "  /* draw centered vertical line to link estimators */\n",
       "  background-image: linear-gradient(var(--sklearn-color-text-on-default-background), var(--sklearn-color-text-on-default-background));\n",
       "  background-size: 2px 100%;\n",
       "  background-repeat: no-repeat;\n",
       "  background-position: center center;\n",
       "}\n",
       "\n",
       "/* Parallel-specific style estimator block */\n",
       "\n",
       "#sk-container-id-3 div.sk-parallel-item::after {\n",
       "  content: \"\";\n",
       "  width: 100%;\n",
       "  border-bottom: 2px solid var(--sklearn-color-text-on-default-background);\n",
       "  flex-grow: 1;\n",
       "}\n",
       "\n",
       "#sk-container-id-3 div.sk-parallel {\n",
       "  display: flex;\n",
       "  align-items: stretch;\n",
       "  justify-content: center;\n",
       "  background-color: var(--sklearn-color-background);\n",
       "  position: relative;\n",
       "}\n",
       "\n",
       "#sk-container-id-3 div.sk-parallel-item {\n",
       "  display: flex;\n",
       "  flex-direction: column;\n",
       "}\n",
       "\n",
       "#sk-container-id-3 div.sk-parallel-item:first-child::after {\n",
       "  align-self: flex-end;\n",
       "  width: 50%;\n",
       "}\n",
       "\n",
       "#sk-container-id-3 div.sk-parallel-item:last-child::after {\n",
       "  align-self: flex-start;\n",
       "  width: 50%;\n",
       "}\n",
       "\n",
       "#sk-container-id-3 div.sk-parallel-item:only-child::after {\n",
       "  width: 0;\n",
       "}\n",
       "\n",
       "/* Serial-specific style estimator block */\n",
       "\n",
       "#sk-container-id-3 div.sk-serial {\n",
       "  display: flex;\n",
       "  flex-direction: column;\n",
       "  align-items: center;\n",
       "  background-color: var(--sklearn-color-background);\n",
       "  padding-right: 1em;\n",
       "  padding-left: 1em;\n",
       "}\n",
       "\n",
       "\n",
       "/* Toggleable style: style used for estimator/Pipeline/ColumnTransformer box that is\n",
       "clickable and can be expanded/collapsed.\n",
       "- Pipeline and ColumnTransformer use this feature and define the default style\n",
       "- Estimators will overwrite some part of the style using the `sk-estimator` class\n",
       "*/\n",
       "\n",
       "/* Pipeline and ColumnTransformer style (default) */\n",
       "\n",
       "#sk-container-id-3 div.sk-toggleable {\n",
       "  /* Default theme specific background. It is overwritten whether we have a\n",
       "  specific estimator or a Pipeline/ColumnTransformer */\n",
       "  background-color: var(--sklearn-color-background);\n",
       "}\n",
       "\n",
       "/* Toggleable label */\n",
       "#sk-container-id-3 label.sk-toggleable__label {\n",
       "  cursor: pointer;\n",
       "  display: flex;\n",
       "  width: 100%;\n",
       "  margin-bottom: 0;\n",
       "  padding: 0.5em;\n",
       "  box-sizing: border-box;\n",
       "  text-align: center;\n",
       "  align-items: start;\n",
       "  justify-content: space-between;\n",
       "  gap: 0.5em;\n",
       "}\n",
       "\n",
       "#sk-container-id-3 label.sk-toggleable__label .caption {\n",
       "  font-size: 0.6rem;\n",
       "  font-weight: lighter;\n",
       "  color: var(--sklearn-color-text-muted);\n",
       "}\n",
       "\n",
       "#sk-container-id-3 label.sk-toggleable__label-arrow:before {\n",
       "  /* Arrow on the left of the label */\n",
       "  content: \"▸\";\n",
       "  float: left;\n",
       "  margin-right: 0.25em;\n",
       "  color: var(--sklearn-color-icon);\n",
       "}\n",
       "\n",
       "#sk-container-id-3 label.sk-toggleable__label-arrow:hover:before {\n",
       "  color: var(--sklearn-color-text);\n",
       "}\n",
       "\n",
       "/* Toggleable content - dropdown */\n",
       "\n",
       "#sk-container-id-3 div.sk-toggleable__content {\n",
       "  max-height: 0;\n",
       "  max-width: 0;\n",
       "  overflow: hidden;\n",
       "  text-align: left;\n",
       "  /* unfitted */\n",
       "  background-color: var(--sklearn-color-unfitted-level-0);\n",
       "}\n",
       "\n",
       "#sk-container-id-3 div.sk-toggleable__content.fitted {\n",
       "  /* fitted */\n",
       "  background-color: var(--sklearn-color-fitted-level-0);\n",
       "}\n",
       "\n",
       "#sk-container-id-3 div.sk-toggleable__content pre {\n",
       "  margin: 0.2em;\n",
       "  border-radius: 0.25em;\n",
       "  color: var(--sklearn-color-text);\n",
       "  /* unfitted */\n",
       "  background-color: var(--sklearn-color-unfitted-level-0);\n",
       "}\n",
       "\n",
       "#sk-container-id-3 div.sk-toggleable__content.fitted pre {\n",
       "  /* unfitted */\n",
       "  background-color: var(--sklearn-color-fitted-level-0);\n",
       "}\n",
       "\n",
       "#sk-container-id-3 input.sk-toggleable__control:checked~div.sk-toggleable__content {\n",
       "  /* Expand drop-down */\n",
       "  max-height: 200px;\n",
       "  max-width: 100%;\n",
       "  overflow: auto;\n",
       "}\n",
       "\n",
       "#sk-container-id-3 input.sk-toggleable__control:checked~label.sk-toggleable__label-arrow:before {\n",
       "  content: \"▾\";\n",
       "}\n",
       "\n",
       "/* Pipeline/ColumnTransformer-specific style */\n",
       "\n",
       "#sk-container-id-3 div.sk-label input.sk-toggleable__control:checked~label.sk-toggleable__label {\n",
       "  color: var(--sklearn-color-text);\n",
       "  background-color: var(--sklearn-color-unfitted-level-2);\n",
       "}\n",
       "\n",
       "#sk-container-id-3 div.sk-label.fitted input.sk-toggleable__control:checked~label.sk-toggleable__label {\n",
       "  background-color: var(--sklearn-color-fitted-level-2);\n",
       "}\n",
       "\n",
       "/* Estimator-specific style */\n",
       "\n",
       "/* Colorize estimator box */\n",
       "#sk-container-id-3 div.sk-estimator input.sk-toggleable__control:checked~label.sk-toggleable__label {\n",
       "  /* unfitted */\n",
       "  background-color: var(--sklearn-color-unfitted-level-2);\n",
       "}\n",
       "\n",
       "#sk-container-id-3 div.sk-estimator.fitted input.sk-toggleable__control:checked~label.sk-toggleable__label {\n",
       "  /* fitted */\n",
       "  background-color: var(--sklearn-color-fitted-level-2);\n",
       "}\n",
       "\n",
       "#sk-container-id-3 div.sk-label label.sk-toggleable__label,\n",
       "#sk-container-id-3 div.sk-label label {\n",
       "  /* The background is the default theme color */\n",
       "  color: var(--sklearn-color-text-on-default-background);\n",
       "}\n",
       "\n",
       "/* On hover, darken the color of the background */\n",
       "#sk-container-id-3 div.sk-label:hover label.sk-toggleable__label {\n",
       "  color: var(--sklearn-color-text);\n",
       "  background-color: var(--sklearn-color-unfitted-level-2);\n",
       "}\n",
       "\n",
       "/* Label box, darken color on hover, fitted */\n",
       "#sk-container-id-3 div.sk-label.fitted:hover label.sk-toggleable__label.fitted {\n",
       "  color: var(--sklearn-color-text);\n",
       "  background-color: var(--sklearn-color-fitted-level-2);\n",
       "}\n",
       "\n",
       "/* Estimator label */\n",
       "\n",
       "#sk-container-id-3 div.sk-label label {\n",
       "  font-family: monospace;\n",
       "  font-weight: bold;\n",
       "  display: inline-block;\n",
       "  line-height: 1.2em;\n",
       "}\n",
       "\n",
       "#sk-container-id-3 div.sk-label-container {\n",
       "  text-align: center;\n",
       "}\n",
       "\n",
       "/* Estimator-specific */\n",
       "#sk-container-id-3 div.sk-estimator {\n",
       "  font-family: monospace;\n",
       "  border: 1px dotted var(--sklearn-color-border-box);\n",
       "  border-radius: 0.25em;\n",
       "  box-sizing: border-box;\n",
       "  margin-bottom: 0.5em;\n",
       "  /* unfitted */\n",
       "  background-color: var(--sklearn-color-unfitted-level-0);\n",
       "}\n",
       "\n",
       "#sk-container-id-3 div.sk-estimator.fitted {\n",
       "  /* fitted */\n",
       "  background-color: var(--sklearn-color-fitted-level-0);\n",
       "}\n",
       "\n",
       "/* on hover */\n",
       "#sk-container-id-3 div.sk-estimator:hover {\n",
       "  /* unfitted */\n",
       "  background-color: var(--sklearn-color-unfitted-level-2);\n",
       "}\n",
       "\n",
       "#sk-container-id-3 div.sk-estimator.fitted:hover {\n",
       "  /* fitted */\n",
       "  background-color: var(--sklearn-color-fitted-level-2);\n",
       "}\n",
       "\n",
       "/* Specification for estimator info (e.g. \"i\" and \"?\") */\n",
       "\n",
       "/* Common style for \"i\" and \"?\" */\n",
       "\n",
       ".sk-estimator-doc-link,\n",
       "a:link.sk-estimator-doc-link,\n",
       "a:visited.sk-estimator-doc-link {\n",
       "  float: right;\n",
       "  font-size: smaller;\n",
       "  line-height: 1em;\n",
       "  font-family: monospace;\n",
       "  background-color: var(--sklearn-color-background);\n",
       "  border-radius: 1em;\n",
       "  height: 1em;\n",
       "  width: 1em;\n",
       "  text-decoration: none !important;\n",
       "  margin-left: 0.5em;\n",
       "  text-align: center;\n",
       "  /* unfitted */\n",
       "  border: var(--sklearn-color-unfitted-level-1) 1pt solid;\n",
       "  color: var(--sklearn-color-unfitted-level-1);\n",
       "}\n",
       "\n",
       ".sk-estimator-doc-link.fitted,\n",
       "a:link.sk-estimator-doc-link.fitted,\n",
       "a:visited.sk-estimator-doc-link.fitted {\n",
       "  /* fitted */\n",
       "  border: var(--sklearn-color-fitted-level-1) 1pt solid;\n",
       "  color: var(--sklearn-color-fitted-level-1);\n",
       "}\n",
       "\n",
       "/* On hover */\n",
       "div.sk-estimator:hover .sk-estimator-doc-link:hover,\n",
       ".sk-estimator-doc-link:hover,\n",
       "div.sk-label-container:hover .sk-estimator-doc-link:hover,\n",
       ".sk-estimator-doc-link:hover {\n",
       "  /* unfitted */\n",
       "  background-color: var(--sklearn-color-unfitted-level-3);\n",
       "  color: var(--sklearn-color-background);\n",
       "  text-decoration: none;\n",
       "}\n",
       "\n",
       "div.sk-estimator.fitted:hover .sk-estimator-doc-link.fitted:hover,\n",
       ".sk-estimator-doc-link.fitted:hover,\n",
       "div.sk-label-container:hover .sk-estimator-doc-link.fitted:hover,\n",
       ".sk-estimator-doc-link.fitted:hover {\n",
       "  /* fitted */\n",
       "  background-color: var(--sklearn-color-fitted-level-3);\n",
       "  color: var(--sklearn-color-background);\n",
       "  text-decoration: none;\n",
       "}\n",
       "\n",
       "/* Span, style for the box shown on hovering the info icon */\n",
       ".sk-estimator-doc-link span {\n",
       "  display: none;\n",
       "  z-index: 9999;\n",
       "  position: relative;\n",
       "  font-weight: normal;\n",
       "  right: .2ex;\n",
       "  padding: .5ex;\n",
       "  margin: .5ex;\n",
       "  width: min-content;\n",
       "  min-width: 20ex;\n",
       "  max-width: 50ex;\n",
       "  color: var(--sklearn-color-text);\n",
       "  box-shadow: 2pt 2pt 4pt #999;\n",
       "  /* unfitted */\n",
       "  background: var(--sklearn-color-unfitted-level-0);\n",
       "  border: .5pt solid var(--sklearn-color-unfitted-level-3);\n",
       "}\n",
       "\n",
       ".sk-estimator-doc-link.fitted span {\n",
       "  /* fitted */\n",
       "  background: var(--sklearn-color-fitted-level-0);\n",
       "  border: var(--sklearn-color-fitted-level-3);\n",
       "}\n",
       "\n",
       ".sk-estimator-doc-link:hover span {\n",
       "  display: block;\n",
       "}\n",
       "\n",
       "/* \"?\"-specific style due to the `<a>` HTML tag */\n",
       "\n",
       "#sk-container-id-3 a.estimator_doc_link {\n",
       "  float: right;\n",
       "  font-size: 1rem;\n",
       "  line-height: 1em;\n",
       "  font-family: monospace;\n",
       "  background-color: var(--sklearn-color-background);\n",
       "  border-radius: 1rem;\n",
       "  height: 1rem;\n",
       "  width: 1rem;\n",
       "  text-decoration: none;\n",
       "  /* unfitted */\n",
       "  color: var(--sklearn-color-unfitted-level-1);\n",
       "  border: var(--sklearn-color-unfitted-level-1) 1pt solid;\n",
       "}\n",
       "\n",
       "#sk-container-id-3 a.estimator_doc_link.fitted {\n",
       "  /* fitted */\n",
       "  border: var(--sklearn-color-fitted-level-1) 1pt solid;\n",
       "  color: var(--sklearn-color-fitted-level-1);\n",
       "}\n",
       "\n",
       "/* On hover */\n",
       "#sk-container-id-3 a.estimator_doc_link:hover {\n",
       "  /* unfitted */\n",
       "  background-color: var(--sklearn-color-unfitted-level-3);\n",
       "  color: var(--sklearn-color-background);\n",
       "  text-decoration: none;\n",
       "}\n",
       "\n",
       "#sk-container-id-3 a.estimator_doc_link.fitted:hover {\n",
       "  /* fitted */\n",
       "  background-color: var(--sklearn-color-fitted-level-3);\n",
       "}\n",
       "</style><div id=\"sk-container-id-3\" class=\"sk-top-container\"><div class=\"sk-text-repr-fallback\"><pre>RandomForestClassifier(random_state=42)</pre><b>In a Jupyter environment, please rerun this cell to show the HTML representation or trust the notebook. <br />On GitHub, the HTML representation is unable to render, please try loading this page with nbviewer.org.</b></div><div class=\"sk-container\" hidden><div class=\"sk-item\"><div class=\"sk-estimator fitted sk-toggleable\"><input class=\"sk-toggleable__control sk-hidden--visually\" id=\"sk-estimator-id-3\" type=\"checkbox\" checked><label for=\"sk-estimator-id-3\" class=\"sk-toggleable__label fitted sk-toggleable__label-arrow\"><div><div>RandomForestClassifier</div></div><div><a class=\"sk-estimator-doc-link fitted\" rel=\"noreferrer\" target=\"_blank\" href=\"https://scikit-learn.org/1.6/modules/generated/sklearn.ensemble.RandomForestClassifier.html\">?<span>Documentation for RandomForestClassifier</span></a><span class=\"sk-estimator-doc-link fitted\">i<span>Fitted</span></span></div></label><div class=\"sk-toggleable__content fitted\"><pre>RandomForestClassifier(random_state=42)</pre></div> </div></div></div></div>"
      ],
      "text/plain": [
       "RandomForestClassifier(random_state=42)"
      ]
     },
     "execution_count": 85,
     "metadata": {},
     "output_type": "execute_result"
    }
   ],
   "source": [
    "# Train a RandomForestClassifier\n",
    "clf = RandomForestClassifier(n_estimators=100, random_state=42)\n",
    "clf.fit(X_train, y_train)"
   ]
  },
  {
   "cell_type": "code",
   "execution_count": 86,
   "id": "4127bc22",
   "metadata": {},
   "outputs": [
    {
     "name": "stdout",
     "output_type": "stream",
     "text": [
      "Instance to Explain: [5.4 3.4 1.5 0.4]\n",
      "[('petal length (cm) <= 1.50', -0.19080096663492202), ('0.30 < petal width (cm) <= 1.30', 0.17432100424149188), ('5.10 < sepal length (cm) <= 5.75', 0.019174878581901263), ('3.00 < sepal width (cm) <= 3.40', 0.0057395939364614365)]\n"
     ]
    }
   ],
   "source": [
    "from sklearn.datasets import load_iris\n",
    "from sklearn.ensemble import RandomForestClassifier\n",
    "from sklearn.model_selection import train_test_split\n",
    "from lime.lime_tabular import LimeTabularExplainer\n",
    "\n",
    "data = load_iris()\n",
    "X = pd.DataFrame(data.data, columns=data.feature_names)\n",
    "y = pd.Series(data.target)  # classes: 0, 1, 2\n",
    "\n",
    "# Split data into training and testing sets\n",
    "X_train, X_test, y_train, y_test = train_test_split(X, y, test_size=0.2, random_state=42)\n",
    "\n",
    "# Train a new RandomForestClassifier on the Iris dataset\n",
    "clf_iris = RandomForestClassifier(n_estimators=100, random_state=42)\n",
    "clf_iris.fit(X_train, y_train)\n",
    "\n",
    "# Ensure predict_proba returns proper output\n",
    "def modified_predict_proba(X_input):\n",
    "    proba = clf_iris.predict_proba(X_input)\n",
    "    if proba.shape[1] == 1:  # Handle single-class probability output\n",
    "        proba = np.hstack([proba, 1 - proba])\n",
    "    return proba\n",
    "\n",
    "# Initialize LIME Explainer\n",
    "explainer = LimeTabularExplainer(\n",
    "    training_data=X_train.values,\n",
    "    feature_names=list(X_train.columns),\n",
    "    class_names=[\"Category_\" + str(cls) for cls in np.unique(y_train)],\n",
    "    mode='classification'\n",
    ")\n",
    "\n",
    "# Pick an instance to explain (for example, instance at index 5)\n",
    "i = 5\n",
    "instance = X_test.iloc[i].values  # 1-d array representing a single instance\n",
    "\n",
    "print(\"Instance to Explain:\", instance)\n",
    "\n",
    "# Generate the explanation using our modified_predict_proba function\n",
    "exp = explainer.explain_instance(\n",
    "    data_row=instance,\n",
    "    predict_fn=modified_predict_proba,\n",
    "    num_features=4\n",
    ")\n",
    "# Print textual explanation\n",
    "print(exp.as_list())\n"
   ]
  },
  {
   "cell_type": "markdown",
   "id": "01951617",
   "metadata": {},
   "source": [
    "### Interactive Query Prediction"
   ]
  },
  {
   "cell_type": "markdown",
   "id": "c04f044d",
   "metadata": {},
   "source": [
    "This section allows users to input their own student queries and instantly receive predictions about the query category, response flag, and estimated response time. By leveraging the trained machine learning model, the system provides real-time feedback and demonstrates how automated query classification can enhance student support services. Simply enter a sample query to see the model in action!"
   ]
  },
  {
   "cell_type": "code",
   "execution_count": 87,
   "id": "16ba114c",
   "metadata": {},
   "outputs": [
    {
     "data": {
      "text/html": [
       "<div>\n",
       "<style scoped>\n",
       "    .dataframe tbody tr th:only-of-type {\n",
       "        vertical-align: middle;\n",
       "    }\n",
       "\n",
       "    .dataframe tbody tr th {\n",
       "        vertical-align: top;\n",
       "    }\n",
       "\n",
       "    .dataframe thead th {\n",
       "        text-align: right;\n",
       "    }\n",
       "</style>\n",
       "<table border=\"1\" class=\"dataframe\">\n",
       "  <thead>\n",
       "    <tr style=\"text-align: right;\">\n",
       "      <th></th>\n",
       "      <th>Query_ID</th>\n",
       "      <th>Timestamp</th>\n",
       "      <th>Student_ID</th>\n",
       "      <th>Query_Text</th>\n",
       "      <th>Query_Category</th>\n",
       "      <th>Satisfaction_Score</th>\n",
       "      <th>Response_Time</th>\n",
       "      <th>Resolved_Flag</th>\n",
       "      <th>Cluster</th>\n",
       "    </tr>\n",
       "  </thead>\n",
       "  <tbody>\n",
       "    <tr>\n",
       "      <th>0</th>\n",
       "      <td>1</td>\n",
       "      <td>2025-04-01 09:05:00</td>\n",
       "      <td>1069</td>\n",
       "      <td>What is the deadline for fee payment?</td>\n",
       "      <td>3</td>\n",
       "      <td>1.033198</td>\n",
       "      <td>-0.958097</td>\n",
       "      <td>0</td>\n",
       "      <td>2</td>\n",
       "    </tr>\n",
       "    <tr>\n",
       "      <th>1</th>\n",
       "      <td>2</td>\n",
       "      <td>2025-04-01 09:10:00</td>\n",
       "      <td>1021</td>\n",
       "      <td>How can I get a transcript?</td>\n",
       "      <td>1</td>\n",
       "      <td>-0.166601</td>\n",
       "      <td>-1.665603</td>\n",
       "      <td>0</td>\n",
       "      <td>0</td>\n",
       "    </tr>\n",
       "    <tr>\n",
       "      <th>2</th>\n",
       "      <td>3</td>\n",
       "      <td>2025-04-01 09:15:00</td>\n",
       "      <td>1060</td>\n",
       "      <td>I need help with course selection.</td>\n",
       "      <td>1</td>\n",
       "      <td>0.690398</td>\n",
       "      <td>-0.452736</td>\n",
       "      <td>1</td>\n",
       "      <td>2</td>\n",
       "    </tr>\n",
       "    <tr>\n",
       "      <th>3</th>\n",
       "      <td>4</td>\n",
       "      <td>2025-04-01 09:20:00</td>\n",
       "      <td>1057</td>\n",
       "      <td>How can I get a transcript?</td>\n",
       "      <td>1</td>\n",
       "      <td>-0.509400</td>\n",
       "      <td>1.366564</td>\n",
       "      <td>1</td>\n",
       "      <td>1</td>\n",
       "    </tr>\n",
       "    <tr>\n",
       "      <th>4</th>\n",
       "      <td>5</td>\n",
       "      <td>2025-04-01 09:25:00</td>\n",
       "      <td>1073</td>\n",
       "      <td>My grade has not been updated.</td>\n",
       "      <td>0</td>\n",
       "      <td>1.375997</td>\n",
       "      <td>1.770853</td>\n",
       "      <td>0</td>\n",
       "      <td>1</td>\n",
       "    </tr>\n",
       "    <tr>\n",
       "      <th>...</th>\n",
       "      <td>...</td>\n",
       "      <td>...</td>\n",
       "      <td>...</td>\n",
       "      <td>...</td>\n",
       "      <td>...</td>\n",
       "      <td>...</td>\n",
       "      <td>...</td>\n",
       "      <td>...</td>\n",
       "      <td>...</td>\n",
       "    </tr>\n",
       "    <tr>\n",
       "      <th>1495</th>\n",
       "      <td>1496</td>\n",
       "      <td>2025-04-06 13:40:00</td>\n",
       "      <td>1033</td>\n",
       "      <td>I forgot my password, need assistance.</td>\n",
       "      <td>2</td>\n",
       "      <td>-1.023599</td>\n",
       "      <td>0.254769</td>\n",
       "      <td>0</td>\n",
       "      <td>0</td>\n",
       "    </tr>\n",
       "    <tr>\n",
       "      <th>1496</th>\n",
       "      <td>1497</td>\n",
       "      <td>2025-04-06 13:45:00</td>\n",
       "      <td>1098</td>\n",
       "      <td>When is the semester starting?</td>\n",
       "      <td>1</td>\n",
       "      <td>-1.023599</td>\n",
       "      <td>0.962275</td>\n",
       "      <td>1</td>\n",
       "      <td>1</td>\n",
       "    </tr>\n",
       "    <tr>\n",
       "      <th>1497</th>\n",
       "      <td>1498</td>\n",
       "      <td>2025-04-06 13:50:00</td>\n",
       "      <td>1006</td>\n",
       "      <td>Website shows error 404.</td>\n",
       "      <td>2</td>\n",
       "      <td>-1.023599</td>\n",
       "      <td>0.052625</td>\n",
       "      <td>0</td>\n",
       "      <td>0</td>\n",
       "    </tr>\n",
       "    <tr>\n",
       "      <th>1498</th>\n",
       "      <td>1499</td>\n",
       "      <td>2025-04-06 13:55:00</td>\n",
       "      <td>1034</td>\n",
       "      <td>How can I get a transcript?</td>\n",
       "      <td>0</td>\n",
       "      <td>1.547397</td>\n",
       "      <td>0.456914</td>\n",
       "      <td>0</td>\n",
       "      <td>2</td>\n",
       "    </tr>\n",
       "    <tr>\n",
       "      <th>1499</th>\n",
       "      <td>1500</td>\n",
       "      <td>2025-04-06 14:00:00</td>\n",
       "      <td>1065</td>\n",
       "      <td>How can I get a transcript?</td>\n",
       "      <td>1</td>\n",
       "      <td>0.176199</td>\n",
       "      <td>-0.250592</td>\n",
       "      <td>0</td>\n",
       "      <td>2</td>\n",
       "    </tr>\n",
       "  </tbody>\n",
       "</table>\n",
       "<p>1500 rows × 9 columns</p>\n",
       "</div>"
      ],
      "text/plain": [
       "      Query_ID            Timestamp  Student_ID  \\\n",
       "0            1  2025-04-01 09:05:00        1069   \n",
       "1            2  2025-04-01 09:10:00        1021   \n",
       "2            3  2025-04-01 09:15:00        1060   \n",
       "3            4  2025-04-01 09:20:00        1057   \n",
       "4            5  2025-04-01 09:25:00        1073   \n",
       "...        ...                  ...         ...   \n",
       "1495      1496  2025-04-06 13:40:00        1033   \n",
       "1496      1497  2025-04-06 13:45:00        1098   \n",
       "1497      1498  2025-04-06 13:50:00        1006   \n",
       "1498      1499  2025-04-06 13:55:00        1034   \n",
       "1499      1500  2025-04-06 14:00:00        1065   \n",
       "\n",
       "                                  Query_Text  Query_Category  \\\n",
       "0      What is the deadline for fee payment?               3   \n",
       "1                How can I get a transcript?               1   \n",
       "2         I need help with course selection.               1   \n",
       "3                How can I get a transcript?               1   \n",
       "4             My grade has not been updated.               0   \n",
       "...                                      ...             ...   \n",
       "1495  I forgot my password, need assistance.               2   \n",
       "1496          When is the semester starting?               1   \n",
       "1497                Website shows error 404.               2   \n",
       "1498             How can I get a transcript?               0   \n",
       "1499             How can I get a transcript?               1   \n",
       "\n",
       "      Satisfaction_Score  Response_Time  Resolved_Flag  Cluster  \n",
       "0               1.033198      -0.958097              0        2  \n",
       "1              -0.166601      -1.665603              0        0  \n",
       "2               0.690398      -0.452736              1        2  \n",
       "3              -0.509400       1.366564              1        1  \n",
       "4               1.375997       1.770853              0        1  \n",
       "...                  ...            ...            ...      ...  \n",
       "1495           -1.023599       0.254769              0        0  \n",
       "1496           -1.023599       0.962275              1        1  \n",
       "1497           -1.023599       0.052625              0        0  \n",
       "1498            1.547397       0.456914              0        2  \n",
       "1499            0.176199      -0.250592              0        2  \n",
       "\n",
       "[1500 rows x 9 columns]"
      ]
     },
     "execution_count": 87,
     "metadata": {},
     "output_type": "execute_result"
    }
   ],
   "source": [
    "stu_query"
   ]
  },
  {
   "cell_type": "markdown",
   "id": "a5725a4f",
   "metadata": {},
   "source": [
    "#### Below are sample queries that are ***present*** in the **dataset**. You can use these to test the model:\n",
    "\n",
    "- What is the deadline for fee payment?\n",
    "- How can I get a transcript?\n",
    "- I need help with course selection.\n",
    "- My grade has not been updated.\n",
    "- How do I register for courses?\n",
    "- When is the semester starting?\n",
    "- I cannot access my student portal.\n",
    "- Is there any scholarship available?\n",
    "- Website shows error 404.\n",
    "- I forgot my password, need assistance.\n",
    "\n",
    "***Feel free to use these queries to evaluate the prediction and classification capabilities of the model.*** \n",
    "```"
   ]
  },
  {
   "cell_type": "code",
   "execution_count": 88,
   "id": "8b1316bc",
   "metadata": {},
   "outputs": [
    {
     "data": {
      "text/html": [
       "<style>#sk-container-id-4 {\n",
       "  /* Definition of color scheme common for light and dark mode */\n",
       "  --sklearn-color-text: #000;\n",
       "  --sklearn-color-text-muted: #666;\n",
       "  --sklearn-color-line: gray;\n",
       "  /* Definition of color scheme for unfitted estimators */\n",
       "  --sklearn-color-unfitted-level-0: #fff5e6;\n",
       "  --sklearn-color-unfitted-level-1: #f6e4d2;\n",
       "  --sklearn-color-unfitted-level-2: #ffe0b3;\n",
       "  --sklearn-color-unfitted-level-3: chocolate;\n",
       "  /* Definition of color scheme for fitted estimators */\n",
       "  --sklearn-color-fitted-level-0: #f0f8ff;\n",
       "  --sklearn-color-fitted-level-1: #d4ebff;\n",
       "  --sklearn-color-fitted-level-2: #b3dbfd;\n",
       "  --sklearn-color-fitted-level-3: cornflowerblue;\n",
       "\n",
       "  /* Specific color for light theme */\n",
       "  --sklearn-color-text-on-default-background: var(--sg-text-color, var(--theme-code-foreground, var(--jp-content-font-color1, black)));\n",
       "  --sklearn-color-background: var(--sg-background-color, var(--theme-background, var(--jp-layout-color0, white)));\n",
       "  --sklearn-color-border-box: var(--sg-text-color, var(--theme-code-foreground, var(--jp-content-font-color1, black)));\n",
       "  --sklearn-color-icon: #696969;\n",
       "\n",
       "  @media (prefers-color-scheme: dark) {\n",
       "    /* Redefinition of color scheme for dark theme */\n",
       "    --sklearn-color-text-on-default-background: var(--sg-text-color, var(--theme-code-foreground, var(--jp-content-font-color1, white)));\n",
       "    --sklearn-color-background: var(--sg-background-color, var(--theme-background, var(--jp-layout-color0, #111)));\n",
       "    --sklearn-color-border-box: var(--sg-text-color, var(--theme-code-foreground, var(--jp-content-font-color1, white)));\n",
       "    --sklearn-color-icon: #878787;\n",
       "  }\n",
       "}\n",
       "\n",
       "#sk-container-id-4 {\n",
       "  color: var(--sklearn-color-text);\n",
       "}\n",
       "\n",
       "#sk-container-id-4 pre {\n",
       "  padding: 0;\n",
       "}\n",
       "\n",
       "#sk-container-id-4 input.sk-hidden--visually {\n",
       "  border: 0;\n",
       "  clip: rect(1px 1px 1px 1px);\n",
       "  clip: rect(1px, 1px, 1px, 1px);\n",
       "  height: 1px;\n",
       "  margin: -1px;\n",
       "  overflow: hidden;\n",
       "  padding: 0;\n",
       "  position: absolute;\n",
       "  width: 1px;\n",
       "}\n",
       "\n",
       "#sk-container-id-4 div.sk-dashed-wrapped {\n",
       "  border: 1px dashed var(--sklearn-color-line);\n",
       "  margin: 0 0.4em 0.5em 0.4em;\n",
       "  box-sizing: border-box;\n",
       "  padding-bottom: 0.4em;\n",
       "  background-color: var(--sklearn-color-background);\n",
       "}\n",
       "\n",
       "#sk-container-id-4 div.sk-container {\n",
       "  /* jupyter's `normalize.less` sets `[hidden] { display: none; }`\n",
       "     but bootstrap.min.css set `[hidden] { display: none !important; }`\n",
       "     so we also need the `!important` here to be able to override the\n",
       "     default hidden behavior on the sphinx rendered scikit-learn.org.\n",
       "     See: https://github.com/scikit-learn/scikit-learn/issues/21755 */\n",
       "  display: inline-block !important;\n",
       "  position: relative;\n",
       "}\n",
       "\n",
       "#sk-container-id-4 div.sk-text-repr-fallback {\n",
       "  display: none;\n",
       "}\n",
       "\n",
       "div.sk-parallel-item,\n",
       "div.sk-serial,\n",
       "div.sk-item {\n",
       "  /* draw centered vertical line to link estimators */\n",
       "  background-image: linear-gradient(var(--sklearn-color-text-on-default-background), var(--sklearn-color-text-on-default-background));\n",
       "  background-size: 2px 100%;\n",
       "  background-repeat: no-repeat;\n",
       "  background-position: center center;\n",
       "}\n",
       "\n",
       "/* Parallel-specific style estimator block */\n",
       "\n",
       "#sk-container-id-4 div.sk-parallel-item::after {\n",
       "  content: \"\";\n",
       "  width: 100%;\n",
       "  border-bottom: 2px solid var(--sklearn-color-text-on-default-background);\n",
       "  flex-grow: 1;\n",
       "}\n",
       "\n",
       "#sk-container-id-4 div.sk-parallel {\n",
       "  display: flex;\n",
       "  align-items: stretch;\n",
       "  justify-content: center;\n",
       "  background-color: var(--sklearn-color-background);\n",
       "  position: relative;\n",
       "}\n",
       "\n",
       "#sk-container-id-4 div.sk-parallel-item {\n",
       "  display: flex;\n",
       "  flex-direction: column;\n",
       "}\n",
       "\n",
       "#sk-container-id-4 div.sk-parallel-item:first-child::after {\n",
       "  align-self: flex-end;\n",
       "  width: 50%;\n",
       "}\n",
       "\n",
       "#sk-container-id-4 div.sk-parallel-item:last-child::after {\n",
       "  align-self: flex-start;\n",
       "  width: 50%;\n",
       "}\n",
       "\n",
       "#sk-container-id-4 div.sk-parallel-item:only-child::after {\n",
       "  width: 0;\n",
       "}\n",
       "\n",
       "/* Serial-specific style estimator block */\n",
       "\n",
       "#sk-container-id-4 div.sk-serial {\n",
       "  display: flex;\n",
       "  flex-direction: column;\n",
       "  align-items: center;\n",
       "  background-color: var(--sklearn-color-background);\n",
       "  padding-right: 1em;\n",
       "  padding-left: 1em;\n",
       "}\n",
       "\n",
       "\n",
       "/* Toggleable style: style used for estimator/Pipeline/ColumnTransformer box that is\n",
       "clickable and can be expanded/collapsed.\n",
       "- Pipeline and ColumnTransformer use this feature and define the default style\n",
       "- Estimators will overwrite some part of the style using the `sk-estimator` class\n",
       "*/\n",
       "\n",
       "/* Pipeline and ColumnTransformer style (default) */\n",
       "\n",
       "#sk-container-id-4 div.sk-toggleable {\n",
       "  /* Default theme specific background. It is overwritten whether we have a\n",
       "  specific estimator or a Pipeline/ColumnTransformer */\n",
       "  background-color: var(--sklearn-color-background);\n",
       "}\n",
       "\n",
       "/* Toggleable label */\n",
       "#sk-container-id-4 label.sk-toggleable__label {\n",
       "  cursor: pointer;\n",
       "  display: flex;\n",
       "  width: 100%;\n",
       "  margin-bottom: 0;\n",
       "  padding: 0.5em;\n",
       "  box-sizing: border-box;\n",
       "  text-align: center;\n",
       "  align-items: start;\n",
       "  justify-content: space-between;\n",
       "  gap: 0.5em;\n",
       "}\n",
       "\n",
       "#sk-container-id-4 label.sk-toggleable__label .caption {\n",
       "  font-size: 0.6rem;\n",
       "  font-weight: lighter;\n",
       "  color: var(--sklearn-color-text-muted);\n",
       "}\n",
       "\n",
       "#sk-container-id-4 label.sk-toggleable__label-arrow:before {\n",
       "  /* Arrow on the left of the label */\n",
       "  content: \"▸\";\n",
       "  float: left;\n",
       "  margin-right: 0.25em;\n",
       "  color: var(--sklearn-color-icon);\n",
       "}\n",
       "\n",
       "#sk-container-id-4 label.sk-toggleable__label-arrow:hover:before {\n",
       "  color: var(--sklearn-color-text);\n",
       "}\n",
       "\n",
       "/* Toggleable content - dropdown */\n",
       "\n",
       "#sk-container-id-4 div.sk-toggleable__content {\n",
       "  max-height: 0;\n",
       "  max-width: 0;\n",
       "  overflow: hidden;\n",
       "  text-align: left;\n",
       "  /* unfitted */\n",
       "  background-color: var(--sklearn-color-unfitted-level-0);\n",
       "}\n",
       "\n",
       "#sk-container-id-4 div.sk-toggleable__content.fitted {\n",
       "  /* fitted */\n",
       "  background-color: var(--sklearn-color-fitted-level-0);\n",
       "}\n",
       "\n",
       "#sk-container-id-4 div.sk-toggleable__content pre {\n",
       "  margin: 0.2em;\n",
       "  border-radius: 0.25em;\n",
       "  color: var(--sklearn-color-text);\n",
       "  /* unfitted */\n",
       "  background-color: var(--sklearn-color-unfitted-level-0);\n",
       "}\n",
       "\n",
       "#sk-container-id-4 div.sk-toggleable__content.fitted pre {\n",
       "  /* unfitted */\n",
       "  background-color: var(--sklearn-color-fitted-level-0);\n",
       "}\n",
       "\n",
       "#sk-container-id-4 input.sk-toggleable__control:checked~div.sk-toggleable__content {\n",
       "  /* Expand drop-down */\n",
       "  max-height: 200px;\n",
       "  max-width: 100%;\n",
       "  overflow: auto;\n",
       "}\n",
       "\n",
       "#sk-container-id-4 input.sk-toggleable__control:checked~label.sk-toggleable__label-arrow:before {\n",
       "  content: \"▾\";\n",
       "}\n",
       "\n",
       "/* Pipeline/ColumnTransformer-specific style */\n",
       "\n",
       "#sk-container-id-4 div.sk-label input.sk-toggleable__control:checked~label.sk-toggleable__label {\n",
       "  color: var(--sklearn-color-text);\n",
       "  background-color: var(--sklearn-color-unfitted-level-2);\n",
       "}\n",
       "\n",
       "#sk-container-id-4 div.sk-label.fitted input.sk-toggleable__control:checked~label.sk-toggleable__label {\n",
       "  background-color: var(--sklearn-color-fitted-level-2);\n",
       "}\n",
       "\n",
       "/* Estimator-specific style */\n",
       "\n",
       "/* Colorize estimator box */\n",
       "#sk-container-id-4 div.sk-estimator input.sk-toggleable__control:checked~label.sk-toggleable__label {\n",
       "  /* unfitted */\n",
       "  background-color: var(--sklearn-color-unfitted-level-2);\n",
       "}\n",
       "\n",
       "#sk-container-id-4 div.sk-estimator.fitted input.sk-toggleable__control:checked~label.sk-toggleable__label {\n",
       "  /* fitted */\n",
       "  background-color: var(--sklearn-color-fitted-level-2);\n",
       "}\n",
       "\n",
       "#sk-container-id-4 div.sk-label label.sk-toggleable__label,\n",
       "#sk-container-id-4 div.sk-label label {\n",
       "  /* The background is the default theme color */\n",
       "  color: var(--sklearn-color-text-on-default-background);\n",
       "}\n",
       "\n",
       "/* On hover, darken the color of the background */\n",
       "#sk-container-id-4 div.sk-label:hover label.sk-toggleable__label {\n",
       "  color: var(--sklearn-color-text);\n",
       "  background-color: var(--sklearn-color-unfitted-level-2);\n",
       "}\n",
       "\n",
       "/* Label box, darken color on hover, fitted */\n",
       "#sk-container-id-4 div.sk-label.fitted:hover label.sk-toggleable__label.fitted {\n",
       "  color: var(--sklearn-color-text);\n",
       "  background-color: var(--sklearn-color-fitted-level-2);\n",
       "}\n",
       "\n",
       "/* Estimator label */\n",
       "\n",
       "#sk-container-id-4 div.sk-label label {\n",
       "  font-family: monospace;\n",
       "  font-weight: bold;\n",
       "  display: inline-block;\n",
       "  line-height: 1.2em;\n",
       "}\n",
       "\n",
       "#sk-container-id-4 div.sk-label-container {\n",
       "  text-align: center;\n",
       "}\n",
       "\n",
       "/* Estimator-specific */\n",
       "#sk-container-id-4 div.sk-estimator {\n",
       "  font-family: monospace;\n",
       "  border: 1px dotted var(--sklearn-color-border-box);\n",
       "  border-radius: 0.25em;\n",
       "  box-sizing: border-box;\n",
       "  margin-bottom: 0.5em;\n",
       "  /* unfitted */\n",
       "  background-color: var(--sklearn-color-unfitted-level-0);\n",
       "}\n",
       "\n",
       "#sk-container-id-4 div.sk-estimator.fitted {\n",
       "  /* fitted */\n",
       "  background-color: var(--sklearn-color-fitted-level-0);\n",
       "}\n",
       "\n",
       "/* on hover */\n",
       "#sk-container-id-4 div.sk-estimator:hover {\n",
       "  /* unfitted */\n",
       "  background-color: var(--sklearn-color-unfitted-level-2);\n",
       "}\n",
       "\n",
       "#sk-container-id-4 div.sk-estimator.fitted:hover {\n",
       "  /* fitted */\n",
       "  background-color: var(--sklearn-color-fitted-level-2);\n",
       "}\n",
       "\n",
       "/* Specification for estimator info (e.g. \"i\" and \"?\") */\n",
       "\n",
       "/* Common style for \"i\" and \"?\" */\n",
       "\n",
       ".sk-estimator-doc-link,\n",
       "a:link.sk-estimator-doc-link,\n",
       "a:visited.sk-estimator-doc-link {\n",
       "  float: right;\n",
       "  font-size: smaller;\n",
       "  line-height: 1em;\n",
       "  font-family: monospace;\n",
       "  background-color: var(--sklearn-color-background);\n",
       "  border-radius: 1em;\n",
       "  height: 1em;\n",
       "  width: 1em;\n",
       "  text-decoration: none !important;\n",
       "  margin-left: 0.5em;\n",
       "  text-align: center;\n",
       "  /* unfitted */\n",
       "  border: var(--sklearn-color-unfitted-level-1) 1pt solid;\n",
       "  color: var(--sklearn-color-unfitted-level-1);\n",
       "}\n",
       "\n",
       ".sk-estimator-doc-link.fitted,\n",
       "a:link.sk-estimator-doc-link.fitted,\n",
       "a:visited.sk-estimator-doc-link.fitted {\n",
       "  /* fitted */\n",
       "  border: var(--sklearn-color-fitted-level-1) 1pt solid;\n",
       "  color: var(--sklearn-color-fitted-level-1);\n",
       "}\n",
       "\n",
       "/* On hover */\n",
       "div.sk-estimator:hover .sk-estimator-doc-link:hover,\n",
       ".sk-estimator-doc-link:hover,\n",
       "div.sk-label-container:hover .sk-estimator-doc-link:hover,\n",
       ".sk-estimator-doc-link:hover {\n",
       "  /* unfitted */\n",
       "  background-color: var(--sklearn-color-unfitted-level-3);\n",
       "  color: var(--sklearn-color-background);\n",
       "  text-decoration: none;\n",
       "}\n",
       "\n",
       "div.sk-estimator.fitted:hover .sk-estimator-doc-link.fitted:hover,\n",
       ".sk-estimator-doc-link.fitted:hover,\n",
       "div.sk-label-container:hover .sk-estimator-doc-link.fitted:hover,\n",
       ".sk-estimator-doc-link.fitted:hover {\n",
       "  /* fitted */\n",
       "  background-color: var(--sklearn-color-fitted-level-3);\n",
       "  color: var(--sklearn-color-background);\n",
       "  text-decoration: none;\n",
       "}\n",
       "\n",
       "/* Span, style for the box shown on hovering the info icon */\n",
       ".sk-estimator-doc-link span {\n",
       "  display: none;\n",
       "  z-index: 9999;\n",
       "  position: relative;\n",
       "  font-weight: normal;\n",
       "  right: .2ex;\n",
       "  padding: .5ex;\n",
       "  margin: .5ex;\n",
       "  width: min-content;\n",
       "  min-width: 20ex;\n",
       "  max-width: 50ex;\n",
       "  color: var(--sklearn-color-text);\n",
       "  box-shadow: 2pt 2pt 4pt #999;\n",
       "  /* unfitted */\n",
       "  background: var(--sklearn-color-unfitted-level-0);\n",
       "  border: .5pt solid var(--sklearn-color-unfitted-level-3);\n",
       "}\n",
       "\n",
       ".sk-estimator-doc-link.fitted span {\n",
       "  /* fitted */\n",
       "  background: var(--sklearn-color-fitted-level-0);\n",
       "  border: var(--sklearn-color-fitted-level-3);\n",
       "}\n",
       "\n",
       ".sk-estimator-doc-link:hover span {\n",
       "  display: block;\n",
       "}\n",
       "\n",
       "/* \"?\"-specific style due to the `<a>` HTML tag */\n",
       "\n",
       "#sk-container-id-4 a.estimator_doc_link {\n",
       "  float: right;\n",
       "  font-size: 1rem;\n",
       "  line-height: 1em;\n",
       "  font-family: monospace;\n",
       "  background-color: var(--sklearn-color-background);\n",
       "  border-radius: 1rem;\n",
       "  height: 1rem;\n",
       "  width: 1rem;\n",
       "  text-decoration: none;\n",
       "  /* unfitted */\n",
       "  color: var(--sklearn-color-unfitted-level-1);\n",
       "  border: var(--sklearn-color-unfitted-level-1) 1pt solid;\n",
       "}\n",
       "\n",
       "#sk-container-id-4 a.estimator_doc_link.fitted {\n",
       "  /* fitted */\n",
       "  border: var(--sklearn-color-fitted-level-1) 1pt solid;\n",
       "  color: var(--sklearn-color-fitted-level-1);\n",
       "}\n",
       "\n",
       "/* On hover */\n",
       "#sk-container-id-4 a.estimator_doc_link:hover {\n",
       "  /* unfitted */\n",
       "  background-color: var(--sklearn-color-unfitted-level-3);\n",
       "  color: var(--sklearn-color-background);\n",
       "  text-decoration: none;\n",
       "}\n",
       "\n",
       "#sk-container-id-4 a.estimator_doc_link.fitted:hover {\n",
       "  /* fitted */\n",
       "  background-color: var(--sklearn-color-fitted-level-3);\n",
       "}\n",
       "</style><div id=\"sk-container-id-4\" class=\"sk-top-container\"><div class=\"sk-text-repr-fallback\"><pre>RandomForestClassifier(random_state=42)</pre><b>In a Jupyter environment, please rerun this cell to show the HTML representation or trust the notebook. <br />On GitHub, the HTML representation is unable to render, please try loading this page with nbviewer.org.</b></div><div class=\"sk-container\" hidden><div class=\"sk-item\"><div class=\"sk-estimator fitted sk-toggleable\"><input class=\"sk-toggleable__control sk-hidden--visually\" id=\"sk-estimator-id-4\" type=\"checkbox\" checked><label for=\"sk-estimator-id-4\" class=\"sk-toggleable__label fitted sk-toggleable__label-arrow\"><div><div>RandomForestClassifier</div></div><div><a class=\"sk-estimator-doc-link fitted\" rel=\"noreferrer\" target=\"_blank\" href=\"https://scikit-learn.org/1.6/modules/generated/sklearn.ensemble.RandomForestClassifier.html\">?<span>Documentation for RandomForestClassifier</span></a><span class=\"sk-estimator-doc-link fitted\">i<span>Fitted</span></span></div></label><div class=\"sk-toggleable__content fitted\"><pre>RandomForestClassifier(random_state=42)</pre></div> </div></div></div></div>"
      ],
      "text/plain": [
       "RandomForestClassifier(random_state=42)"
      ]
     },
     "execution_count": 88,
     "metadata": {},
     "output_type": "execute_result"
    }
   ],
   "source": [
    "# Train the Classifier using existing training_features and training_labels\n",
    "clf = RandomForestClassifier(random_state=42)\n",
    "clf.fit(X_train, y_train)"
   ]
  },
  {
   "cell_type": "markdown",
   "id": "73c41d46",
   "metadata": {},
   "source": [
    "### What is RandomForestClassifier?\n",
    "\n",
    "`RandomForestClassifier` is a machine learning algorithm used for classification tasks. It works by building multiple decision trees and combining their results to make more accurate and stable predictions. Each tree is trained on a random subset of the data, and the final prediction is made by taking a majority vote from all the trees.\n",
    "\n",
    "**Key Points:**\n",
    "- Handles both numerical and categorical data.\n",
    "- Reduces overfitting compared to a single decision tree.\n",
    "- Works well with large datasets and many features.\n",
    "- Provides feature importance scores.\n",
    "\n",
    "**Typical Use Cases:**\n",
    "- Email spam detection\n",
    "- Medical diagnosis\n",
    "- Customer segmentation"
   ]
  },
  {
   "cell_type": "code",
   "execution_count": 91,
   "id": "873ae500",
   "metadata": {},
   "outputs": [
    {
     "name": "stdout",
     "output_type": "stream",
     "text": [
      "Response_Flag column found. Adding values.\n",
      "Shape of training features (X): (1500, 44)\n",
      "Length of training labels (y): 1500\n",
      "Classification Report:\n",
      "              precision    recall  f1-score   support\n",
      "\n",
      "           0       0.35      0.22      0.27        79\n",
      "           1       0.22      0.21      0.21        73\n",
      "           2       0.36      0.27      0.30        79\n",
      "           3       0.24      0.43      0.31        69\n",
      "\n",
      "    accuracy                           0.28       300\n",
      "   macro avg       0.29      0.28      0.27       300\n",
      "weighted avg       0.29      0.28      0.27       300\n",
      "\n",
      "Confusion Matrix:\n",
      "[[17 18 17 27]\n",
      " [15 15 11 32]\n",
      " [ 6 17 21 35]\n",
      " [11 18 10 30]]\n",
      "\n",
      "🔍 Prediction Result:\n",
      "Query: How can I get a transcript?\n",
      "Predicted Category: Academic\n",
      "Response Flag: Yes\n",
      "Response Time: 0.01 seconds\n"
     ]
    }
   ],
   "source": [
    "import time  # For response time calculation\n",
    "from sklearn.feature_extraction.text import TfidfVectorizer\n",
    "from sklearn.metrics import classification_report, confusion_matrix\n",
    "import numpy as np\n",
    "import pandas as pd  # To handle query_data.csv\n",
    "\n",
    "# Define Category Mapping\n",
    "category_mapping = {\n",
    "    0: \"Academic\",\n",
    "    1: \"General\",\n",
    "    2: \"Technical\",\n",
    "    3: \"Financial\"\n",
    "}\n",
    "\n",
    "# Load Data from query_data.csv\n",
    "try:\n",
    "    query_data = pd.read_csv(\"query_data.csv\")  # Ensure the CSV contains columns 'Query_Text', 'Response_Flag'\n",
    "except FileNotFoundError:\n",
    "    print(\"Error: query_data.csv file not found. Proceeding with example data.\")\n",
    "    query_data = pd.DataFrame({\n",
    "        \"Query_Text\": [\"I need help with my course syllabus\", \"What are the library timings?\", \n",
    "                       \"Website shows error 404\", \"What are the fees for admission?\"],\n",
    "        \"Response_Flag\": [\"Yes\", \"Yes\", \"No\", \"Yes\"]\n",
    "    })\n",
    "\n",
    "# Handle missing Response_Flag column\n",
    "if \"Response_Flag\" not in query_data.columns:\n",
    "    print(\"Response_Flag column found. Adding values.\")\n",
    "    query_data[\"Response_Flag\"] = [\"Yes\"] * len(query_data)  # Add default values\n",
    "\n",
    "# Training Data\n",
    "training_texts = query_data[\"Query_Text\"].values.tolist()\n",
    "\n",
    "# Generate labels that match the number of queries\n",
    "training_labels = [0, 1, 2, 3] * (len(training_texts) // 4)  # Repeat labels\n",
    "training_labels = training_labels[:len(training_texts)]  # Ensure labels match the number of samples\n",
    "\n",
    "# Initialize and Train the Vectorizer\n",
    "vectorizer = TfidfVectorizer()\n",
    "vectorizer.fit(training_texts)  # Train the vectorizer on training text\n",
    "\n",
    "# Transform Training Data\n",
    "text_features = vectorizer.transform(training_texts).toarray()\n",
    "satisfaction_scores = np.array([4.0] * len(training_texts)).reshape(-1, 1)  # Simulate satisfaction scores\n",
    "training_features = np.hstack((satisfaction_scores, text_features))  # Combine features\n",
    "\n",
    "# Check dimensions and assert correctness\n",
    "print(\"Shape of training features (X):\", training_features.shape)\n",
    "print(\"Length of training labels (y):\", len(training_labels))\n",
    "assert training_features.shape[0] == len(training_labels), \"Mismatch between features and labels!\"\n",
    "\n",
    "X_train, X_test, y_train, y_test = train_test_split(training_features, training_labels, test_size=0.2, random_state=42)\n",
    "\n",
    "# Retrain the classifier on the new features\n",
    "clf = RandomForestClassifier(random_state=42)\n",
    "clf.fit(X_train, y_train)\n",
    "\n",
    "# Evaluate the Classifier\n",
    "y_pred = clf.predict(X_test)\n",
    "print(\"Classification Report:\")\n",
    "print(classification_report(y_test, y_pred))\n",
    "print(\"Confusion Matrix:\")\n",
    "print(confusion_matrix(y_test, y_pred))\n",
    "\n",
    "# Predict Query Category\n",
    "def predict_query():\n",
    "    query_text = input(\"\\nEnter your student query: \")  # Get query input from user\n",
    "    satisfaction_score = np.array([4.0]).reshape(1, -1)  # Example score reshaped properly\n",
    "    query_text_feature = vectorizer.transform([query_text]).toarray()  # Vectorize input query\n",
    "    query_data_clf = np.hstack((satisfaction_score, query_text_feature))  # Combine features for prediction\n",
    "\n",
    "    # Simulate response time calculation\n",
    "    start_time = time.time()\n",
    "    predicted_category = clf.predict(query_data_clf)[0]  # Predict category\n",
    "    end_time = time.time()\n",
    "    response_time = end_time - start_time  # Calculate response time\n",
    "\n",
    "    # Use Category Mapping\n",
    "    category_name = category_mapping.get(predicted_category, \"Unknown\")\n",
    "    response_flag = query_data[query_data[\"Query_Text\"].str.lower() == query_text.lower()][\"Response_Flag\"].values\n",
    "    response_flag = response_flag[0] if len(response_flag) > 0 else \"No\"  # Default to \"No\" if no match\n",
    "\n",
    "    # Output Results\n",
    "    print(\"\\n🔍 Prediction Result:\")\n",
    "    print(f\"Query: {query_text}\")\n",
    "    print(f\"Predicted Category: {category_name}\")\n",
    "    print(f\"Response Flag: {response_flag}\")\n",
    "    print(f\"Response Time: {response_time:.2f} seconds\")\n",
    "\n",
    "# Call the prediction function\n",
    "predict_query()"
   ]
  }
 ],
 "metadata": {
  "kernelspec": {
   "display_name": "Python 3",
   "language": "python",
   "name": "python3"
  },
  "language_info": {
   "codemirror_mode": {
    "name": "ipython",
    "version": 3
   },
   "file_extension": ".py",
   "mimetype": "text/x-python",
   "name": "python",
   "nbconvert_exporter": "python",
   "pygments_lexer": "ipython3",
   "version": "3.13.3"
  }
 },
 "nbformat": 4,
 "nbformat_minor": 5
}
